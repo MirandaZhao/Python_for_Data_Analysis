{
 "cells": [
  {
   "cell_type": "code",
   "execution_count": 4,
   "id": "8af3ea97",
   "metadata": {},
   "outputs": [],
   "source": [
    "#3.1.1元组\n",
    "#固定长度，不可变的python对象序列。\n",
    "#用逗号分隔序列值。"
   ]
  },
  {
   "cell_type": "code",
   "execution_count": 6,
   "id": "9b11fbfb",
   "metadata": {},
   "outputs": [
    {
     "data": {
      "text/plain": [
       "(4, 0, 2)"
      ]
     },
     "execution_count": 6,
     "metadata": {},
     "output_type": "execute_result"
    }
   ],
   "source": [
    "tuple([4, 0, 2])"
   ]
  },
  {
   "cell_type": "code",
   "execution_count": 8,
   "id": "d8582d3f",
   "metadata": {},
   "outputs": [],
   "source": [
    "tup = tuple('string')"
   ]
  },
  {
   "cell_type": "code",
   "execution_count": 10,
   "id": "629ecfb7",
   "metadata": {},
   "outputs": [
    {
     "data": {
      "text/plain": [
       "('s', 't', 'r', 'i', 'n', 'g')"
      ]
     },
     "execution_count": 10,
     "metadata": {},
     "output_type": "execute_result"
    }
   ],
   "source": [
    "tup"
   ]
  },
  {
   "cell_type": "code",
   "execution_count": 13,
   "id": "1416404c",
   "metadata": {},
   "outputs": [],
   "source": [
    "nested_tup = (4, 5, 6), (7, 8)"
   ]
  },
  {
   "cell_type": "code",
   "execution_count": 15,
   "id": "fa6c1147",
   "metadata": {},
   "outputs": [
    {
     "data": {
      "text/plain": [
       "((4, 5, 6), (7, 8))"
      ]
     },
     "execution_count": 15,
     "metadata": {},
     "output_type": "execute_result"
    }
   ],
   "source": [
    "nested_tup\n",
    "#((4, 5, 6), (7, 8))"
   ]
  },
  {
   "cell_type": "code",
   "execution_count": 17,
   "id": "4cc33bcf",
   "metadata": {},
   "outputs": [
    {
     "data": {
      "text/plain": [
       "(4, 0, 2)"
      ]
     },
     "execution_count": 17,
     "metadata": {},
     "output_type": "execute_result"
    }
   ],
   "source": [
    "#tuple函数将任意序列或迭代器转化为元组：\n",
    "tuple([4, 0, 2])\n",
    "#(4, 0, 2)"
   ]
  },
  {
   "cell_type": "code",
   "execution_count": 19,
   "id": "239f956c",
   "metadata": {},
   "outputs": [
    {
     "data": {
      "text/plain": [
       "'s'"
      ]
     },
     "execution_count": 19,
     "metadata": {},
     "output_type": "execute_result"
    }
   ],
   "source": [
    "tup[0]\n",
    "#'s'"
   ]
  },
  {
   "cell_type": "code",
   "execution_count": 28,
   "id": "417aa8eb",
   "metadata": {},
   "outputs": [
    {
     "data": {
      "text/plain": [
       "True"
      ]
     },
     "execution_count": 28,
     "metadata": {},
     "output_type": "execute_result"
    }
   ],
   "source": [
    "tup = tuple(['foo', [1,2], True])\n",
    "tup[2]\n",
    "#True"
   ]
  },
  {
   "cell_type": "code",
   "execution_count": 23,
   "id": "f31fa5d6",
   "metadata": {},
   "outputs": [
    {
     "ename": "TypeError",
     "evalue": "'tuple' object does not support item assignment",
     "output_type": "error",
     "traceback": [
      "\u001b[1;31m---------------------------------------------------------------------------\u001b[0m",
      "\u001b[1;31mTypeError\u001b[0m                                 Traceback (most recent call last)",
      "Cell \u001b[1;32mIn[23], line 1\u001b[0m\n\u001b[1;32m----> 1\u001b[0m tup[\u001b[38;5;241m2\u001b[39m] \u001b[38;5;241m=\u001b[39m \u001b[38;5;28;01mFalse\u001b[39;00m\n",
      "\u001b[1;31mTypeError\u001b[0m: 'tuple' object does not support item assignment"
     ]
    }
   ],
   "source": [
    "#tup是无法被修改的：\n",
    "tup[2] = False\n",
    "\n",
    "# ---------------------------------------------------------------------------\n",
    "# TypeError                                 Traceback (most recent call last)\n",
    "# Cell In[23], line 1\n",
    "# ----> 1 tup[2] = False\n",
    "\n",
    "# TypeError: 'tuple' object does not support item assignment"
   ]
  },
  {
   "cell_type": "code",
   "execution_count": 29,
   "id": "4baf1fa3",
   "metadata": {},
   "outputs": [
    {
     "name": "stdout",
     "output_type": "stream",
     "text": [
      "('foo', [1, 2, 3], True)\n"
     ]
    }
   ],
   "source": [
    "#如果tup内部对象是可变的，例如列表，可以在内部进行修改\n",
    "tup[1].append(3)\n",
    "print(tup)\n",
    "#('foo', [1, 2, 3], True)"
   ]
  },
  {
   "cell_type": "code",
   "execution_count": 32,
   "id": "5ca49009",
   "metadata": {},
   "outputs": [
    {
     "data": {
      "text/plain": [
       "(4, None, 'foo', 6, 0, 'bar')"
      ]
     },
     "execution_count": 32,
     "metadata": {},
     "output_type": "execute_result"
    }
   ],
   "source": [
    "#可以使用 + 链接元组来生成更长的元组：\n",
    "(4, None, 'foo') + (6, 0) + ('bar',)\n",
    "#(4, None, 'foo', 6, 0, 'bar')"
   ]
  },
  {
   "cell_type": "code",
   "execution_count": 34,
   "id": "b15da375",
   "metadata": {},
   "outputs": [
    {
     "data": {
      "text/plain": [
       "('foo', 'bar', 'foo', 'bar', 'foo', 'bar', 'foo', 'bar')"
      ]
     },
     "execution_count": 34,
     "metadata": {},
     "output_type": "execute_result"
    }
   ],
   "source": [
    "('foo', 'bar') * 4\n",
    "#('foo', 'bar', 'foo', 'bar', 'foo', 'bar', 'foo', 'bar')"
   ]
  },
  {
   "cell_type": "code",
   "execution_count": 40,
   "id": "541e97ff",
   "metadata": {},
   "outputs": [
    {
     "name": "stdout",
     "output_type": "stream",
     "text": [
      "(4, 5, 6)\n",
      "5\n"
     ]
    }
   ],
   "source": [
    "#3.1.1.1 元组拆包\n",
    "#如果要将元祖型的表达式赋值给变量，python会对等号右边的值进行拆包：\n",
    "tup = (4, 5, 6)\n",
    "a, b, c = tup\n",
    "print(tup) #(4, 5, 6)\n",
    "print(b) #5"
   ]
  },
  {
   "cell_type": "code",
   "execution_count": 47,
   "id": "61d861db",
   "metadata": {},
   "outputs": [
    {
     "data": {
      "text/plain": [
       "7"
      ]
     },
     "execution_count": 47,
     "metadata": {},
     "output_type": "execute_result"
    }
   ],
   "source": [
    "#即使是嵌套元组也可以拆包：\n",
    "tup = 4, 5, (6, 7)\n",
    "a, b, (c, d) = tup\n",
    "d # 7"
   ]
  },
  {
   "cell_type": "code",
   "execution_count": 50,
   "id": "6ea4a316",
   "metadata": {},
   "outputs": [
    {
     "name": "stdout",
     "output_type": "stream",
     "text": [
      "1\n",
      "2\n",
      "2\n",
      "1\n"
     ]
    }
   ],
   "source": [
    "# 可以交换变量名\n",
    "a, b = 1, 2\n",
    "print(a) #1\n",
    "print(b) #2\n",
    "b, a = a, b\n",
    "print(a) #2\n",
    "print(b) #1"
   ]
  },
  {
   "cell_type": "code",
   "execution_count": 56,
   "id": "a0450525",
   "metadata": {},
   "outputs": [
    {
     "name": "stdout",
     "output_type": "stream",
     "text": [
      "a = 1, b = 2, c = 3\n",
      "a = 4, b = 5, c = 6\n",
      "a = 7, b = 8, c = 9\n",
      "----------\n",
      "a = 0, b = 1, c = 2.\n",
      "a = 0, b = 1, c = 2.\n",
      "a = 0, b = 1, c = 2.\n"
     ]
    }
   ],
   "source": [
    "#拆包的场景就是遍历元组或列表组成的序列：\n",
    "#将tuple赋值变量的两种写法：\n",
    "seq = [(1, 2, 3), (4, 5, 6), (7, 8, 9)]\n",
    "for a, b, c in seq:\n",
    "    print('a = {0}, b = {1}, c = {2}'.format(a, b, c))\n",
    "print(\"-\" * 10)\n",
    "for a, b, c in seq:\n",
    "    print(f'a = {0}, b = {1}, c = {2}.')"
   ]
  },
  {
   "cell_type": "code",
   "execution_count": 63,
   "id": "c34a1a95",
   "metadata": {},
   "outputs": [
    {
     "name": "stdout",
     "output_type": "stream",
     "text": [
      "1 2\n",
      "[3, 4, 5]\n",
      "3 4 5\n"
     ]
    }
   ],
   "source": [
    "#*rest函数返回多个值：\n",
    "#rest部分，有时是想要丢弃的数据，可使用下划线_来表示不想要的变量：\n",
    "values = 1, 2, 3, 4, 5\n",
    "a, b, *rest = values\n",
    "print(a, b) #1 2\n",
    "print(rest) #[3, 4, 5]\n",
    "\n",
    "a, b, *_ = values\n",
    "print(*_)   #3 4 5"
   ]
  },
  {
   "cell_type": "code",
   "execution_count": 67,
   "id": "0670970e",
   "metadata": {},
   "outputs": [
    {
     "data": {
      "text/plain": [
       "4"
      ]
     },
     "execution_count": 67,
     "metadata": {},
     "output_type": "execute_result"
    }
   ],
   "source": [
    "#3.1.2 tuple.count(n)\n",
    "#count n在元组中出现的次数：\n",
    "a = (1, 2, 2, 2, 3, 4, 2)\n",
    "a.count(2)"
   ]
  },
  {
   "cell_type": "code",
   "execution_count": 102,
   "id": "f4bb713f",
   "metadata": {},
   "outputs": [
    {
     "name": "stdout",
     "output_type": "stream",
     "text": [
      "['foo', 'bar', 'baz']\n",
      "['foo', 'peekaboo', 'baz']\n"
     ]
    }
   ],
   "source": [
    "#3.1.2 列表 list可修改；\n",
    "#list(tuple)可将tuple -> list\n",
    "\n",
    "a_list = [2, 3, 7, None]\n",
    "tup = ('foo', 'bar', 'baz')\n",
    "b_list = list(tup) \n",
    "print(b_list) \n",
    "#['foo', 'bar', 'baz']\n",
    "\n",
    "b_list[1] \n",
    "#'bar'\n",
    "\n",
    "b_list[1] = 'peekaboo'\n",
    "print(b_list) \n",
    "#['foo', 'peekaboo', 'baz']"
   ]
  },
  {
   "cell_type": "code",
   "execution_count": 80,
   "id": "5a1e601d",
   "metadata": {},
   "outputs": [
    {
     "name": "stdout",
     "output_type": "stream",
     "text": [
      "range(0, 10)\n"
     ]
    },
    {
     "data": {
      "text/plain": [
       "[0, 1, 2, 3, 4, 5, 6, 7, 8, 9]"
      ]
     },
     "execution_count": 80,
     "metadata": {},
     "output_type": "execute_result"
    }
   ],
   "source": [
    "#list函数常将生成器转换为列表\n",
    "#list(range(n)) -> list\n",
    "\n",
    "gen = range(10)\n",
    "print(gen) \n",
    "#range(0, 10)\n",
    "list(gen)\n",
    "#[0, 1, 2, 3, 4, 5, 6, 7, 8, 9]"
   ]
  },
  {
   "cell_type": "code",
   "execution_count": 86,
   "id": "eafbf3ec",
   "metadata": {},
   "outputs": [
    {
     "data": {
      "text/plain": [
       "['foo', 'peekaboo', 'baz', 'dwarf', 'dwarf']"
      ]
     },
     "execution_count": 86,
     "metadata": {},
     "output_type": "execute_result"
    }
   ],
   "source": [
    "#3.1.2.1 增加和移除元素\n",
    "#append: 将元素添加到列表尾部：\n",
    "\n",
    "b_list.append('dwarf')\n",
    "b_list\n",
    "#['foo', 'peekaboo', 'baz', 'dwarf']"
   ]
  },
  {
   "cell_type": "code",
   "execution_count": 100,
   "id": "3661d855",
   "metadata": {},
   "outputs": [
    {
     "data": {
      "text/plain": [
       "['foo',\n",
       " 'red',\n",
       " 'red',\n",
       " 'red',\n",
       " 'red',\n",
       " 'red',\n",
       " 'red',\n",
       " 'dwarf',\n",
       " 'dwarf',\n",
       " 'foo',\n",
       " 'foo',\n",
       " 'foo',\n",
       " 'foo']"
      ]
     },
     "execution_count": 100,
     "metadata": {},
     "output_type": "execute_result"
    }
   ],
   "source": [
    "#insert:insert将元素插入列表指定位置：\n",
    "\n",
    "#在list.insert(n,'a'): 在list[n]的位置插入a\n",
    "#insert与append相比，计算代价更高，因为子序列元素不得不在内部移动为新元素提供空间。\n",
    "#如果希望在序列的头部和尾部插入元素，可以试下collections.deque: 双端队列，可以满足头尾部都增加的要求。\n",
    "\n",
    "b_list.insert(1, 'red') \n",
    "b_list\n",
    "#['foo', 'red', 'peekaboo', 'baz', 'dwarf', 'dwarf']"
   ]
  },
  {
   "cell_type": "code",
   "execution_count": 91,
   "id": "4b439545",
   "metadata": {},
   "outputs": [
    {
     "data": {
      "text/plain": [
       "['foo', 'red', 'dwarf', 'dwarf']"
      ]
     },
     "execution_count": 91,
     "metadata": {},
     "output_type": "execute_result"
    }
   ],
   "source": [
    "#pop: insert反操作是pop， 该操作会将特定位置的元素移除并返回：\n",
    "\n",
    "#list.pop(n)：将list[n]位置的元素移除\n",
    "\n",
    "b_list.pop(2)\n",
    "#将list[2]位置的peekaboo移除\n",
    "#'red'\n",
    "\n",
    "b_list\n",
    "#['foo', 'red', 'baz', 'dwarf', 'dwarf']"
   ]
  },
  {
   "cell_type": "code",
   "execution_count": 109,
   "id": "46962c2d",
   "metadata": {},
   "outputs": [
    {
     "name": "stdout",
     "output_type": "stream",
     "text": [
      "['foo', 'bar', 'baz', 'foo']\n",
      "['bar', 'baz', 'foo']\n"
     ]
    }
   ],
   "source": [
    "#remove: remove会定位到第一个符合要求的值，并移除它\n",
    "\n",
    "tup = ('foo', 'bar', 'baz')\n",
    "b_list = list(tup) \n",
    "b_list.append('foo')\n",
    "print(b_list)\n",
    "#['foo', 'bar', 'baz', 'foo']\n",
    "\n",
    "b_list.remove('foo')\n",
    "print(b_list)\n",
    "#['bar', 'baz', 'foo']\n",
    "#remove把第一个发现的foo给移除了"
   ]
  },
  {
   "cell_type": "code",
   "execution_count": 123,
   "id": "4fbb82bc",
   "metadata": {},
   "outputs": [],
   "source": [
    "#3.1.2.2 连接和联合列表\n",
    "\n",
    "x = [4, None, 'foo'] + [7, 8, (2, 3)]\n",
    "#[4, None, 'foo', 7, 8, (2, 3)]"
   ]
  },
  {
   "cell_type": "code",
   "execution_count": 135,
   "id": "4b58e705",
   "metadata": {},
   "outputs": [
    {
     "name": "stdout",
     "output_type": "stream",
     "text": [
      "[4, None, 'foo', 7, 8, (2, 3)]\n"
     ]
    }
   ],
   "source": [
    "#有已知定义的列表，可以用extend的方法向该列列表添加元素：\n",
    "#不能写成 x = x.extend(A, B, C)\n",
    "#需要写成 x.extend(A, B, C)\n",
    "\n",
    "x = [4, None, 'foo']\n",
    "x.extend([7, 8, (2,3)])\n",
    "print(x)"
   ]
  },
  {
   "cell_type": "code",
   "execution_count": 136,
   "id": "3b37f495",
   "metadata": {},
   "outputs": [
    {
     "data": {
      "text/plain": [
       "[1, 2, 3, 5, 7]"
      ]
     },
     "execution_count": 136,
     "metadata": {},
     "output_type": "execute_result"
    }
   ],
   "source": [
    "#排序：\n",
    "#可以用sort方法对列表进行内部排序：\n",
    "\n",
    "a = [7, 2, 5, 1, 3]\n",
    "a.sort()\n",
    "a\n",
    "\n",
    "#[1, 2, 3, 5, 7]"
   ]
  },
  {
   "cell_type": "code",
   "execution_count": 139,
   "id": "7197b522",
   "metadata": {},
   "outputs": [
    {
     "data": {
      "text/plain": [
       "['He', 'saw', 'six', 'small', 'foxes']"
      ]
     },
     "execution_count": 139,
     "metadata": {},
     "output_type": "execute_result"
    }
   ],
   "source": [
    "b = ['saw', 'small', 'He', 'foxes', 'six']\n",
    "b.sort(key = len)\n",
    "b\n",
    "#['He', 'saw', 'six', 'small', 'foxes']"
   ]
  },
  {
   "cell_type": "code",
   "execution_count": 150,
   "id": "7b21666e",
   "metadata": {},
   "outputs": [],
   "source": [
    "#3.1.2.4 二分搜索和已排序列表的维护\n",
    "#bisect.bisect 会找到元素应当被插入的位置，并保持序列排序。\n",
    "#bisect.insort 将元素插入到相应位置。\n",
    "#bisect不会检查列表是否已经排序，但未排序列表使用bisect的函数虽然不会报错，但可能会导致不正确的结果。\n",
    "\n",
    "import bisect \n",
    "c = [1, 2, 2, 2, 3, 4, 7]"
   ]
  },
  {
   "cell_type": "code",
   "execution_count": 152,
   "id": "333179b8",
   "metadata": {},
   "outputs": [
    {
     "name": "stdout",
     "output_type": "stream",
     "text": [
      "[1, 2, 2, 2, 3, 4, 6, 6, 7]\n"
     ]
    }
   ],
   "source": [
    "bisect.bisect(c,2) #4\n",
    "#2应该被查到c list中[4]这个位置上\n",
    "\n",
    "bisect.bisect(c,5) #6\n",
    "#5应该被查到c list中[6]这个位置上\n",
    "\n",
    "bisect.bisect(c,6) #6\n",
    "#6应该被查到c list中[6]这个位置上\n",
    "\n",
    "bisect.insort(c,6)\n",
    "print(c)\n",
    "#[1, 2, 2, 2, 3, 4, 6, 7]"
   ]
  },
  {
   "cell_type": "code",
   "execution_count": 164,
   "id": "7b4f9b74",
   "metadata": {},
   "outputs": [
    {
     "name": "stdout",
     "output_type": "stream",
     "text": [
      "[2, 3, 7, 5]\n",
      "[7, 2, 3, 7, 5, 6, 0, 1]\n"
     ]
    }
   ],
   "source": [
    "#3.1.2.5 切片\n",
    "\n",
    "seq = [7, 2, 3, 7, 5, 6, 0, 1]\n",
    "\n",
    "print(seq[1:5]) #实际取得是[1-4]位置的值\n",
    "#[2, 3, 7, 5]\n",
    "print(seq)\n",
    "#[7, 2, 3, 7, 5, 6, 0, 1]"
   ]
  },
  {
   "cell_type": "code",
   "execution_count": 177,
   "id": "aaaa60ec",
   "metadata": {},
   "outputs": [
    {
     "data": {
      "text/plain": [
       "[7, 2, 3, 6, 3, 3, 5, 6, 0, 1]"
      ]
     },
     "execution_count": 177,
     "metadata": {},
     "output_type": "execute_result"
    }
   ],
   "source": [
    "#将[3]的7换掉，在新[3][4]位置放上6,3\n",
    "seq[3:4] = [6, 3]\n",
    "seq\n",
    "#[7, 2, 3, 6, 3, 5, 6, 0, 1]"
   ]
  },
  {
   "cell_type": "code",
   "execution_count": 169,
   "id": "b91585cc",
   "metadata": {},
   "outputs": [
    {
     "data": {
      "text/plain": [
       "[7, 2, 3, 6, 3]"
      ]
     },
     "execution_count": 169,
     "metadata": {},
     "output_type": "execute_result"
    }
   ],
   "source": [
    "#[:n] 是取[0,n-1]位置上的值\n",
    "seq[:5]   "
   ]
  },
  {
   "cell_type": "code",
   "execution_count": 171,
   "id": "e71edeb2",
   "metadata": {},
   "outputs": [
    {
     "data": {
      "text/plain": [
       "[6, 3, 5, 6, 0, 1]"
      ]
     },
     "execution_count": 171,
     "metadata": {},
     "output_type": "execute_result"
    }
   ],
   "source": [
    "#[n:]是取[n]到结束的值\n",
    "seq[3:]"
   ]
  },
  {
   "cell_type": "code",
   "execution_count": 173,
   "id": "ec1cd126",
   "metadata": {},
   "outputs": [
    {
     "data": {
      "text/plain": [
       "[5, 6, 0, 1]"
      ]
     },
     "execution_count": 173,
     "metadata": {},
     "output_type": "execute_result"
    }
   ],
   "source": [
    "#[-n:]是取序列尾部起，第n位到结尾的值\n",
    "seq[-4:]\n",
    "#[5, 6, 0, 1]"
   ]
  },
  {
   "cell_type": "code",
   "execution_count": 175,
   "id": "edee8ac5",
   "metadata": {},
   "outputs": [
    {
     "data": {
      "text/plain": [
       "[6, 3, 5, 6]"
      ]
     },
     "execution_count": 175,
     "metadata": {},
     "output_type": "execute_result"
    }
   ],
   "source": [
    "#[-a:-b]是取序列尾部起，第a位到第b-1位的值\n",
    "seq[-6:-2]\n",
    "#[6, 3, 5, 6]"
   ]
  },
  {
   "cell_type": "code",
   "execution_count": 179,
   "id": "85a8305c",
   "metadata": {},
   "outputs": [
    {
     "data": {
      "text/plain": [
       "[7, 3, 3, 5, 0]"
      ]
     },
     "execution_count": 179,
     "metadata": {},
     "output_type": "execute_result"
    }
   ],
   "source": [
    "#::n是指，每隔n个数，取一个值\n",
    "seq[::2]"
   ]
  },
  {
   "cell_type": "code",
   "execution_count": 181,
   "id": "d52daa5e",
   "metadata": {},
   "outputs": [
    {
     "data": {
      "text/plain": [
       "[1, 0, 6, 5, 3, 3, 6, 3, 2, 7]"
      ]
     },
     "execution_count": 181,
     "metadata": {},
     "output_type": "execute_result"
    }
   ],
   "source": [
    "#[::-1]就是把list整个翻转\n",
    "seq[::-1]\n",
    "#[1, 0, 6, 5, 3, 3, 6, 3, 2, 7]"
   ]
  },
  {
   "cell_type": "code",
   "execution_count": 186,
   "id": "42723db2",
   "metadata": {},
   "outputs": [],
   "source": [
    "#3.1.3 内建序列函数\n",
    "#3.1.3.1 enumerate:\n",
    "#遍历一个序列的同时追踪当前元素的索引：for i + 1循环= enumerate()\n",
    "\n",
    "# i = 0\n",
    "# for value in collection:\n",
    "#     i += 1\n",
    "\n",
    "#<=>    \n",
    "    \n",
    "# for i, value in enumerate(collection):\n"
   ]
  },
  {
   "cell_type": "code",
   "execution_count": 200,
   "id": "b4726152",
   "metadata": {},
   "outputs": [
    {
     "data": {
      "text/plain": [
       "{'foo': 0, 'bar': 1, 'baz': 2}"
      ]
     },
     "execution_count": 200,
     "metadata": {},
     "output_type": "execute_result"
    }
   ],
   "source": [
    "some_list = ['foo', 'bar', 'baz']\n",
    "mapping = {}\n",
    "for i, v in enumerate(some_list):\n",
    "    mapping[v] = i\n",
    "mapping\n",
    "\n",
    "#{'foo': 0, 'bar': 1, 'baz': 2}"
   ]
  },
  {
   "cell_type": "code",
   "execution_count": 198,
   "id": "f1f8f226",
   "metadata": {},
   "outputs": [],
   "source": [
    "#https://pythontutor.com/visualize.html#code=some_list%20%3D%20%5B'foo',%20'bar',%20'baz'%5D%0Amapping%20%3D%20%7B%7D%0Afor%20i,%20v%20in%20enumerate%28some_list%29%3A%0A%20%20%20%20mapping%5Bv%5D%20%3D%20i%0Amapping&cumulative=false&curInstr=0&heapPrimitives=nevernest&mode=display&origin=opt-frontend.js&py=3&rawInputLstJSON=%5B%5D&textReferences=false"
   ]
  },
  {
   "cell_type": "code",
   "execution_count": 202,
   "id": "7fcf8e62",
   "metadata": {},
   "outputs": [
    {
     "data": {
      "text/plain": [
       "[' ', 'a', 'c', 'e', 'e', 'h', 'o', 'r', 'r', 's']"
      ]
     },
     "execution_count": 202,
     "metadata": {},
     "output_type": "execute_result"
    }
   ],
   "source": [
    "#3.1.3.2 sorted\n",
    "\n",
    "#sorted 函数返回一个根据任意序列中的元素新建的已排序的列表\n",
    "sorted([7, 1, 2, 6, 0, 3, 2])\n",
    "#[0, 1, 2, 2, 3, 6, 7]\n",
    "sorted('horse race')\n",
    "#[' ', 'a', 'c', 'e', 'e', 'h', 'o', 'r', 'r', 's']"
   ]
  },
  {
   "cell_type": "code",
   "execution_count": 208,
   "id": "9c1f4a07",
   "metadata": {},
   "outputs": [
    {
     "data": {
      "text/plain": [
       "[('foo', 'one'), ('bar', 'two'), ('baz', 'three')]"
      ]
     },
     "execution_count": 208,
     "metadata": {},
     "output_type": "execute_result"
    }
   ],
   "source": [
    "#3.1.3.3 \n",
    "#zip：将列表，元组，或其他序列的元素配对，新建一个元组构成的列表:\n",
    "\n",
    "seq1 = ['foo', 'bar', 'baz']\n",
    "seq2 = ['one', 'two', 'three']\n",
    "zipped = zip(seq1, seq2)\n",
    "list(zipped)\n",
    "#[('foo', 'one'), ('bar', 'two'), ('baz', 'three')]"
   ]
  },
  {
   "cell_type": "code",
   "execution_count": 212,
   "id": "4a5646b3",
   "metadata": {},
   "outputs": [
    {
     "data": {
      "text/plain": [
       "[('foo', 'one', False), ('bar', 'two', True)]"
      ]
     },
     "execution_count": 212,
     "metadata": {},
     "output_type": "execute_result"
    }
   ],
   "source": [
    "#zip可以处理任意长度的序列，生成列表长度由最短的序列决定：\n",
    "seq3 = [False, True]\n",
    "list(zip(seq1, seq2, seq3))\n",
    "#[('foo', 'one', False), ('bar', 'two', True)]"
   ]
  },
  {
   "cell_type": "code",
   "execution_count": 215,
   "id": "30c018b8",
   "metadata": {},
   "outputs": [
    {
     "name": "stdout",
     "output_type": "stream",
     "text": [
      "0: foo, one\n",
      "1: bar, two\n",
      "2: baz, three\n"
     ]
    }
   ],
   "source": [
    "#zip的常用场景为同时遍历多个序列，有时会和enumerate同时使用：\n",
    "\n",
    "for i, (a, b) in enumerate(zip(seq1, seq2)):\n",
    "    print('{0}: {1}, {2}'.format(i, a, b))"
   ]
  },
  {
   "cell_type": "code",
   "execution_count": 216,
   "id": "8ab0e81e",
   "metadata": {},
   "outputs": [],
   "source": [
    "#https://pythontutor.com/visualize.html#code=seq1%20%3D%20%5B'foo',%20'bar',%20'baz'%5D%0Aseq2%20%3D%20%5B'one',%20'two',%20'three'%5D%0Afor%20i,%20%28a,%20b%29%20in%20enumerate%28zip%28seq1,%20seq2%29%29%3A%0A%20%20%20%20print%28'%7B0%7D%3A%20%7B1%7D,%20%7B2%7D'.format%28i,%20a,%20b%29%29&cumulative=false&curInstr=0&heapPrimitives=nevernest&mode=display&origin=opt-frontend.js&py=3&rawInputLstJSON=%5B%5D&textReferences=false"
   ]
  },
  {
   "cell_type": "code",
   "execution_count": 221,
   "id": "2fb0ad8d",
   "metadata": {},
   "outputs": [
    {
     "data": {
      "text/plain": [
       "('Ryan', 'Clemens', 'Curt')"
      ]
     },
     "execution_count": 221,
     "metadata": {},
     "output_type": "execute_result"
    }
   ],
   "source": [
    "#给定一个已配对的序列式，zip函数机智拆分序列。即将行的列表，转换为列的列表。\n",
    "\n",
    "pitchers = [('Nolan', 'Ryan'), ('Roger', 'Clemens'), ('Schilling', 'Curt')]\n",
    "first_name, last_name = zip(*pitchers)\n",
    "first_name\n",
    "#('Nolan', 'Roger', 'Schilling')\n",
    "last_name\n",
    "#('Ryan', 'Clemens', 'Curt')"
   ]
  },
  {
   "cell_type": "code",
   "execution_count": 223,
   "id": "6ff6630f",
   "metadata": {},
   "outputs": [
    {
     "data": {
      "text/plain": [
       "[9, 8, 7, 6, 5, 4, 3, 2, 1, 0]"
      ]
     },
     "execution_count": 223,
     "metadata": {},
     "output_type": "execute_result"
    }
   ],
   "source": [
    "#3.1.3.4 reversed\n",
    "#reversed函数将序列的元素倒序排列：\n",
    "list(reversed(range(10)))\n",
    "#[9, 8, 7, 6, 5, 4, 3, 2, 1, 0]"
   ]
  },
  {
   "cell_type": "code",
   "execution_count": 232,
   "id": "e914559a",
   "metadata": {},
   "outputs": [
    {
     "data": {
      "text/plain": [
       "True"
      ]
     },
     "execution_count": 232,
     "metadata": {},
     "output_type": "execute_result"
    }
   ],
   "source": [
    "#3.1.4字典\n",
    "#dict是内建数据结构中最重要的，更常用的名字是哈希表或者关联数组。\n",
    "#{key:value}\n",
    "\n",
    "empty_dict = {}\n",
    "d1 = {'a' : 'some value', 'b' : [1, 2, 3, 4]}\n",
    "d1\n",
    "#{'a': 'some value', 'b': [1, 2, 3, 4]}\n",
    "\n",
    "#写入字典\n",
    "d1[7] = 'an integer'\n",
    "d1\n",
    "#{'a': 'some value', 'b': [1, 2, 3, 4], 7: 'an integer'}\n",
    "\n",
    "#访问字典\n",
    "d1['b']\n",
    "#[1, 2, 3, 4]\n",
    "d1[7]\n",
    "#'an integer'\n",
    "\n",
    "# 用检查列表或孕足是否含有一个元素的相同语法来检查字典是否含有一个键\n",
    "'b' in d1\n",
    "#True"
   ]
  },
  {
   "cell_type": "code",
   "execution_count": 257,
   "id": "cd81e6ad",
   "metadata": {},
   "outputs": [
    {
     "data": {
      "text/plain": [
       "{'a': 'some value',\n",
       " 'b': [1, 2, 3, 4],\n",
       " 7: 'an integer',\n",
       " 'dummy': 'another value',\n",
       " 5: 'some value'}"
      ]
     },
     "execution_count": 257,
     "metadata": {},
     "output_type": "execute_result"
    }
   ],
   "source": [
    "#可以使用del关键字或pop方法删除值，pop方法会在删除的同事返回被删的值，并删除键\n",
    "\n",
    "d1[5] = 'some value'\n",
    "d1\n",
    "#{'a': 'some value', 'b': [1, 2, 3, 4], 7: 'an integer', 5: 'some value'}"
   ]
  },
  {
   "cell_type": "code",
   "execution_count": 258,
   "id": "225f5ae4",
   "metadata": {},
   "outputs": [
    {
     "data": {
      "text/plain": [
       "{'a': 'some value',\n",
       " 'b': [1, 2, 3, 4],\n",
       " 7: 'an integer',\n",
       " 'dummy': 'another value',\n",
       " 5: 'some value'}"
      ]
     },
     "execution_count": 258,
     "metadata": {},
     "output_type": "execute_result"
    }
   ],
   "source": [
    "d1['dummy'] = 'another value'\n",
    "d1\n",
    "# {'a': 'some value',\n",
    "#  'b': [1, 2, 3, 4],\n",
    "#  7: 'an integer',\n",
    "#  5: 'some value',\n",
    "#  'dummy': 'another value'}"
   ]
  },
  {
   "cell_type": "code",
   "execution_count": 259,
   "id": "0033db20",
   "metadata": {},
   "outputs": [
    {
     "data": {
      "text/plain": [
       "{'a': 'some value',\n",
       " 'b': [1, 2, 3, 4],\n",
       " 7: 'an integer',\n",
       " 'dummy': 'another value'}"
      ]
     },
     "execution_count": 259,
     "metadata": {},
     "output_type": "execute_result"
    }
   ],
   "source": [
    "del d1[5]\n",
    "d1\n",
    "# {'a': 'some value',\n",
    "#  'b': [1, 2, 3, 4],\n",
    "#  7: 'an integer',\n",
    "#  'dummy': 'another value'}"
   ]
  },
  {
   "cell_type": "code",
   "execution_count": 261,
   "id": "b97dc7ad",
   "metadata": {},
   "outputs": [
    {
     "ename": "KeyError",
     "evalue": "'dummy'",
     "output_type": "error",
     "traceback": [
      "\u001b[1;31m---------------------------------------------------------------------------\u001b[0m",
      "\u001b[1;31mKeyError\u001b[0m                                  Traceback (most recent call last)",
      "Cell \u001b[1;32mIn[261], line 1\u001b[0m\n\u001b[1;32m----> 1\u001b[0m ret \u001b[38;5;241m=\u001b[39m \u001b[43md1\u001b[49m\u001b[38;5;241;43m.\u001b[39;49m\u001b[43mpop\u001b[49m\u001b[43m(\u001b[49m\u001b[38;5;124;43m'\u001b[39;49m\u001b[38;5;124;43mdummy\u001b[39;49m\u001b[38;5;124;43m'\u001b[39;49m\u001b[43m)\u001b[49m\n\u001b[0;32m      2\u001b[0m ret\n",
      "\u001b[1;31mKeyError\u001b[0m: 'dummy'"
     ]
    }
   ],
   "source": [
    "ret = d1.pop('dummy')\n",
    "ret\n",
    "#'another value'"
   ]
  },
  {
   "cell_type": "code",
   "execution_count": 268,
   "id": "5c5d95da",
   "metadata": {},
   "outputs": [
    {
     "data": {
      "text/plain": [
       "['some value', [1, 2, 3, 4], 'an integer']"
      ]
     },
     "execution_count": 268,
     "metadata": {},
     "output_type": "execute_result"
    }
   ],
   "source": [
    "#查看d1的key, value\n",
    "d1\n",
    "#{'a': 'some value', 'b': [1, 2, 3, 4], 7: 'an integer'}\n",
    "list(d1.keys())\n",
    "#['a', 'b', 7]\n",
    "list(d1.values())\n",
    "#['some value', [1, 2, 3, 4], 'an integer']"
   ]
  },
  {
   "cell_type": "code",
   "execution_count": 272,
   "id": "96518f09",
   "metadata": {},
   "outputs": [
    {
     "data": {
      "text/plain": [
       "{'a': 'some value', 'b': 'foo', 7: 'an integer', 'c': 12}"
      ]
     },
     "execution_count": 272,
     "metadata": {},
     "output_type": "execute_result"
    }
   ],
   "source": [
    "#使用update方法将两个字典合并, 合并时候是按照key的字母排序来的\n",
    "#update方法改变了字典中元素位置，对于任何原字典中已经存在的键，如果传给update方法的数据也含有相同的键，则他的值将会被覆盖\n",
    "d1.update({'b':'foo', 'c':12})\n",
    "d1\n",
    "#{'a': 'some value', 'b': 'foo', 7: 'an integer', 'c': 12}"
   ]
  },
  {
   "cell_type": "code",
   "execution_count": 277,
   "id": "868ce001",
   "metadata": {},
   "outputs": [
    {
     "data": {
      "text/plain": [
       "{0: 4, 1: 3, 2: 2, 3: 1, 4: 0}"
      ]
     },
     "execution_count": 277,
     "metadata": {},
     "output_type": "execute_result"
    }
   ],
   "source": [
    "#3.1.4.1 从序列生成字典\n",
    "#有2个元素想要在字典中按元素配对。字典实质是2-元组 （含有2个元素的元组）的集合， 字典可以接受2-元素的列表作为参数。\n",
    "#mapping = dict(a,b) <=> 把a,b 进行mapping\n",
    "\n",
    "# mapping = {}\n",
    "# for key, value in zip(key_list, value_list):\n",
    "#     mapping[key] = value'\n",
    "    \n",
    "mapping = dict(zip(range(5), reversed(range(5))))\n",
    "mapping\n",
    "#{0: 4, 1: 3, 2: 2, 3: 1, 4: 0}"
   ]
  },
  {
   "cell_type": "code",
   "execution_count": 280,
   "id": "bf323ca1",
   "metadata": {},
   "outputs": [
    {
     "data": {
      "text/plain": [
       "{1, 2, 3}"
      ]
     },
     "execution_count": 280,
     "metadata": {},
     "output_type": "execute_result"
    }
   ],
   "source": [
    "#3.1.5 集合\n",
    "#集合是一种无序且元素唯一的容器，可以认为集合也想字典，但只有key没有value.\n",
    "#创建集合：1.通过set函数 2.用字面值集与大括弧的语法\n",
    "\n",
    "set([2, 2, 2, 1, 3, 3])\n",
    "#{1, 2, 3}\n",
    "\n",
    "{2, 2, 2, 1, 3, 3, 3}\n",
    "#{1, 2, 3}"
   ]
  },
  {
   "cell_type": "code",
   "execution_count": 287,
   "id": "62655c48",
   "metadata": {},
   "outputs": [],
   "source": [
    "#3.1.4.2 默认值\n",
    "key = 1\n",
    "some_dict = {1: 'variable'}\n",
    "default_value = 'default_value'\n",
    "\n",
    "if key in some_dict:\n",
    "    value = some_dict[key]\n",
    "else: \n",
    "    value = defalt_value\n",
    "\n",
    "#以上写啊和下面的写法等价。    \n",
    "#不过get方法，和pop方法，可以返回一个默认值，因此if-else代码可以被简写：\n",
    "value = some_dict.get(key, default_value)"
   ]
  },
  {
   "cell_type": "code",
   "execution_count": 290,
   "id": "21e9b3f8",
   "metadata": {},
   "outputs": [
    {
     "name": "stdout",
     "output_type": "stream",
     "text": [
      "{'a': ['apple', 'atom'], 'b': ['bat', 'bar', 'book']}\n"
     ]
    }
   ],
   "source": [
    "#带有默认值的get方法会在key参数不是字典的key时返回None，而pop会抛出异常。\n",
    "#一个常见场景，是字典中的值集合通过设置，成为另一种集合，比如列表。\n",
    "\n",
    "words = ['apple', 'bat', 'bar', 'atom', 'book'] \n",
    "dict = {}\n",
    "for word in words:\n",
    "    letter = word[0]\n",
    "    if letter not in dict:\n",
    "        dict[letter] = [word]\n",
    "    else:\n",
    "        dict[letter].append(word)\n",
    "print(dict)\n",
    "\n",
    "#{'a': ['apple', 'atom'], 'b': ['bat', 'bar', 'book']}    "
   ]
  },
  {
   "cell_type": "code",
   "execution_count": 291,
   "id": "53ae7326",
   "metadata": {},
   "outputs": [],
   "source": [
    "#https://pythontutor.com/visualize.html#code=words%20%3D%20%5B'apple',%20'bat',%20'bar',%20'atom',%20'book'%5D%20%0Adict%20%3D%20%7B%7D%0Afor%20word%20in%20words%3A%0A%20%20%20%20letter%20%3D%20word%5B0%5D%0A%20%20%20%20if%20letter%20not%20in%20dict%3A%0A%20%20%20%20%20%20%20%20dict%5Bletter%5D%20%3D%20%5Bword%5D%0A%20%20%20%20else%3A%0A%20%20%20%20%20%20%20%20dict%5Bletter%5D.append%28word%29%0Aprint%28dict%29%0A%0A&cumulative=false&curInstr=0&heapPrimitives=nevernest&mode=display&origin=opt-frontend.js&py=3&rawInputLstJSON=%5B%5D&textReferences=false"
   ]
  },
  {
   "cell_type": "code",
   "execution_count": 298,
   "id": "34e3abaf",
   "metadata": {},
   "outputs": [
    {
     "name": "stdout",
     "output_type": "stream",
     "text": [
      "{'a': ['apple', 'atom'], 'b': ['bat', 'bar', 'book']}\n"
     ]
    }
   ],
   "source": [
    "#setdefault方法就是为了这个目的而产生的。上述的for循环，可以写为：\n",
    "words = ['apple', 'bat', 'bar', 'atom', 'book'] \n",
    "dict = {}\n",
    "for word in words:\n",
    "    letter = word[0]\n",
    "    dict.setdefault(letter, []).append(word)\n",
    "print(dict)\n",
    "#{'a': ['apple', 'atom'], 'b': ['bat', 'bar', 'book']}"
   ]
  },
  {
   "cell_type": "code",
   "execution_count": 303,
   "id": "e561da6a",
   "metadata": {},
   "outputs": [
    {
     "name": "stdout",
     "output_type": "stream",
     "text": [
      "defaultdict(<class 'list'>, {'a': ['apple', 'atom'], 'b': ['bat', 'bar', 'book']})\n"
     ]
    }
   ],
   "source": [
    "#defaultdict也有相同功效。\n",
    "from collections import defaultdict\n",
    "\n",
    "words = ['apple', 'bat', 'bar', 'atom', 'book'] \n",
    "dict = defaultdict(list)\n",
    "for word in words:\n",
    "    dict[word[0]].append(word)\n",
    "print(dict)\n",
    "#defaultdict(<class 'list'>, {'a': ['apple', 'atom'], 'b': ['bat', 'bar', 'book']})"
   ]
  },
  {
   "cell_type": "code",
   "execution_count": 312,
   "id": "31581ad4",
   "metadata": {},
   "outputs": [
    {
     "ename": "TypeError",
     "evalue": "unhashable type: 'list'",
     "output_type": "error",
     "traceback": [
      "\u001b[1;31m---------------------------------------------------------------------------\u001b[0m",
      "\u001b[1;31mTypeError\u001b[0m                                 Traceback (most recent call last)",
      "Cell \u001b[1;32mIn[312], line 9\u001b[0m\n\u001b[0;32m      6\u001b[0m \u001b[38;5;28mhash\u001b[39m((\u001b[38;5;241m1\u001b[39m,\u001b[38;5;241m2\u001b[39m,(\u001b[38;5;241m2\u001b[39m,\u001b[38;5;241m3\u001b[39m)))\n\u001b[0;32m      7\u001b[0m \u001b[38;5;241m-\u001b[39m\u001b[38;5;241m9209053662355515447\u001b[39m\n\u001b[1;32m----> 9\u001b[0m \u001b[38;5;28;43mhash\u001b[39;49m\u001b[43m(\u001b[49m\u001b[43m(\u001b[49m\u001b[38;5;241;43m1\u001b[39;49m\u001b[43m,\u001b[49m\u001b[43m \u001b[49m\u001b[38;5;241;43m2\u001b[39;49m\u001b[43m,\u001b[49m\u001b[43m \u001b[49m\u001b[43m[\u001b[49m\u001b[38;5;241;43m2\u001b[39;49m\u001b[43m,\u001b[49m\u001b[43m \u001b[49m\u001b[38;5;241;43m3\u001b[39;49m\u001b[43m]\u001b[49m\u001b[43m)\u001b[49m\u001b[43m)\u001b[49m\n",
      "\u001b[1;31mTypeError\u001b[0m: unhashable type: 'list'"
     ]
    }
   ],
   "source": [
    "#3.1.4.3 hash函数可以检查一个对象是否可以哈希化\n",
    "\n",
    "hash('string')\n",
    "#-2796918615030906449\n",
    "\n",
    "hash((1,2,(2,3)))\n",
    "-9209053662355515447\n",
    "\n",
    "hash((1, 2, [2, 3]))\n",
    "#TypeError: unhashable type: 'list'：因为列表是可变的失败"
   ]
  },
  {
   "cell_type": "code",
   "execution_count": 315,
   "id": "15bdf3af",
   "metadata": {},
   "outputs": [
    {
     "data": {
      "text/plain": [
       "{(1, 2, 3): 5}"
      ]
     },
     "execution_count": 315,
     "metadata": {},
     "output_type": "execute_result"
    }
   ],
   "source": [
    "#可以将list换位元组，元组只要内部元素可以哈希化，自己也可以哈希化。\n",
    "\n",
    "d = {}\n",
    "d[tuple([1, 2, 3])] = 5\n",
    "d\n",
    "\n",
    "#{(1, 2, 3): 5}"
   ]
  },
  {
   "cell_type": "code",
   "execution_count": 318,
   "id": "0e643fd9",
   "metadata": {},
   "outputs": [
    {
     "data": {
      "text/plain": [
       "{1, 2, 3}"
      ]
     },
     "execution_count": 318,
     "metadata": {},
     "output_type": "execute_result"
    }
   ],
   "source": [
    "# 3.1.5 集合\n",
    "#集合是一种无序且元素唯一的容器，可以认为集合也像字典，只有key没有value. \n",
    "#创建集合两种方式：set函数，或{}\n",
    "\n",
    "set([2, 2, 2, 1, 3, 3])\n",
    "#{1, 2, 3}\n",
    "\n",
    "{2, 2, 2, 1, 3, 3}\n",
    "#{1, 2, 3}"
   ]
  },
  {
   "cell_type": "code",
   "execution_count": 322,
   "id": "83bf443e",
   "metadata": {},
   "outputs": [
    {
     "data": {
      "text/plain": [
       "{1, 2, 3, 4, 5, 6, 7, 8}"
      ]
     },
     "execution_count": 322,
     "metadata": {},
     "output_type": "execute_result"
    }
   ],
   "source": [
    "#对集合操作： \n",
    "#并集：a.union(b) = a | b\n",
    "\n",
    "a = {1, 2, 3, 4, 5}\n",
    "b = {3, 4, 5, 6, 7, 8}\n",
    "a.union(b)\n",
    "#{1, 2, 3, 4, 5, 6, 7, 8}\n",
    "a | b\n",
    "#{1, 2, 3, 4, 5, 6, 7, 8}"
   ]
  },
  {
   "cell_type": "code",
   "execution_count": 324,
   "id": "f6ed4390",
   "metadata": {},
   "outputs": [
    {
     "data": {
      "text/plain": [
       "{3, 4, 5}"
      ]
     },
     "execution_count": 324,
     "metadata": {},
     "output_type": "execute_result"
    }
   ],
   "source": [
    "#两个集合同时包含元素，可以使用&操作符，或intersection方法获得\n",
    "#交集：a.intersection(b) = a & b\n",
    "\n",
    "a.intersection(b)\n",
    "#{3, 4, 5}\n",
    "a & b\n",
    "#{3, 4, 5}"
   ]
  },
  {
   "cell_type": "code",
   "execution_count": 326,
   "id": "d82db60c",
   "metadata": {},
   "outputs": [
    {
     "ename": "TypeError",
     "evalue": "unhashable type: 'list'",
     "output_type": "error",
     "traceback": [
      "\u001b[1;31m---------------------------------------------------------------------------\u001b[0m",
      "\u001b[1;31mTypeError\u001b[0m                                 Traceback (most recent call last)",
      "Cell \u001b[1;32mIn[326], line 4\u001b[0m\n\u001b[0;32m      1\u001b[0m \u001b[38;5;66;03m#3.1 python集合操作\u001b[39;00m\n\u001b[0;32m      2\u001b[0m \n\u001b[0;32m      3\u001b[0m \u001b[38;5;66;03m#将元素x加入集合a\u001b[39;00m\n\u001b[1;32m----> 4\u001b[0m \u001b[43ma\u001b[49m\u001b[38;5;241;43m.\u001b[39;49m\u001b[43madd\u001b[49m\u001b[43m(\u001b[49m\u001b[43mx\u001b[49m\u001b[43m)\u001b[49m\n\u001b[0;32m      6\u001b[0m \u001b[38;5;66;03m#将集合重置为空，清空所有元素\u001b[39;00m\n\u001b[0;32m      7\u001b[0m a\u001b[38;5;241m.\u001b[39mclear()\n",
      "\u001b[1;31mTypeError\u001b[0m: unhashable type: 'list'"
     ]
    }
   ],
   "source": [
    "#3.1 python集合操作\n",
    "\n",
    "#将元素x加入集合a\n",
    "a.add(x)\n",
    "\n",
    "#将集合重置为空，清空所有元素\n",
    "a.clear()\n",
    "\n",
    "#从集合a中移除某个元素\n",
    "a.remove(x)\n",
    "\n",
    "#移除任意元素，如果集合是空的抛出key error\n",
    "a.pop\n",
    "\n",
    "#a和b中的所有不同元素\n",
    "a.union(b)\n",
    "\n",
    "#将a的内容设置为a和b的并集\n",
    "a.update(b)\n",
    "\n",
    "#a.b的交集\n",
    "a.intersection(b)\n",
    "\n",
    "#将a的内容，设置为a和b的交集\n",
    "a.intersection_update(b)\n",
    "\n",
    "#在a不在b中的元素\n",
    "a.differnce(b)\n",
    "\n",
    "#所有在a或b中，但不是同时在a.b中的元素\n",
    "a.symmetric_difference(b)\n",
    "\n",
    "#将a的内容设为所有在a或b中，但不是同时在a.b中的元素\n",
    "a.symmetric_difference_update(b)\n",
    "\n",
    "# 如果a包含于b, 返回True\n",
    "a.issubset(b)\n",
    "\n",
    "#a.b没有交集返回True\n",
    "a.isdisjoint(b)"
   ]
  },
  {
   "cell_type": "code",
   "execution_count": 338,
   "id": "34d5c51f",
   "metadata": {},
   "outputs": [
    {
     "name": "stdout",
     "output_type": "stream",
     "text": [
      "{1, 2, 3, 4, 5}\n",
      "{3, 4, 5, 6, 7, 8}\n"
     ]
    },
    {
     "data": {
      "text/plain": [
       "{3, 4, 5}"
      ]
     },
     "execution_count": 338,
     "metadata": {},
     "output_type": "execute_result"
    }
   ],
   "source": [
    "#所有逻辑集合运算有对应操作，允许用操作的结果替代操作左边的集合内容。\n",
    "print(a)\n",
    "#{1, 2, 3, 4, 5}\n",
    "print(b)\n",
    "#{3, 4, 5, 6, 7, 8}\n",
    "\n",
    "# c, b并集：\n",
    "c = a.copy()\n",
    "c |= b\n",
    "c\n",
    "#{1, 2, 3, 4, 5, 6, 7, 8}\n",
    "\n",
    "#d, a交集：\n",
    "d = a.copy()\n",
    "d &= b\n",
    "d\n",
    "#{3, 4, 5}"
   ]
  },
  {
   "cell_type": "code",
   "execution_count": 341,
   "id": "0dce195d",
   "metadata": {},
   "outputs": [
    {
     "data": {
      "text/plain": [
       "{(1, 2, 3, 4)}"
      ]
     },
     "execution_count": 341,
     "metadata": {},
     "output_type": "execute_result"
    }
   ],
   "source": [
    "#集合set与字典dictionary一样，元素不可变。\n",
    "#如果想要包含列表list的元素，先转换为元组tuple\n",
    "\n",
    "my_data = [1, 2, 3, 4]\n",
    "my_set = {tuple(my_data)}\n",
    "my_set\n",
    "#{(1, 2, 3, 4)}"
   ]
  },
  {
   "cell_type": "code",
   "execution_count": 346,
   "id": "7a4fb7b9",
   "metadata": {},
   "outputs": [
    {
     "data": {
      "text/plain": [
       "True"
      ]
     },
     "execution_count": 346,
     "metadata": {},
     "output_type": "execute_result"
    }
   ],
   "source": [
    "#检查一个集合是否是另一个集合的子集 或 超集：\n",
    "\n",
    "a_set = {1, 2, 3, 4, 5}\n",
    "{1, 2, 3}.issubset(a_set) #True\n",
    "a_set.issuperset({1, 2, 3}) #True\n",
    "{1, 2, 3} == {3, 2, 1} #True"
   ]
  },
  {
   "cell_type": "code",
   "execution_count": 349,
   "id": "992314f4",
   "metadata": {},
   "outputs": [],
   "source": [
    "#3.1.6 列表，集合和字典的推导式\n",
    "\n",
    "#expr for val in collection if condition\n",
    "\n",
    "# result = []\n",
    "# for val in collection:\n",
    "#     if condition:\n",
    "#         result.append(expr)"
   ]
  },
  {
   "cell_type": "code",
   "execution_count": 9,
   "id": "6ec20a48",
   "metadata": {},
   "outputs": [
    {
     "data": {
      "text/plain": [
       "['BAT', 'CAR', 'DOVE', 'PYTHON']"
      ]
     },
     "execution_count": 9,
     "metadata": {},
     "output_type": "execute_result"
    }
   ],
   "source": [
    "#过滤条件是可以忽略的，只保留表达式，例如给定一个字符串列表，可以过滤出长度大于2的，并且将字母改为大写：\n",
    "\n",
    "strings = ['a', 'as', 'bat', 'car', 'dove', 'python']\n",
    "\n",
    "[x.upper() for x in strings if len(x) > 2]\n",
    "#['BAT', 'CAR', 'DOVE', 'PYTHON']"
   ]
  },
  {
   "cell_type": "code",
   "execution_count": 2,
   "id": "5ec27fef",
   "metadata": {},
   "outputs": [],
   "source": [
    "#集合于字典的推导式是列表推导式的自然拓展，用相似的方式生成集合与字典。\n",
    "#字典推导式：\n",
    "#dict_comp = {key-expr: value-expr for value in collection if condition}\n",
    "\n",
    "#集合推导式：\n",
    "#set_comp = {expr for value in collection if condition}"
   ]
  },
  {
   "cell_type": "code",
   "execution_count": 10,
   "id": "fe7c541d",
   "metadata": {},
   "outputs": [
    {
     "data": {
      "text/plain": [
       "{1, 2, 3, 4, 6}"
      ]
     },
     "execution_count": 10,
     "metadata": {},
     "output_type": "execute_result"
    }
   ],
   "source": [
    "#如果想要一个集合，集合里包含列表中字符串的长度，可以通过集合推导式实现：\n",
    "\n",
    "unique_lengths = {len(x) for x in strings}\n",
    "unique_lengths\n",
    "#{1, 2, 3, 4, 6}"
   ]
  },
  {
   "cell_type": "code",
   "execution_count": 11,
   "id": "46cc42ae",
   "metadata": {},
   "outputs": [
    {
     "data": {
      "text/plain": [
       "{1, 2, 3, 4, 6}"
      ]
     },
     "execution_count": 11,
     "metadata": {},
     "output_type": "execute_result"
    }
   ],
   "source": [
    "#map函数更函数、更简洁表达：\n",
    "set(map(len,strings))"
   ]
  },
  {
   "cell_type": "code",
   "execution_count": 17,
   "id": "6026638b",
   "metadata": {},
   "outputs": [
    {
     "data": {
      "text/plain": [
       "{'a': 0, 'as': 1, 'bat': 2, 'car': 3, 'dove': 4, 'python': 5}"
      ]
     },
     "execution_count": 17,
     "metadata": {},
     "output_type": "execute_result"
    }
   ],
   "source": [
    "#将字符串与位置相匹配的字典作为字典推导式实例：\n",
    "#给val加index\n",
    "\n",
    "loc_mapping = {val: index for index, val in enumerate(strings)}\n",
    "\n",
    "loc_mapping\n",
    "#{'a': 0, 'as': 1, 'bat': 2, 'car': 3, 'dove': 4, 'python': 5}"
   ]
  },
  {
   "cell_type": "code",
   "execution_count": 24,
   "id": "7f385658",
   "metadata": {},
   "outputs": [
    {
     "data": {
      "text/plain": [
       "['Steven']"
      ]
     },
     "execution_count": 24,
     "metadata": {},
     "output_type": "execute_result"
    }
   ],
   "source": [
    "#3.1.6.1 嵌套列表推导式\n",
    "#包含列表的列表\n",
    "\n",
    "all_data = [['John', 'Emily', 'Michael', 'Mary', 'Steven'],\n",
    "            ['Maria', 'Juan', 'Javier', 'Natalia', 'Pilar']]\n",
    "\n",
    "#假设想获得一个列表，包含所有含有2个以上e的名字，可以使用for循环：\n",
    "names_of_interest = []\n",
    "for names in all_data:\n",
    "    enough_as = [name for name in names if name.count('e') >= 2]\n",
    "    names_of_interest.extend(enough_as)\n",
    "\n",
    "names_of_interest \n",
    "#['Steven']"
   ]
  },
  {
   "cell_type": "code",
   "execution_count": 29,
   "id": "f4ec31db",
   "metadata": {},
   "outputs": [
    {
     "data": {
      "text/plain": [
       "['Steven']"
      ]
     },
     "execution_count": 29,
     "metadata": {},
     "output_type": "execute_result"
    }
   ],
   "source": [
    "#上列也可以用一个嵌套列表推导式完成\n",
    "result = [name for names in all_data for name in names if name.count('e') >= 2]\n",
    "result\n",
    "#['Steven']"
   ]
  },
  {
   "cell_type": "code",
   "execution_count": 33,
   "id": "744e7c5d",
   "metadata": {},
   "outputs": [
    {
     "data": {
      "text/plain": [
       "[1, 2, 3, 4, 5, 6, 7, 8, 9]"
      ]
     },
     "execution_count": 33,
     "metadata": {},
     "output_type": "execute_result"
    }
   ],
   "source": [
    "#将整数元素列表扁平化为一个简单的整数列表：\n",
    "some_tuples = [(1,2,3), (4,5,6), (7,8,9)]\n",
    "flattend = [x for tup in some_tuples for x in tup]\n",
    "\n",
    "flattend\n",
    "#[1, 2, 3, 4, 5, 6, 7, 8, 9]"
   ]
  },
  {
   "cell_type": "code",
   "execution_count": 36,
   "id": "adacb290",
   "metadata": {},
   "outputs": [
    {
     "data": {
      "text/plain": [
       "[[1, 2, 3], [4, 5, 6], [7, 8, 9]]"
      ]
     },
     "execution_count": 36,
     "metadata": {},
     "output_type": "execute_result"
    }
   ],
   "source": [
    "#可以嵌套多层的列表推导式\n",
    "#嵌套推导式的语法，要和列表推导式中的列表推导式区分开\n",
    "\n",
    "[[x for x in tup] for tup in some_tuples]\n",
    "#[[1, 2, 3], [4, 5, 6], [7, 8, 9]]"
   ]
  },
  {
   "cell_type": "code",
   "execution_count": 39,
   "id": "de5e7591",
   "metadata": {},
   "outputs": [
    {
     "data": {
      "text/plain": [
       "<function __main__.my_function(x, y, z=1.5)>"
      ]
     },
     "execution_count": 39,
     "metadata": {},
     "output_type": "execute_result"
    }
   ],
   "source": [
    "#3.2 函数\n",
    "\n",
    "#函数声明时，使用def关键字，返回时使用return关键字\n",
    "\n",
    "def my_function(x, y, z = 1.5):\n",
    "    if z > 1:\n",
    "        return z * (x + y)\n",
    "    else:\n",
    "        return z / (x + y)\n",
    "\n",
    "my_function\n",
    "#<function __main__.my_function(x, y, z=1.5)>"
   ]
  },
  {
   "cell_type": "code",
   "execution_count": 52,
   "id": "9217f347",
   "metadata": {},
   "outputs": [
    {
     "data": {
      "text/plain": [
       "77"
      ]
     },
     "execution_count": 52,
     "metadata": {},
     "output_type": "execute_result"
    }
   ],
   "source": [
    "#有多条返回语句没有问题，但如果python达到函数尾部，扔没有遇到Return语句，就会自动返回None\n",
    "#每个函数都可以有位置参数，关键字参数。关键字参数最长用于指定默认值或可选参数。\n",
    "#x.y 是位置参数，z是关键字参数。\n",
    "\n",
    "my_function(5, 6, z=0.7)\n",
    "#0.06363636363636363 #0.7/11\n",
    "\n",
    "my_function(3.14, 7, 3.5) #3.5*10.14\n",
    "\n",
    "my_function(10,20) #1.5*30\n",
    "\n",
    "#也可以使用关键字参数向位置参数传参，可以按照任意书序指定关键字参数。\n",
    "my_function(x=5, y=6, z=7) \n",
    "#77\n",
    "\n",
    "my_function(y=6, x=5, z=7)\n",
    "#77"
   ]
  },
  {
   "cell_type": "code",
   "execution_count": 92,
   "id": "e50abeda",
   "metadata": {},
   "outputs": [
    {
     "name": "stdout",
     "output_type": "stream",
     "text": [
      "[]\n"
     ]
    }
   ],
   "source": [
    "#3.2.1 命名空间，作用于和本地函数\n",
    "#函数有两种连接变量的方式：全局，本地。\n",
    "#函数内部，任意变量都是默认分配到本地命名空间的。本地命名空间是在函数被调用时生成的，并由函数的参数填充。\n",
    "#当函数结束后，本地命名空间就会被销毁。\n",
    "\n",
    "#当调用func()时，空的列表a会把创建，5个元素被添加到列表，a会在函数退出时被销毁。 \n",
    "def func():\n",
    "    a = []\n",
    "    for i in range(5):\n",
    "        a.append(i)\n",
    "print(a)\n",
    "#[]"
   ]
  },
  {
   "cell_type": "code",
   "execution_count": 93,
   "id": "e0b7a78b",
   "metadata": {},
   "outputs": [
    {
     "name": "stdout",
     "output_type": "stream",
     "text": [
      "[]\n"
     ]
    }
   ],
   "source": [
    "a = []\n",
    "def func():\n",
    "    for i in range(5):\n",
    "        a.append(i)\n",
    "print(a)\n",
    "#[]"
   ]
  },
  {
   "cell_type": "code",
   "execution_count": 94,
   "id": "b4b08a58",
   "metadata": {},
   "outputs": [
    {
     "name": "stdout",
     "output_type": "stream",
     "text": [
      "None\n"
     ]
    }
   ],
   "source": [
    "#在函数外部给变量赋值是可以的，但是那些变量必须使用global关键字声明为全局变量：\n",
    "a = None\n",
    "def bind_a_variable():\n",
    "    global a\n",
    "    a = []\n",
    "print(a)\n",
    "#None"
   ]
  },
  {
   "cell_type": "code",
   "execution_count": 96,
   "id": "a90fbe9b",
   "metadata": {},
   "outputs": [
    {
     "name": "stdout",
     "output_type": "stream",
     "text": [
      "5 6 7\n"
     ]
    }
   ],
   "source": [
    "#3.2.2 返回多个值\n",
    "\n",
    "#使用简单语法，可以从函数中返回多个值\n",
    "def f():\n",
    "    a = 5\n",
    "    b = 6 \n",
    "    c = 7\n",
    "    return a, b, c\n",
    "\n",
    "a, b, c = f()\n",
    "print(a,b,c)\n",
    "#5 6 7"
   ]
  },
  {
   "cell_type": "code",
   "execution_count": 98,
   "id": "aeac7160",
   "metadata": {},
   "outputs": [],
   "source": [
    "#返回多个值，实际上是返回了一个对象，即元组，而元组之后又被拆包为多个结果变量。\n",
    "return_value = f()"
   ]
  },
  {
   "cell_type": "code",
   "execution_count": 103,
   "id": "63a9c6a8",
   "metadata": {},
   "outputs": [
    {
     "data": {
      "text/plain": [
       "{'a': 5, 'b': 6, 'c': 7}"
      ]
     },
     "execution_count": 103,
     "metadata": {},
     "output_type": "execute_result"
    }
   ],
   "source": [
    "#return_value是一个包含3个元素的元组。\n",
    "#像之前一次返回多个值，还有一种潜在的，更有吸引力的实现\n",
    "\n",
    "def f():\n",
    "    a = 5\n",
    "    b = 6 \n",
    "    c = 7 \n",
    "    return {'a':a, 'b':b, 'c':c}\n",
    "\n",
    "f()\n",
    "#{'a': 5, 'b': 6, 'c': 7}"
   ]
  },
  {
   "cell_type": "code",
   "execution_count": 120,
   "id": "349c0b6b",
   "metadata": {},
   "outputs": [
    {
     "data": {
      "text/plain": [
       "['Alabama',\n",
       " 'Georgial',\n",
       " 'Georgia',\n",
       " 'Georgia',\n",
       " 'Florida',\n",
       " 'South Carolina',\n",
       " 'West Virginia']"
      ]
     },
     "execution_count": 120,
     "metadata": {},
     "output_type": "execute_result"
    }
   ],
   "source": [
    "#3.2.3 函数是对象\n",
    "\n",
    "#对函数进行数据清洗，将一些变形应用到下列字符串列表中：去除空格，移除标点符号，调整适当的大小写\n",
    "#使用内建的字符串方法，结合标准库中的正则表达式模块re:\n",
    "\n",
    "states = ['Alabama', 'Georgial!', 'Georgia', 'georgia', 'FlOrIda', 'south carolina##', 'West virginia?']\n",
    "import re\n",
    "\n",
    "def clean_strings(strings):\n",
    "    result = []\n",
    "    for value in strings:\n",
    "        value = value.strip()            #去除空格\n",
    "        value = re.sub('[!#?]','',value) #移除标点符号\n",
    "        value = value.title()            #开头大写，后面小写\n",
    "        result.append(value)\n",
    "    return result\n",
    "\n",
    "clean_strings(states)\n",
    "# ['Alabama',\n",
    "#  'Georgial',\n",
    "#  'Georgia',\n",
    "#  'Georgia',\n",
    "#  'Florida',\n",
    "#  'South Carolina',\n",
    "#  'West Virginia']"
   ]
  },
  {
   "cell_type": "code",
   "execution_count": 131,
   "id": "b90669b2",
   "metadata": {},
   "outputs": [
    {
     "data": {
      "text/plain": [
       "['Alabama',\n",
       " 'Georgial',\n",
       " 'Georgia',\n",
       " 'Georgia',\n",
       " 'Florida',\n",
       " 'South Carolina',\n",
       " 'West Virginia']"
      ]
     },
     "execution_count": 131,
     "metadata": {},
     "output_type": "execute_result"
    }
   ],
   "source": [
    "#将特定的列表操作应用到某个字符串的集合上：\n",
    "\n",
    "def remove_punctuation(value):\n",
    "    return re.sub('[!#?]','',value)\n",
    "\n",
    "clean_ops = [str.strip, remove_punctuation, str.title]\n",
    "\n",
    "def clean_strings(strings, ops):\n",
    "    result = []\n",
    "    for value in strings:\n",
    "        for function in ops:\n",
    "            value = function(value)\n",
    "        result.append(value)\n",
    "    return result\n",
    "\n",
    "#先是指针指到states中的value，再在每个value上，进行3次处理。每次处理完的结果append到result上。\n",
    "\n",
    "#clean_ops列表：这个列表包含三个函数，用于指定字符串清理的操作。\n",
    "#分别是str.strip、remove_punctuation和str.title。\n",
    "#str.strip函数用于去除字符串两端的空格，remove_punctuation函数用于去除标点符号，str.title函数用于将字符串转换为标题格式（每个单词的首字母大写，其余小写）。\n",
    "\n",
    "clean_strings(states, clean_ops)\n",
    "# ['Alabama',\n",
    "#  'Georgial',\n",
    "#  'Georgia',\n",
    "#  'Georgia',\n",
    "#  'Florida',\n",
    "#  'South Carolina',\n",
    "#  'West Virginia']"
   ]
  },
  {
   "cell_type": "code",
   "execution_count": null,
   "id": "499a01c5",
   "metadata": {},
   "outputs": [],
   "source": [
    "#https://pythontutor.com/visualize.html#code=states%20%3D%20%5B'Alabama',%20'Georgial!',%20'Georgia',%20'georgia',%20'FlOrIda',%20'south%20carolina%23%23',%20'West%20virginia%3F'%5D%0Aimport%20re%0A%0Adef%20remove_punctuation%28value%29%3A%0A%20%20%20%20return%20re.sub%28'%5B!%23%3F%5D','',value%29%0A%0Aclean_ops%20%3D%20%5Bstr.strip,%20remove_punctuation,%20str.title%5D%0A%0Adef%20clean_strings%28strings,%20ops%29%3A%0A%20%20%20%20result%20%3D%20%5B%5D%0A%20%20%20%20for%20value%20in%20strings%3A%0A%20%20%20%20%20%20%20%20for%20function%20in%20ops%3A%0A%20%20%20%20%20%20%20%20%20%20%20%20value%20%3D%20function%28value%29%0A%20%20%20%20%20%20%20%20result.append%28value%29%0A%20%20%20%20return%20result%0A%0Aclean_strings%28states,%20clean_ops%29&cumulative=false&curInstr=95&heapPrimitives=nevernest&mode=display&origin=opt-frontend.js&py=3&rawInputLstJSON=%5B%5D&textReferences=false"
   ]
  },
  {
   "cell_type": "markdown",
   "id": "f4026b35",
   "metadata": {},
   "source": [
    "# 3.2.4匿名(lambda)函数"
   ]
  },
  {
   "cell_type": "code",
   "execution_count": 156,
   "id": "516a2849",
   "metadata": {},
   "outputs": [
    {
     "data": {
      "text/plain": [
       "6"
      ]
     },
     "execution_count": 156,
     "metadata": {},
     "output_type": "execute_result"
    }
   ],
   "source": [
    "def short_function(x):\n",
    "    return x * 2\n",
    "\n",
    "equiv_anon = lambda x: x * 2\n",
    "\n",
    "short_function(3)\n",
    "#6\n",
    "\n",
    "equiv_anon(3)\n",
    "#6"
   ]
  },
  {
   "cell_type": "code",
   "execution_count": 159,
   "id": "833fc710",
   "metadata": {},
   "outputs": [
    {
     "data": {
      "text/plain": [
       "[8, 0, 2, 10, 12]"
      ]
     },
     "execution_count": 159,
     "metadata": {},
     "output_type": "execute_result"
    }
   ],
   "source": [
    "#不佳示例\n",
    "\n",
    "def apply_to_list(some_list, f):\n",
    "    return [f(x) for x in some_list]\n",
    "\n",
    "ints = [4, 0, 1, 5, 6]\n",
    "apply_to_list(ints, lambda x: x * 2)\n",
    "#[8, 0, 2, 10, 12]\n",
    "\n",
    "#这里可以简单将一个自定义操作符传递给apply_to_list函数，比如[x * 2 for x in ints]"
   ]
  },
  {
   "cell_type": "code",
   "execution_count": 158,
   "id": "d8ecd1de",
   "metadata": {},
   "outputs": [
    {
     "data": {
      "text/plain": [
       "['aaaa', 'foo', 'abab', 'bar', 'card']"
      ]
     },
     "execution_count": 158,
     "metadata": {},
     "output_type": "execute_result"
    }
   ],
   "source": [
    "def apply_to_list(some_list, f):\n",
    "    return [f(x) for x in some_list]\n",
    "\n",
    "strings = ['foo', 'card', 'bar', 'aaaa', 'abab']\n",
    "\n",
    "strings.sort(key = lambda x: len(set(list(x))))\n",
    "\n",
    "strings\n",
    "#['aaaa', 'foo', 'abab', 'bar', 'card']"
   ]
  },
  {
   "cell_type": "code",
   "execution_count": 168,
   "id": "403a1299",
   "metadata": {},
   "outputs": [
    {
     "data": {
      "text/plain": [
       "8"
      ]
     },
     "execution_count": 168,
     "metadata": {},
     "output_type": "execute_result"
    }
   ],
   "source": [
    "#3.2.4 柯里化：部分参数应用\n",
    "\n",
    "def add_numbers(x, y):\n",
    "    return x + y\n",
    "\n",
    "add_five = lambda y: add_numbers(5, y)\n",
    "\n",
    "add_five(2)\n",
    "#7\n",
    "\n",
    "#第二个参数对于add_numbers就是柯里化，定义一个新函数，这个新函数调用了已经存在的函数。\n",
    "#functools可以使用pratial函数简化处理：\n",
    "\n",
    "from functools import partial\n",
    "add_five = partial(add_numbers, 5)\n",
    "\n",
    "add_five(3)\n",
    "#8"
   ]
  },
  {
   "cell_type": "code",
   "execution_count": 172,
   "id": "22a29399",
   "metadata": {},
   "outputs": [
    {
     "name": "stdout",
     "output_type": "stream",
     "text": [
      "a\n",
      "b\n",
      "c\n"
     ]
    }
   ],
   "source": [
    "#3.2.6 生成器\n",
    "\n",
    "#通过一致的方式，遍历序列\n",
    "\n",
    "some_dict = {'a': 1, 'b': 2, 'c': 3}\n",
    "\n",
    "for key in some_dict:\n",
    "    print(key)\n",
    "\n",
    "# a\n",
    "# b\n",
    "# c"
   ]
  },
  {
   "cell_type": "code",
   "execution_count": 179,
   "id": "21f27095",
   "metadata": {},
   "outputs": [
    {
     "data": {
      "text/plain": [
       "['a', 'b', 'c']"
      ]
     },
     "execution_count": 179,
     "metadata": {},
     "output_type": "execute_result"
    }
   ],
   "source": [
    "#当写下for key in some_dict时，生成一个迭代器：\n",
    "\n",
    "dict_iterator = iter(some_dict)\n",
    "dict_iterator\n",
    "#<dict_keyiterator at 0x1e873e88f90>\n",
    "\n",
    "#大部分以列表对象为参数的方法，可以接收任意迭代器对象\n",
    "#min, max, sum, list, tuple\n",
    "list(dict_iterator)\n",
    "#['a', 'b', 'c']"
   ]
  },
  {
   "cell_type": "code",
   "execution_count": 183,
   "id": "cb80ba24",
   "metadata": {},
   "outputs": [],
   "source": [
    "#生成器是构建可比案例对象非常简洁的方式\n",
    "#普通函数执行并一次返回单个结果，生成器则返回一个多结果序列\n",
    "#每一个元素产生后暂停，指到下一个请求。\n",
    "#创建一个生成器，将return替换为yield即可\n",
    "#每次迭代时，yield 语句会暂停函数的执行，并将当前的值产生出来。\n",
    "#下次迭代时，函数会从上次暂停的位置继续执行，生成下一个值。\n",
    "\n",
    "def squares(n = 10):\n",
    "    print('Generating squares from 1 to {0}.format(n ** 2)')\n",
    "    for i in range(1, n + 1):\n",
    "        yield i ** 2\n",
    "\n",
    "gen = squares()\n",
    "gen\n",
    "\n",
    "for x in gen:\n",
    "    print(f\"{x},\", end = '')"
   ]
  },
  {
   "cell_type": "code",
   "execution_count": null,
   "id": "6ae2b6c9",
   "metadata": {},
   "outputs": [],
   "source": [
    "#https://pythontutor.com/visualize.html#code=def%20squares%28n%20%3D%2010%29%3A%0A%20%20%20%20print%28'Generating%20squares%20from%201%20to%20%7B0%7D.format%28n%20**%202%29'%29%0A%20%20%20%20for%20i%20in%20range%281,%20n%20%2B%201%29%3A%0A%20%20%20%20%20%20%20%20yield%20i%20**%202%0A%0Agen%20%3D%20squares%28%29%0Agen%0A%0Afor%20x%20in%20gen%3A%0A%20%20%20%20print%28f%22%7Bx%7D,%22,%20end%20%3D%20''%29&cumulative=false&curInstr=0&heapPrimitives=nevernest&mode=display&origin=opt-frontend.js&py=3&rawInputLstJSON=%5B%5D&textReferences=false"
   ]
  },
  {
   "cell_type": "code",
   "execution_count": 188,
   "id": "0ee61e0d",
   "metadata": {},
   "outputs": [
    {
     "data": {
      "text/plain": [
       "{0: 0, 1: 1, 2: 4, 3: 9, 4: 16}"
      ]
     },
     "execution_count": 188,
     "metadata": {},
     "output_type": "execute_result"
    }
   ],
   "source": [
    "# 3.2.6.1 生成器表达式\n",
    "#生成器表达式更简单，只需要将列表推导式的中括号替换为小括号：\n",
    "\n",
    "gen = (x ** 2 for x in range(100))\n",
    "gen\n",
    "\n",
    "#上面代码等价于下\n",
    "\n",
    "def _make_gen():\n",
    "    for x in range(100):\n",
    "        yield x ** 2\n",
    "gen = _make_gen()\n",
    "\n",
    "#生成器表达式可以作为函数参数替代列表推导式\n",
    "sum(x ** 2 for x in range(100))\n",
    "#328350\n",
    "\n",
    "dict((i, i ** 2) for i in range(5))\n",
    "#{0: 0, 1: 1, 2: 4, 3: 9, 4: 16}"
   ]
  },
  {
   "cell_type": "code",
   "execution_count": 195,
   "id": "f6bce305",
   "metadata": {},
   "outputs": [
    {
     "name": "stdout",
     "output_type": "stream",
     "text": [
      "A ['Alan', 'Adam']\n",
      "W ['Wes', 'Will']\n",
      "A ['Albert']\n",
      "S ['Steven']\n"
     ]
    }
   ],
   "source": [
    "#3.2.6.1 itertools模块\n",
    "\n",
    "#itertools.groupby 将连续相同的元素分组在一起，并生成每个分组的键值和相应的元素列表。这对于对数据进行分组和聚合操作非常有用。\n",
    "\n",
    "import itertools\n",
    "\n",
    "first_letter = lambda x: x[0]\n",
    "names = ['Alan', 'Adam', 'Wes', 'Will', 'Albert', 'Steven']\n",
    "\n",
    "for letter, names in itertools.groupby(names, first_letter):\n",
    "    print(letter, list(names))\n",
    "\n",
    "# A ['Alan', 'Adam']\n",
    "# W ['Wes', 'Will']\n",
    "# A ['Albert']\n",
    "# S ['Steven']"
   ]
  },
  {
   "cell_type": "code",
   "execution_count": null,
   "id": "578a8023",
   "metadata": {},
   "outputs": [],
   "source": [
    "#https://pythontutor.com/visualize.html#code=import%20itertools%0A%0Afirst_letter%20%3D%20lambda%20x%3A%20x%5B0%5D%0Anames%20%3D%20%5B'Alan',%20'Adam',%20'Wes',%20'Will',%20'Albert',%20'Steven'%5D%0A%0Afor%20letter,%20names%20in%20itertools.groupby%28names,%20first_letter%29%3A%0A%20%20%20%20print%28letter,%20list%28names%29%29&cumulative=false&curInstr=30&heapPrimitives=nevernest&mode=display&origin=opt-frontend.js&py=3&rawInputLstJSON=%5B%5D&textReferences=false"
   ]
  },
  {
   "cell_type": "code",
   "execution_count": 200,
   "id": "047b3397",
   "metadata": {},
   "outputs": [],
   "source": [
    "#其他有用intertools函数\n",
    "\n",
    "import itertools\n",
    "\n",
    "#combinations(iterable, k)\n",
    "#permutations(iterable, k)\n",
    "#groupby(iterable[,keyfunc])\n",
    "#product(*iterables, repeat = 1)"
   ]
  },
  {
   "cell_type": "code",
   "execution_count": 201,
   "id": "9e400f4e",
   "metadata": {},
   "outputs": [],
   "source": [
    "#3.2.7错误和异常处理"
   ]
  },
  {
   "cell_type": "code",
   "execution_count": 202,
   "id": "9c12f725",
   "metadata": {},
   "outputs": [
    {
     "data": {
      "text/plain": [
       "1.2345"
      ]
     },
     "execution_count": 202,
     "metadata": {},
     "output_type": "execute_result"
    }
   ],
   "source": [
    "float('1.2345')"
   ]
  },
  {
   "cell_type": "code",
   "execution_count": 205,
   "id": "fd3463bc",
   "metadata": {},
   "outputs": [
    {
     "ename": "ValueError",
     "evalue": "could not convert string to float: 'something'",
     "output_type": "error",
     "traceback": [
      "\u001b[1;31m---------------------------------------------------------------------------\u001b[0m",
      "\u001b[1;31mValueError\u001b[0m                                Traceback (most recent call last)",
      "Cell \u001b[1;32mIn[205], line 1\u001b[0m\n\u001b[1;32m----> 1\u001b[0m \u001b[38;5;28;43mfloat\u001b[39;49m\u001b[43m(\u001b[49m\u001b[38;5;124;43m'\u001b[39;49m\u001b[38;5;124;43msomething\u001b[39;49m\u001b[38;5;124;43m'\u001b[39;49m\u001b[43m)\u001b[49m\n",
      "\u001b[1;31mValueError\u001b[0m: could not convert string to float: 'something'"
     ]
    }
   ],
   "source": [
    "float('something')"
   ]
  },
  {
   "cell_type": "code",
   "execution_count": 218,
   "id": "1eb4f19c",
   "metadata": {},
   "outputs": [
    {
     "ename": "TypeError",
     "evalue": "float expected at most 1 argument, got 2",
     "output_type": "error",
     "traceback": [
      "\u001b[1;31m---------------------------------------------------------------------------\u001b[0m",
      "\u001b[1;31mTypeError\u001b[0m                                 Traceback (most recent call last)",
      "Cell \u001b[1;32mIn[218], line 8\u001b[0m\n\u001b[0;32m      4\u001b[0m     \u001b[38;5;28;01mexcept\u001b[39;00m:\n\u001b[0;32m      5\u001b[0m         \u001b[38;5;28;01mreturn\u001b[39;00m x\n\u001b[1;32m----> 8\u001b[0m \u001b[38;5;28;43mfloat\u001b[39;49m\u001b[43m(\u001b[49m\u001b[38;5;241;43m1\u001b[39;49m\u001b[43m,\u001b[49m\u001b[38;5;241;43m2\u001b[39;49m\u001b[43m)\u001b[49m\n",
      "\u001b[1;31mTypeError\u001b[0m: float expected at most 1 argument, got 2"
     ]
    }
   ],
   "source": [
    "#如果想再float函数运行失败时，返回输入参数。可以写入try/ except来实现。\n",
    "#如果float(x)执行时出现异常，则代码段的except部分代码会被执行：\n",
    "\n",
    "def attempt_float(x):\n",
    "    try:\n",
    "        return float(x)\n",
    "    except:\n",
    "        return x\n",
    "    \n",
    "float(1,2)\n",
    "#出现Type Error\n",
    "#---------------------------------------------------------------------------\n",
    "# TypeError                                 Traceback (most recent call last)\n",
    "# Cell In[207], line 6\n",
    "#       4     except:\n",
    "#       5         return x\n",
    "# ----> 6 float((1,2))\n",
    "\n",
    "# TypeError: float() argument must be a string or a real number, not 'tuple'"
   ]
  },
  {
   "cell_type": "code",
   "execution_count": 211,
   "id": "66d1a0e4",
   "metadata": {},
   "outputs": [
    {
     "ename": "TypeError",
     "evalue": "float() argument must be a string or a real number, not 'tuple'",
     "output_type": "error",
     "traceback": [
      "\u001b[1;31m---------------------------------------------------------------------------\u001b[0m",
      "\u001b[1;31mTypeError\u001b[0m                                 Traceback (most recent call last)",
      "Cell \u001b[1;32mIn[211], line 1\u001b[0m\n\u001b[1;32m----> 1\u001b[0m \u001b[43mattempt_float\u001b[49m\u001b[43m(\u001b[49m\u001b[43m(\u001b[49m\u001b[38;5;241;43m1\u001b[39;49m\u001b[43m,\u001b[49m\u001b[38;5;241;43m2\u001b[39;49m\u001b[43m)\u001b[49m\u001b[43m)\u001b[49m\n\u001b[0;32m      2\u001b[0m \u001b[38;5;28;01mdef\u001b[39;00m \u001b[38;5;21mattempt_float\u001b[39m(x):\n\u001b[0;32m      3\u001b[0m     \u001b[38;5;28;01mtry\u001b[39;00m:\n",
      "Cell \u001b[1;32mIn[210], line 4\u001b[0m, in \u001b[0;36mattempt_float\u001b[1;34m(x)\u001b[0m\n\u001b[0;32m      2\u001b[0m \u001b[38;5;28;01mdef\u001b[39;00m \u001b[38;5;21mattempt_float\u001b[39m(x):\n\u001b[0;32m      3\u001b[0m     \u001b[38;5;28;01mtry\u001b[39;00m:\n\u001b[1;32m----> 4\u001b[0m         \u001b[38;5;28;01mreturn\u001b[39;00m \u001b[38;5;28;43mfloat\u001b[39;49m\u001b[43m(\u001b[49m\u001b[43mx\u001b[49m\u001b[43m)\u001b[49m\n\u001b[0;32m      5\u001b[0m     \u001b[38;5;28;01mexcept\u001b[39;00m \u001b[38;5;167;01mValueError\u001b[39;00m:\n\u001b[0;32m      6\u001b[0m         \u001b[38;5;28;01mreturn\u001b[39;00m x\n",
      "\u001b[1;31mTypeError\u001b[0m: float() argument must be a string or a real number, not 'tuple'"
     ]
    }
   ],
   "source": [
    "attempt_float((1,2))\n",
    "def attempt_float(x):\n",
    "    try:\n",
    "        return float(x)\n",
    "    except ValueError:\n",
    "        return x\n",
    "\n",
    "#会出现TypeError报错\n",
    "# ---------------------------------------------------------------------------\n",
    "# TypeError                                 Traceback (most recent call last)\n",
    "# Cell In[210], line 1\n",
    "# ----> 1 attempt_float((1,2))\n",
    "#       2 def attempt_float(x):\n",
    "#       3     try:\n",
    "\n",
    "# Cell In[210], line 4, in attempt_float(x)\n",
    "#       2 def attempt_float(x):\n",
    "#       3     try:\n",
    "# ----> 4         return float(x)\n",
    "#       5     except ValueError:\n",
    "#       6         return x\n",
    "\n",
    "# TypeError: float() argument must be a string or a real number, not 'tuple'"
   ]
  },
  {
   "cell_type": "code",
   "execution_count": 221,
   "id": "6d8c65ac",
   "metadata": {},
   "outputs": [
    {
     "data": {
      "text/plain": [
       "(1, 2)"
      ]
     },
     "execution_count": 221,
     "metadata": {},
     "output_type": "execute_result"
    }
   ],
   "source": [
    "#可以通过将多个异常类型写成元组的方式铺货多个异常：\n",
    "def attempt_float(x):\n",
    "    try:\n",
    "        return float(x)\n",
    "    except(TypeError, ValueError):\n",
    "        return x\n",
    "\n",
    "attempt_float((1,2))\n",
    "#(1, 2)"
   ]
  },
  {
   "cell_type": "code",
   "execution_count": 220,
   "id": "6a241bd5",
   "metadata": {},
   "outputs": [
    {
     "ename": "NameError",
     "evalue": "name 'path' is not defined",
     "output_type": "error",
     "traceback": [
      "\u001b[1;31m---------------------------------------------------------------------------\u001b[0m",
      "\u001b[1;31mNameError\u001b[0m                                 Traceback (most recent call last)",
      "Cell \u001b[1;32mIn[220], line 1\u001b[0m\n\u001b[1;32m----> 1\u001b[0m f \u001b[38;5;241m=\u001b[39m \u001b[38;5;28mopen\u001b[39m(\u001b[43mpath\u001b[49m, \u001b[38;5;124m'\u001b[39m\u001b[38;5;124mw\u001b[39m\u001b[38;5;124m'\u001b[39m)\n\u001b[0;32m      2\u001b[0m \u001b[38;5;28;01mtry\u001b[39;00m: \n\u001b[0;32m      3\u001b[0m     write_to_file(f)\n",
      "\u001b[1;31mNameError\u001b[0m: name 'path' is not defined"
     ]
    }
   ],
   "source": [
    "#希望一部分代码无论try代码块是否报错都要执行。可以使用finally关键字\n",
    "#下面的代码表示，让f在程序结束后总是关闭。\n",
    "\n",
    "\n",
    "f = open(path, 'w')\n",
    "try: \n",
    "    write_to_file(f)\n",
    "finally:\n",
    "    f.close()\n",
    "\n"
   ]
  },
  {
   "cell_type": "code",
   "execution_count": 222,
   "id": "98cd7731",
   "metadata": {},
   "outputs": [
    {
     "ename": "NameError",
     "evalue": "name 'path' is not defined",
     "output_type": "error",
     "traceback": [
      "\u001b[1;31m---------------------------------------------------------------------------\u001b[0m",
      "\u001b[1;31mNameError\u001b[0m                                 Traceback (most recent call last)",
      "Cell \u001b[1;32mIn[222], line 3\u001b[0m\n\u001b[0;32m      1\u001b[0m \u001b[38;5;66;03m#类似，也可以使用else来执行当try代码块成功执行时，才会执行的代码\u001b[39;00m\n\u001b[1;32m----> 3\u001b[0m f \u001b[38;5;241m=\u001b[39m \u001b[38;5;28mopen\u001b[39m(\u001b[43mpath\u001b[49m, \u001b[38;5;124m'\u001b[39m\u001b[38;5;124mw\u001b[39m\u001b[38;5;124m'\u001b[39m)\n\u001b[0;32m      4\u001b[0m \u001b[38;5;28;01mtry\u001b[39;00m: \n\u001b[0;32m      5\u001b[0m     write_to_file(f)\n",
      "\u001b[1;31mNameError\u001b[0m: name 'path' is not defined"
     ]
    }
   ],
   "source": [
    "#类似，也可以使用else来执行当try代码块成功执行时，才会执行的代码\n",
    "\n",
    "f = open(path, 'w')\n",
    "try: \n",
    "    write_to_file(f)\n",
    "except:\n",
    "    print('Failed')\n",
    "else:\n",
    "    print('Succeeded')\n",
    "finally:\n",
    "    f.close()    "
   ]
  },
  {
   "cell_type": "code",
   "execution_count": 229,
   "id": "54837b77",
   "metadata": {},
   "outputs": [
    {
     "ename": "SyntaxError",
     "evalue": "incomplete input (3164777821.py, line 20)",
     "output_type": "error",
     "traceback": [
      "\u001b[1;36m  Cell \u001b[1;32mIn[229], line 20\u001b[1;36m\u001b[0m\n\u001b[1;33m    #使用with语句，文件会在with代码结束后自动关闭\u001b[0m\n\u001b[1;37m                               ^\u001b[0m\n\u001b[1;31mSyntaxError\u001b[0m\u001b[1;31m:\u001b[0m incomplete input\n"
     ]
    }
   ],
   "source": [
    "#3.3 文件与操作系统\n",
    "\n",
    "#打开文件读取/写入，需要使用内建函数open和绝对、相对路径：\n",
    "path = 'examples/segismundo.txt'\n",
    "f = open(path)\n",
    "\n",
    "#文件是以只读模式r打开的。之后可以像处理列表一样处理文件f，并遍历f中的行内容：\n",
    "for line in f:\n",
    "    pass\n",
    "for line in f:\n",
    "    pass\n",
    "\n",
    "lines = [x.rstrip() for x in open(path)]\n",
    "lines\n",
    "\n",
    "#当使用open来创建对象，要最后关闭文件。\n",
    "f.close()\n",
    "#或者用 with关闭文件\n",
    "with open(path) as f:\n",
    "#使用with语句，文件会在with代码结束后自动关闭"
   ]
  },
  {
   "cell_type": "code",
   "execution_count": 230,
   "id": "cbb9f524",
   "metadata": {},
   "outputs": [],
   "source": [
    "#读取文件，read, seek, tell\n",
    "#read返回文件中一定量的字符。\n",
    "\n",
    "f = open(path)\n",
    "f.read(10)\n",
    "f2 = open(path, 'rb') #binary moe\n",
    "f2.read(10)\n",
    "\n",
    "#read方法通过读取的字节数来推进文件句柄的位置。\n",
    "#tell可以给出句柄当前位置\n",
    "\n",
    "f.tell()\n",
    "f2.tell()"
   ]
  },
  {
   "cell_type": "code",
   "execution_count": 235,
   "id": "db4c7218",
   "metadata": {},
   "outputs": [
    {
     "data": {
      "text/plain": [
       "'utf-8'"
      ]
     },
     "execution_count": 235,
     "metadata": {},
     "output_type": "execute_result"
    }
   ],
   "source": [
    "#sys模块检查文件默认编码：\n",
    "import sys\n",
    "sys.getdefaultencoding()\n",
    "#'utf-8'"
   ]
  },
  {
   "cell_type": "code",
   "execution_count": null,
   "id": "672a52f0",
   "metadata": {},
   "outputs": [],
   "source": [
    "#seek方法将句柄位置改变到特定字节\n",
    "f.seek(3)\n",
    "f.read(1)\n"
   ]
  },
  {
   "cell_type": "code",
   "execution_count": null,
   "id": "d09ed22d",
   "metadata": {},
   "outputs": [],
   "source": [
    "#最后关闭文件\n",
    "\n",
    "f.close()\n",
    "f2.close()"
   ]
  },
  {
   "cell_type": "code",
   "execution_count": null,
   "id": "6d66c75f",
   "metadata": {},
   "outputs": [],
   "source": [
    "#python文件模式：\n",
    "r：只读模式\n",
    "w：只写模式\n",
    "a: 添加到已存在的文件\n",
    "r+: 读写模式\n",
    "b: 二进制文件的模式\n",
    "t: 文件的文本模式"
   ]
  },
  {
   "cell_type": "code",
   "execution_count": 236,
   "id": "ac7ed232",
   "metadata": {},
   "outputs": [
    {
     "ename": "AttributeError",
     "evalue": "'_io.TextIOWrapper' object has no attribute 'wrtelines'",
     "output_type": "error",
     "traceback": [
      "\u001b[1;31m---------------------------------------------------------------------------\u001b[0m",
      "\u001b[1;31mAttributeError\u001b[0m                            Traceback (most recent call last)",
      "Cell \u001b[1;32mIn[236], line 4\u001b[0m\n\u001b[0;32m      1\u001b[0m \u001b[38;5;66;03m#为了将文本写入文件，可以使用write或writelines方法，创建一个没有空行的prof.py\u001b[39;00m\n\u001b[0;32m      3\u001b[0m \u001b[38;5;28;01mwith\u001b[39;00m \u001b[38;5;28mopen\u001b[39m(\u001b[38;5;124m'\u001b[39m\u001b[38;5;124mtmp.txt\u001b[39m\u001b[38;5;124m'\u001b[39m, \u001b[38;5;124m'\u001b[39m\u001b[38;5;124mw\u001b[39m\u001b[38;5;124m'\u001b[39m) \u001b[38;5;28;01mas\u001b[39;00m handle:\n\u001b[1;32m----> 4\u001b[0m     \u001b[43mhandle\u001b[49m\u001b[38;5;241;43m.\u001b[39;49m\u001b[43mwrtelines\u001b[49m(x \u001b[38;5;28;01mfor\u001b[39;00m x \u001b[38;5;129;01min\u001b[39;00m \u001b[38;5;28mopen\u001b[39m(path) \u001b[38;5;28;01mif\u001b[39;00m \u001b[38;5;28mlen\u001b[39m(x) \u001b[38;5;241m>\u001b[39m \u001b[38;5;241m1\u001b[39m)\n\u001b[0;32m      5\u001b[0m \u001b[38;5;28;01mwith\u001b[39;00m \u001b[38;5;28mopen\u001b[39m(\u001b[38;5;124m'\u001b[39m\u001b[38;5;124mtmp.txt\u001b[39m\u001b[38;5;124m'\u001b[39m) \u001b[38;5;28;01mas\u001b[39;00m f:\n\u001b[0;32m      6\u001b[0m     lines \u001b[38;5;241m=\u001b[39m f\u001b[38;5;241m.\u001b[39mreadlines()\n",
      "\u001b[1;31mAttributeError\u001b[0m: '_io.TextIOWrapper' object has no attribute 'wrtelines'"
     ]
    }
   ],
   "source": [
    "#为了将文本写入文件，可以使用write或writelines方法，创建一个没有空行的prof.py\n",
    "\n",
    "with open('tmp.txt', 'w') as handle:\n",
    "    handle.wrtelines(x for x in open(path) if len(x) > 1)\n",
    "with open('tmp.txt') as f:\n",
    "    lines = f.readlines()\n",
    "lines"
   ]
  },
  {
   "cell_type": "code",
   "execution_count": null,
   "id": "f6989d68",
   "metadata": {},
   "outputs": [],
   "source": [
    "#重要的python文件方法或属性\n",
    "read([size]) #将文件数据作为字符串返回，可选参数size控制读取的字节数\n",
    "readlines([size]) #返回文件中行内容的列表，size参数可选\n",
    "write(str) #将字符串写入文件\n",
    "writelines(strings) #将字符串写入文件\n",
    "close() #关闭文件\n",
    "flush() #将内部IO缓冲器内容刷新到硬盘\n",
    "seek(pos) #一栋到指定为止\n",
    "tell() #返回当前的文件位置，返回值是整数\n",
    "closed #如果文件关闭，则为True"
   ]
  },
  {
   "cell_type": "code",
   "execution_count": 238,
   "id": "64168bf6",
   "metadata": {},
   "outputs": [
    {
     "ename": "FileNotFoundError",
     "evalue": "[Errno 2] No such file or directory: 'examples/segismundo.txt'",
     "output_type": "error",
     "traceback": [
      "\u001b[1;31m---------------------------------------------------------------------------\u001b[0m",
      "\u001b[1;31mFileNotFoundError\u001b[0m                         Traceback (most recent call last)",
      "Cell \u001b[1;32mIn[238], line 3\u001b[0m\n\u001b[0;32m      1\u001b[0m \u001b[38;5;66;03m#字节与unicode文件\u001b[39;00m\n\u001b[1;32m----> 3\u001b[0m \u001b[38;5;28;01mwith\u001b[39;00m \u001b[38;5;28;43mopen\u001b[39;49m\u001b[43m(\u001b[49m\u001b[43mpath\u001b[49m\u001b[43m)\u001b[49m \u001b[38;5;28;01mas\u001b[39;00m f:\n\u001b[0;32m      4\u001b[0m     chars \u001b[38;5;241m=\u001b[39m f\u001b[38;5;241m.\u001b[39mread(\u001b[38;5;241m10\u001b[39m)\n\u001b[0;32m      5\u001b[0m chars\n",
      "File \u001b[1;32m~\\anaconda3\\lib\\site-packages\\IPython\\core\\interactiveshell.py:282\u001b[0m, in \u001b[0;36m_modified_open\u001b[1;34m(file, *args, **kwargs)\u001b[0m\n\u001b[0;32m    275\u001b[0m \u001b[38;5;28;01mif\u001b[39;00m file \u001b[38;5;129;01min\u001b[39;00m {\u001b[38;5;241m0\u001b[39m, \u001b[38;5;241m1\u001b[39m, \u001b[38;5;241m2\u001b[39m}:\n\u001b[0;32m    276\u001b[0m     \u001b[38;5;28;01mraise\u001b[39;00m \u001b[38;5;167;01mValueError\u001b[39;00m(\n\u001b[0;32m    277\u001b[0m         \u001b[38;5;124mf\u001b[39m\u001b[38;5;124m\"\u001b[39m\u001b[38;5;124mIPython won\u001b[39m\u001b[38;5;124m'\u001b[39m\u001b[38;5;124mt let you open fd=\u001b[39m\u001b[38;5;132;01m{\u001b[39;00mfile\u001b[38;5;132;01m}\u001b[39;00m\u001b[38;5;124m by default \u001b[39m\u001b[38;5;124m\"\u001b[39m\n\u001b[0;32m    278\u001b[0m         \u001b[38;5;124m\"\u001b[39m\u001b[38;5;124mas it is likely to crash IPython. If you know what you are doing, \u001b[39m\u001b[38;5;124m\"\u001b[39m\n\u001b[0;32m    279\u001b[0m         \u001b[38;5;124m\"\u001b[39m\u001b[38;5;124myou can use builtins\u001b[39m\u001b[38;5;124m'\u001b[39m\u001b[38;5;124m open.\u001b[39m\u001b[38;5;124m\"\u001b[39m\n\u001b[0;32m    280\u001b[0m     )\n\u001b[1;32m--> 282\u001b[0m \u001b[38;5;28;01mreturn\u001b[39;00m io_open(file, \u001b[38;5;241m*\u001b[39margs, \u001b[38;5;241m*\u001b[39m\u001b[38;5;241m*\u001b[39mkwargs)\n",
      "\u001b[1;31mFileNotFoundError\u001b[0m: [Errno 2] No such file or directory: 'examples/segismundo.txt'"
     ]
    }
   ],
   "source": [
    "#字节与unicode文件\n",
    "\n",
    "with open(path) as f:\n",
    "    chars = f.read(10)\n",
    "chars\n",
    "\n",
    "with open(path, 'rb') as f:\n",
    "    data = f.read(10)\n",
    "\n",
    "data\n",
    "\n",
    "data.decode('utf8')\n",
    "data[:4].decode('utf8')\n",
    "\n",
    "sink_path = 'sink.txt'\n",
    "with open(path) as source:\n",
    "with open(sink_path, 'xt', encoding = 'iso-8859-1') as sink:\n",
    "    sink.write(source.read())\n",
    "with open(sink_path, encoding = 'iso-8859-1') as f:\n",
    "    print(f.read(10))\n",
    "f = open(path)\n",
    "f.read(5)\n",
    "f.seek(4)\n",
    "f.read(1)"
   ]
  },
  {
   "cell_type": "code",
   "execution_count": null,
   "id": "3ffec9a9",
   "metadata": {},
   "outputs": [],
   "source": [
    "#\"array\"（数组）是指存储相同类型元素的集合，这些元素在内存中按照连续的方式排列。\n",
    "\n",
    "#数组是一种常见的数据结构，用于有效地存储和访问多个相同类型的元素。\n",
    "\n",
    "#数组可以是一维的（包含一组线性排列的元素），也可以是多维的（包含多个维度的元素，例如二维数组、三维数组等）。\n",
    "\n",
    "#数组的优势在于可以通过索引快速访问和修改元素，因为数组中的元素在内存中是连续存储的。\n",
    "\n",
    "#通过索引，可以直接定位并访问特定位置的元素，而不需要遍历整个数组。"
   ]
  },
  {
   "cell_type": "code",
   "execution_count": null,
   "id": "4e49ad40",
   "metadata": {},
   "outputs": [],
   "source": []
  },
  {
   "cell_type": "code",
   "execution_count": null,
   "id": "bffd7223",
   "metadata": {},
   "outputs": [],
   "source": []
  }
 ],
 "metadata": {
  "kernelspec": {
   "display_name": "Python 3 (ipykernel)",
   "language": "python",
   "name": "python3"
  },
  "language_info": {
   "codemirror_mode": {
    "name": "ipython",
    "version": 3
   },
   "file_extension": ".py",
   "mimetype": "text/x-python",
   "name": "python",
   "nbconvert_exporter": "python",
   "pygments_lexer": "ipython3",
   "version": "3.10.9"
  }
 },
 "nbformat": 4,
 "nbformat_minor": 5
}
