{
 "cells": [
  {
   "cell_type": "code",
   "execution_count": null,
   "id": "da485c66",
   "metadata": {},
   "outputs": [],
   "source": [
    "#安装ipython, jupyternotebook:\n",
    "# PS C:\\Users\\miran\\lpthw> pip install jupyterlab\n",
    "# [notice] To update, run: python.exe -m pip install --upgrade pip"
   ]
  },
  {
   "cell_type": "code",
   "execution_count": null,
   "id": "a1a3389b",
   "metadata": {},
   "outputs": [],
   "source": [
    "#run ipython\n",
    "#PS C:\\Users\\miran\\lpthw> ipython"
   ]
  },
  {
   "cell_type": "code",
   "execution_count": 25,
   "id": "adcc0c3f",
   "metadata": {},
   "outputs": [],
   "source": [
    "import numpy as np\n",
    "import matplotlib.pyplot as plt\n",
    "import pandas as pd\n",
    "import seaborn as sns\n",
    "import statsmodels as sm"
   ]
  },
  {
   "cell_type": "code",
   "execution_count": 26,
   "id": "2620d15e",
   "metadata": {},
   "outputs": [],
   "source": [
    "# PS C:\\Users\\miran\\lpthw> python\n",
    "# Python 3.11.3 (tags/v3.11.3:f3909b8, Apr  4 2023, 23:49:59) [MSC v.1934 64 bit (AMD64)] on win32\n",
    "# Type \"help\", \"copyright\", \"credits\" or \"license\" for more information.\n",
    "# >>> a = 5\n",
    "# >>> print(a)\n",
    "# 5\n",
    "# >>> print('Hello World')\n",
    "# Hello World\n",
    "# >>>"
   ]
  },
  {
   "cell_type": "code",
   "execution_count": 27,
   "id": "5095c787",
   "metadata": {},
   "outputs": [],
   "source": [
    "#产生[0,6]个随机数\n",
    "data = {i : np.random.randn() for i in range(7)}"
   ]
  },
  {
   "cell_type": "code",
   "execution_count": 28,
   "id": "58b16394",
   "metadata": {},
   "outputs": [
    {
     "data": {
      "text/plain": [
       "{0: -0.1747784375153505,\n",
       " 1: -0.7868687760095464,\n",
       " 2: 0.6200141181737362,\n",
       " 3: -0.7153193660011701,\n",
       " 4: -0.7190057468956408,\n",
       " 5: -1.3308755465357485,\n",
       " 6: 1.2798770537406732}"
      ]
     },
     "execution_count": 28,
     "metadata": {},
     "output_type": "execute_result"
    }
   ],
   "source": [
    "data #Ipython中无需print.使用直接打印可读性更好"
   ]
  },
  {
   "cell_type": "code",
   "execution_count": 29,
   "id": "2fcc3d65",
   "metadata": {},
   "outputs": [
    {
     "name": "stdout",
     "output_type": "stream",
     "text": [
      "{0: -0.1747784375153505, 1: -0.7868687760095464, 2: 0.6200141181737362, 3: -0.7153193660011701, 4: -0.7190057468956408, 5: -1.3308755465357485, 6: 1.2798770537406732}\n"
     ]
    }
   ],
   "source": [
    "print(data)"
   ]
  },
  {
   "cell_type": "code",
   "execution_count": 30,
   "id": "54ba50ee",
   "metadata": {},
   "outputs": [],
   "source": [
    "#tab用于补全变量, 路径，函数关键字\n",
    "an_apple = 27\n",
    "an_example = 42\n",
    "#an<tab> :会出现 an_apple, an_example"
   ]
  },
  {
   "cell_type": "code",
   "execution_count": 31,
   "id": "06905edd",
   "metadata": {},
   "outputs": [],
   "source": [
    "b = [1,2,3]\n",
    "##b.<tab>：append; count; insert; reverse; clear; extend; pop; sort; copy; index; remove"
   ]
  },
  {
   "cell_type": "code",
   "execution_count": 32,
   "id": "afdc52ca",
   "metadata": {},
   "outputs": [],
   "source": [
    "def f(x,y,z):\n",
    "    return (x + y / z)\n",
    "\n",
    "a = 5\n",
    "b = 6\n",
    "c = 7.5"
   ]
  },
  {
   "cell_type": "code",
   "execution_count": 33,
   "id": "bcf33766",
   "metadata": {},
   "outputs": [],
   "source": [
    "result = f(a,b,c)"
   ]
  },
  {
   "cell_type": "code",
   "execution_count": 23,
   "id": "ad9b09ad",
   "metadata": {},
   "outputs": [
    {
     "name": "stdout",
     "output_type": "stream",
     "text": [
      "5.8\n"
     ]
    }
   ],
   "source": [
    "print(result)"
   ]
  },
  {
   "cell_type": "code",
   "execution_count": null,
   "id": "ec818530",
   "metadata": {},
   "outputs": [],
   "source": [
    "#?用来显示对象概要"
   ]
  },
  {
   "cell_type": "code",
   "execution_count": 35,
   "id": "ad115b4b",
   "metadata": {},
   "outputs": [],
   "source": [
    "b?"
   ]
  },
  {
   "cell_type": "code",
   "execution_count": 36,
   "id": "640f346c",
   "metadata": {},
   "outputs": [],
   "source": [
    "print?\n",
    "# Docstring:\n",
    "# print(value, ..., sep=' ', end='\\n', file=sys.stdout, flush=False)\n",
    "\n",
    "# Prints the values to a stream, or to sys.stdout by default.\n",
    "# Optional keyword arguments:\n",
    "# file:  a file-like object (stream); defaults to the current sys.stdout.\n",
    "# sep:   string inserted between values, default a space.\n",
    "# end:   string appended after the last value, default a newline.\n",
    "# flush: whether to forcibly flush the stream.\n",
    "# Type:      builtin_function_or_method"
   ]
  },
  {
   "cell_type": "code",
   "execution_count": null,
   "id": "f761473f",
   "metadata": {},
   "outputs": [],
   "source": [
    "# Type:        list\n",
    "# String form: [1, 2, 3]\n",
    "# Length:      3\n",
    "# Docstring:\n",
    "# Built-in mutable sequence.\n",
    "#\n",
    "# If no argument is given, the constructor creates a new empty list.\n",
    "# The argument must be an iterable if specified."
   ]
  },
  {
   "cell_type": "code",
   "execution_count": null,
   "id": "08182dec",
   "metadata": {},
   "outputs": [],
   "source": [
    "#%run 用来跑script, %load用来看script"
   ]
  },
  {
   "cell_type": "code",
   "execution_count": null,
   "id": "25435608",
   "metadata": {},
   "outputs": [],
   "source": [
    "%run ipython_script_test.py"
   ]
  },
  {
   "cell_type": "code",
   "execution_count": 2,
   "id": "a39444f6",
   "metadata": {},
   "outputs": [
    {
     "name": "stdout",
     "output_type": "stream",
     "text": [
      "I am the apples!\n",
      "----------\n",
      "I am the apples!\n",
      "I am the apples!\n",
      "None\n",
      "Living reflection of a dream\n",
      "----------\n",
      "I am classy apples!\n",
      "And now a thousand years between\n"
     ]
    }
   ],
   "source": [
    "%run ex40.py"
   ]
  },
  {
   "cell_type": "code",
   "execution_count": null,
   "id": "455b3027",
   "metadata": {},
   "outputs": [],
   "source": [
    "# %load ex40.py\n",
    "#1.字典：dictionary['key'] = value\n",
    "mystuffs = {'apple':\"I am the apples!\"}\n",
    "print(mystuffs['apple'])   #I am the apples!\n",
    "\n",
    "\n",
    "# print('-' * 10)\n",
    "# #2.模块(module)：在一个mystuff.py中，放一个apple函数。\n",
    "# #this goes in mystuff.py\n",
    "# def apple():\n",
    "#     print(\"I am the apples!\")\n",
    "#\n",
    "# print('-' * 10)\n",
    "# #3.可以用import来调用模块，访问apple函数。\n",
    "import mystuff\n",
    "# mystuff.apple()         # I am the apples!\n",
    "#\n",
    "# print('-' * 10)\n",
    "# #4.放一个tangerine的变量到模块里\n",
    "# import mystuff\n",
    "#\n",
    "# mystuff.apple()          #I am the apples!\n",
    "# print(mystuff.tangerine) #Living reflection of a dream\n",
    "\n",
    "print('-' * 10)\n",
    "#5.不同语法访问这个变量\n",
    "print(mystuffs['apple'])   #I am the apples!\n",
    "print(mystuff.apple())     #I am the apples!\n",
    "print(mystuff.tangerine)   #Living reflection of a dream\n",
    "\n",
    "print('-' * 10)\n",
    "#6.建立class\n",
    "class MyStuff(object):\n",
    "\n",
    "    def __init__(self):\n",
    "        self.tangerine = \"And now a thousand years between\"\n",
    "\n",
    "    def apple(self):\n",
    "        print(\"I am classy apples!\")\n",
    "\n",
    "thing = MyStuff()\n",
    "thing.apple()            #I am classy apples!\n",
    "print(thing.tangerine)   #And now a thousand years between\n"
   ]
  },
  {
   "cell_type": "code",
   "execution_count": 43,
   "id": "e2cd93cc",
   "metadata": {},
   "outputs": [],
   "source": [
    "a = np.random.randn(100,100)"
   ]
  },
  {
   "cell_type": "code",
   "execution_count": 44,
   "id": "e360a8df",
   "metadata": {},
   "outputs": [
    {
     "data": {
      "text/plain": [
       "array([[-0.26988989, -1.02643598,  0.52626085, ..., -0.57746856,\n",
       "         0.28548043, -1.76907001],\n",
       "       [ 0.22138798,  0.29778028, -1.06359402, ..., -0.6041097 ,\n",
       "        -1.74717946, -1.16565361],\n",
       "       [ 1.22531065, -0.57802061,  0.31364751, ..., -0.51442181,\n",
       "         0.17279174, -0.99112182],\n",
       "       ...,\n",
       "       [-1.43249166,  0.39362143,  0.43031334, ...,  1.49884615,\n",
       "         0.92232072, -2.22238566],\n",
       "       [-0.88149704, -0.12636752,  1.30464108, ...,  1.63397817,\n",
       "         1.70649951,  1.37005842],\n",
       "       [ 0.12690216,  0.57981177,  0.5422645 , ..., -0.22859898,\n",
       "         1.43179605,  1.61684436]])"
      ]
     },
     "execution_count": 44,
     "metadata": {},
     "output_type": "execute_result"
    }
   ],
   "source": [
    "a"
   ]
  },
  {
   "cell_type": "code",
   "execution_count": 49,
   "id": "5eeb7d55",
   "metadata": {},
   "outputs": [
    {
     "name": "stdout",
     "output_type": "stream",
     "text": [
      "[[-0.26988989 -1.02643598  0.52626085 ... -0.57746856  0.28548043\n",
      "  -1.76907001]\n",
      " [ 0.22138798  0.29778028 -1.06359402 ... -0.6041097  -1.74717946\n",
      "  -1.16565361]\n",
      " [ 1.22531065 -0.57802061  0.31364751 ... -0.51442181  0.17279174\n",
      "  -0.99112182]\n",
      " ...\n",
      " [-1.43249166  0.39362143  0.43031334 ...  1.49884615  0.92232072\n",
      "  -2.22238566]\n",
      " [-0.88149704 -0.12636752  1.30464108 ...  1.63397817  1.70649951\n",
      "   1.37005842]\n",
      " [ 0.12690216  0.57981177  0.5422645  ... -0.22859898  1.43179605\n",
      "   1.61684436]]\n"
     ]
    }
   ],
   "source": [
    "print(a)"
   ]
  },
  {
   "cell_type": "code",
   "execution_count": 51,
   "id": "9c991a4e",
   "metadata": {},
   "outputs": [
    {
     "name": "stdout",
     "output_type": "stream",
     "text": [
      "20.3 µs ± 409 ns per loop (mean ± std. dev. of 7 runs, 100,000 loops each)\n"
     ]
    }
   ],
   "source": [
    "%timeit np.dot(a, a)\n",
    "#20.3 µs ± 409 ns per loop (mean ± std. dev. of 7 runs, 100,000 loops each)"
   ]
  },
  {
   "cell_type": "code",
   "execution_count": 52,
   "id": "61bde978",
   "metadata": {},
   "outputs": [
    {
     "name": "stdout",
     "output_type": "stream",
     "text": [
      "> \u001b[1;32mc:\\users\\miran\\appdata\\local\\temp\\ipykernel_53564\\3011662377.py\u001b[0m(3)\u001b[0;36m<module>\u001b[1;34m()\u001b[0m\n",
      "\n",
      "--KeyboardInterrupt--\n",
      "\n",
      "KeyboardInterrupt: Interrupted by user\n"
     ]
    }
   ],
   "source": [
    "%debug"
   ]
  },
  {
   "cell_type": "code",
   "execution_count": 54,
   "id": "97103176",
   "metadata": {},
   "outputs": [
    {
     "data": {
      "text/plain": [
       "'C:\\\\Users\\\\miran\\\\lpthw'"
      ]
     },
     "execution_count": 54,
     "metadata": {},
     "output_type": "execute_result"
    }
   ],
   "source": [
    "%pwd\n",
    "#'C:\\\\Users\\\\miran\\\\lpthw'"
   ]
  },
  {
   "cell_type": "code",
   "execution_count": 55,
   "id": "07ef6851",
   "metadata": {},
   "outputs": [],
   "source": [
    "foo = %pwd"
   ]
  },
  {
   "cell_type": "code",
   "execution_count": 59,
   "id": "441bd6f4",
   "metadata": {},
   "outputs": [
    {
     "data": {
      "text/plain": [
       "'C:\\\\Users\\\\miran\\\\lpthw'"
      ]
     },
     "execution_count": 59,
     "metadata": {},
     "output_type": "execute_result"
    }
   ],
   "source": [
    "foo\n",
    "#'C:\\\\Users\\\\miran\\\\lpthw'"
   ]
  },
  {
   "cell_type": "code",
   "execution_count": 61,
   "id": "7f8a9be2",
   "metadata": {},
   "outputs": [
    {
     "name": "stdout",
     "output_type": "stream",
     "text": [
      "Using matplotlib backend: QtAgg\n"
     ]
    }
   ],
   "source": [
    "%matplotlib\n",
    "#Using matplotlib backend: <object object at 0x00000199C1E46740>"
   ]
  },
  {
   "cell_type": "code",
   "execution_count": 63,
   "id": "0ca66271",
   "metadata": {},
   "outputs": [],
   "source": [
    "%matplotlib inline"
   ]
  },
  {
   "cell_type": "code",
   "execution_count": 67,
   "id": "1e61d7f3",
   "metadata": {},
   "outputs": [
    {
     "data": {
      "text/plain": [
       "[<matplotlib.lines.Line2D at 0x199c8728310>]"
      ]
     },
     "execution_count": 67,
     "metadata": {},
     "output_type": "execute_result"
    },
    {
     "data": {
      "image/png": "[encoded data removed]",
      "text/plain": [
       "<Figure size 640x480 with 1 Axes>"
      ]
     },
     "metadata": {},
     "output_type": "display_data"
    }
   ],
   "source": [
    "#生成50个随机数，并计算这50个随机数的累积和。\n",
    "##np.random.randn()函数用于生成标准正态分布的随机数，cumsum()函数则用于计算累积和。\n",
    "import matplotlib.pyplot as plt\n",
    "plt.plot(np.random.randn(50).cumsum())"
   ]
  },
  {
   "cell_type": "code",
   "execution_count": 78,
   "id": "1c9433c9",
   "metadata": {},
   "outputs": [],
   "source": [
    "#result = f(x,y,z)\n",
    "#g()\n",
    "#obj.some_method(x, y, z)\n",
    "#result = f(a, b, c, d = 5, e = 'foo')"
   ]
  },
  {
   "cell_type": "code",
   "execution_count": 91,
   "id": "41018790",
   "metadata": {},
   "outputs": [],
   "source": [
    "a = [1, 2, 3]"
   ]
  },
  {
   "cell_type": "code",
   "execution_count": 92,
   "id": "bfb682eb",
   "metadata": {},
   "outputs": [],
   "source": [
    "b = a"
   ]
  },
  {
   "cell_type": "code",
   "execution_count": 93,
   "id": "128580dc",
   "metadata": {},
   "outputs": [],
   "source": [
    "a.append(4)"
   ]
  },
  {
   "cell_type": "code",
   "execution_count": 94,
   "id": "79f8a6e9",
   "metadata": {},
   "outputs": [
    {
     "data": {
      "text/plain": [
       "[1, 2, 3, 4]"
      ]
     },
     "execution_count": 94,
     "metadata": {},
     "output_type": "execute_result"
    }
   ],
   "source": [
    "a"
   ]
  },
  {
   "cell_type": "code",
   "execution_count": 95,
   "id": "faf85b34",
   "metadata": {},
   "outputs": [
    {
     "data": {
      "text/plain": [
       "[1, 2, 3, 4]"
      ]
     },
     "execution_count": 95,
     "metadata": {},
     "output_type": "execute_result"
    }
   ],
   "source": [
    "#b和a是指向了相同的对象，当a里添加了4后，b也输出了4\n",
    "b"
   ]
  },
  {
   "cell_type": "code",
   "execution_count": 98,
   "id": "d8ae9823",
   "metadata": {},
   "outputs": [],
   "source": [
    "def append_element(some_list, element):\n",
    "    some_list.append(element)"
   ]
  },
  {
   "cell_type": "code",
   "execution_count": 100,
   "id": "ebbae390",
   "metadata": {},
   "outputs": [],
   "source": [
    "data = [1, 2, 3]"
   ]
  },
  {
   "cell_type": "code",
   "execution_count": 102,
   "id": "2344e47d",
   "metadata": {},
   "outputs": [],
   "source": [
    "append_element(data, 4)"
   ]
  },
  {
   "cell_type": "code",
   "execution_count": 104,
   "id": "b4c408d5",
   "metadata": {},
   "outputs": [
    {
     "data": {
      "text/plain": [
       "[1, 2, 3, 4, 4]"
      ]
     },
     "execution_count": 104,
     "metadata": {},
     "output_type": "execute_result"
    }
   ],
   "source": [
    "data\n",
    "#[1, 2, 3, 4, 4]"
   ]
  },
  {
   "cell_type": "code",
   "execution_count": 113,
   "id": "5bb0f82b",
   "metadata": {},
   "outputs": [
    {
     "data": {
      "text/plain": [
       "int"
      ]
     },
     "execution_count": 113,
     "metadata": {},
     "output_type": "execute_result"
    }
   ],
   "source": [
    "a = 5\n",
    "type(a)\n",
    "#int"
   ]
  },
  {
   "cell_type": "code",
   "execution_count": 114,
   "id": "ccace1ec",
   "metadata": {},
   "outputs": [
    {
     "data": {
      "text/plain": [
       "str"
      ]
     },
     "execution_count": 114,
     "metadata": {},
     "output_type": "execute_result"
    }
   ],
   "source": [
    "a = 'foo'\n",
    "type(a)\n",
    "#str"
   ]
  },
  {
   "cell_type": "code",
   "execution_count": 118,
   "id": "68b6a008",
   "metadata": {},
   "outputs": [
    {
     "name": "stdout",
     "output_type": "stream",
     "text": [
      "a is <class 'float'>, b is <class 'int'>\n"
     ]
    },
    {
     "data": {
      "text/plain": [
       "2.25"
      ]
     },
     "execution_count": 118,
     "metadata": {},
     "output_type": "execute_result"
    }
   ],
   "source": [
    "a = 4.5\n",
    "b = 2\n",
    "print('a is {0}, b is {1}'.format(type(a), type(b)))\n",
    "#a is <class 'float'>, b is <class 'int'>\n",
    "a / b\n",
    "#2.25"
   ]
  },
  {
   "cell_type": "code",
   "execution_count": 119,
   "id": "d5ace6ea",
   "metadata": {},
   "outputs": [
    {
     "data": {
      "text/plain": [
       "True"
      ]
     },
     "execution_count": 119,
     "metadata": {},
     "output_type": "execute_result"
    }
   ],
   "source": [
    "a = 5\n",
    "isinstance(a, int)\n",
    "#True"
   ]
  },
  {
   "cell_type": "code",
   "execution_count": 124,
   "id": "86bb1315",
   "metadata": {},
   "outputs": [
    {
     "data": {
      "text/plain": [
       "True"
      ]
     },
     "execution_count": 124,
     "metadata": {},
     "output_type": "execute_result"
    }
   ],
   "source": [
    "a = 5; b = 4.5\n",
    "isinstance(a, (int, float)) #True\n",
    "isinstance(b, (int, float)) #True"
   ]
  },
  {
   "cell_type": "code",
   "execution_count": 129,
   "id": "5393791b",
   "metadata": {},
   "outputs": [
    {
     "data": {
      "text/plain": [
       "True"
      ]
     },
     "execution_count": 129,
     "metadata": {},
     "output_type": "execute_result"
    }
   ],
   "source": [
    "a = 5; b = 4.5\n",
    "isinstance(a, (int, float)) #True\n",
    "isinstance(b, (int, float)) #True"
   ]
  },
  {
   "cell_type": "code",
   "execution_count": 133,
   "id": "62fbbde1",
   "metadata": {},
   "outputs": [],
   "source": [
    "#属性和方法\n",
    "a = 'foo'\n",
    "#a.<Press Tab>: XXXXX"
   ]
  },
  {
   "cell_type": "code",
   "execution_count": 134,
   "id": "bde72ba6",
   "metadata": {},
   "outputs": [
    {
     "data": {
      "text/plain": [
       "<function str.split(sep=None, maxsplit=-1)>"
      ]
     },
     "execution_count": 134,
     "metadata": {},
     "output_type": "execute_result"
    }
   ],
   "source": [
    "getattr(a, 'split')\n",
    "#<function str.split(sep=None, maxsplit=-1)>"
   ]
  },
  {
   "cell_type": "code",
   "execution_count": 136,
   "id": "60bdde96",
   "metadata": {},
   "outputs": [],
   "source": [
    "def isiterable(obj):\n",
    "    try:\n",
    "        iter(obj)\n",
    "        return True\n",
    "    except TypeError: #不可遍历\n",
    "        return False\n",
    "\n",
    "#具体来说，代码定义了一个名为isiterable的函数，该函数接受一个参数obj。\n",
    "#函数使用try-except语句来尝试迭代obj对象，如果obj对象可迭代，则返回True，否则返回False。\n",
    "\n",
    "#try语句中的iter()函数用于返回一个迭代器对象，如果对象不可迭代，则会引发TypeError异常。\n",
    "#如果发生了TypeError异常，则except语句中的代码将被执行，函数返回False，表示对象不可迭代。"
   ]
  },
  {
   "cell_type": "code",
   "execution_count": 139,
   "id": "e2913050",
   "metadata": {},
   "outputs": [
    {
     "data": {
      "text/plain": [
       "True"
      ]
     },
     "execution_count": 139,
     "metadata": {},
     "output_type": "execute_result"
    }
   ],
   "source": [
    "isiterable('a string')\n",
    "#True"
   ]
  },
  {
   "cell_type": "code",
   "execution_count": 140,
   "id": "6bdf0fb2",
   "metadata": {},
   "outputs": [
    {
     "data": {
      "text/plain": [
       "False"
      ]
     },
     "execution_count": 140,
     "metadata": {},
     "output_type": "execute_result"
    }
   ],
   "source": [
    "isiterable(5)\n",
    "#False"
   ]
  },
  {
   "cell_type": "code",
   "execution_count": 141,
   "id": "f46137cb",
   "metadata": {},
   "outputs": [
    {
     "ename": "NameError",
     "evalue": "name 'x' is not defined",
     "output_type": "error",
     "traceback": [
      "\u001b[1;31m---------------------------------------------------------------------------\u001b[0m",
      "\u001b[1;31mNameError\u001b[0m                                 Traceback (most recent call last)",
      "Cell \u001b[1;32mIn[141], line 1\u001b[0m\n\u001b[1;32m----> 1\u001b[0m \u001b[38;5;28;01mif\u001b[39;00m \u001b[38;5;129;01mnot\u001b[39;00m \u001b[38;5;28misinstance\u001b[39m(\u001b[43mx\u001b[49m, \u001b[38;5;28mlist\u001b[39m) \u001b[38;5;129;01mand\u001b[39;00m isiterable(x):\n\u001b[0;32m      2\u001b[0m     x \u001b[38;5;241m=\u001b[39m \u001b[38;5;28mlist\u001b[39m(x)\n",
      "\u001b[1;31mNameError\u001b[0m: name 'x' is not defined"
     ]
    }
   ],
   "source": [
    "# if not isinstance(x, list) and isiterable(x):\n",
    "#     x = list(x)"
   ]
  },
  {
   "cell_type": "code",
   "execution_count": 157,
   "id": "b455c8c9",
   "metadata": {},
   "outputs": [
    {
     "name": "stdout",
     "output_type": "stream",
     "text": [
      "I am the apples!\n"
     ]
    }
   ],
   "source": [
    "#引入其他python文件： python_name.function()\n",
    "import mystuff\n",
    "result = mystuff.apple()\n",
    "#I am the apples!"
   ]
  },
  {
   "cell_type": "code",
   "execution_count": 159,
   "id": "a5d787f9",
   "metadata": {},
   "outputs": [
    {
     "name": "stdout",
     "output_type": "stream",
     "text": [
      "I am the apples!\n"
     ]
    }
   ],
   "source": [
    "#引入其他python文件：a = function()\n",
    "from mystuff import apple\n",
    "result = apple()\n",
    "#I am the apples!"
   ]
  },
  {
   "cell_type": "code",
   "execution_count": 170,
   "id": "687c0337",
   "metadata": {},
   "outputs": [],
   "source": [
    "a_list = ['foo', 2, [4,5]]"
   ]
  },
  {
   "cell_type": "code",
   "execution_count": 171,
   "id": "043c5ea9",
   "metadata": {},
   "outputs": [
    {
     "data": {
      "text/plain": [
       "[4, 5]"
      ]
     },
     "execution_count": 171,
     "metadata": {},
     "output_type": "execute_result"
    }
   ],
   "source": [
    "a_list[2]\n",
    "#[4, 5]"
   ]
  },
  {
   "cell_type": "code",
   "execution_count": 172,
   "id": "fe68d35c",
   "metadata": {},
   "outputs": [
    {
     "data": {
      "text/plain": [
       "['foo', 2, [4, 5]]"
      ]
     },
     "execution_count": 172,
     "metadata": {},
     "output_type": "execute_result"
    }
   ],
   "source": [
    "a_list\n",
    "#['foo', 2, [4, 5]]"
   ]
  },
  {
   "cell_type": "code",
   "execution_count": 175,
   "id": "797b2942",
   "metadata": {},
   "outputs": [],
   "source": [
    "a_tuple = (3, 5, (4, 5))"
   ]
  },
  {
   "cell_type": "code",
   "execution_count": 177,
   "id": "39df989c",
   "metadata": {},
   "outputs": [
    {
     "data": {
      "text/plain": [
       "5"
      ]
     },
     "execution_count": 177,
     "metadata": {},
     "output_type": "execute_result"
    }
   ],
   "source": [
    "a_tuple[1]\n",
    "#5"
   ]
  },
  {
   "cell_type": "code",
   "execution_count": 178,
   "id": "b1b400fa",
   "metadata": {},
   "outputs": [
    {
     "ename": "TypeError",
     "evalue": "'tuple' object does not support item assignment",
     "output_type": "error",
     "traceback": [
      "\u001b[1;31m---------------------------------------------------------------------------\u001b[0m",
      "\u001b[1;31mTypeError\u001b[0m                                 Traceback (most recent call last)",
      "Cell \u001b[1;32mIn[178], line 1\u001b[0m\n\u001b[1;32m----> 1\u001b[0m a_tuple[\u001b[38;5;241m1\u001b[39m] \u001b[38;5;241m=\u001b[39m \u001b[38;5;124m'\u001b[39m\u001b[38;5;124mfour\u001b[39m\u001b[38;5;124m'\u001b[39m\n",
      "\u001b[1;31mTypeError\u001b[0m: 'tuple' object does not support item assignment"
     ]
    }
   ],
   "source": [
    "#a_tuple[1] = 'four'\n",
    "#TypeError: 'tuple' object does not support item assignment\n",
    "#tuple无法更改值"
   ]
  },
  {
   "cell_type": "code",
   "execution_count": null,
   "id": "fcf35573",
   "metadata": {},
   "outputs": [],
   "source": [
    "#python data type: None, str, bytes, float, bool, int"
   ]
  },
  {
   "cell_type": "code",
   "execution_count": 179,
   "id": "6685cf57",
   "metadata": {},
   "outputs": [],
   "source": [
    "ival = 17239871"
   ]
  },
  {
   "cell_type": "code",
   "execution_count": 180,
   "id": "cb6eb574",
   "metadata": {},
   "outputs": [
    {
     "data": {
      "text/plain": [
       "26254519291092456596965462913230729701102721"
      ]
     },
     "execution_count": 180,
     "metadata": {},
     "output_type": "execute_result"
    }
   ],
   "source": [
    "ival ** 6\n",
    "#26254519291092456596965462913230729701102721"
   ]
  },
  {
   "cell_type": "code",
   "execution_count": 181,
   "id": "b59f6aff",
   "metadata": {},
   "outputs": [
    {
     "data": {
      "text/plain": [
       "1"
      ]
     },
     "execution_count": 181,
     "metadata": {},
     "output_type": "execute_result"
    }
   ],
   "source": [
    "#//整除取商\n",
    "3 // 2\n",
    "#1"
   ]
  },
  {
   "cell_type": "code",
   "execution_count": 183,
   "id": "2e3eeb82",
   "metadata": {},
   "outputs": [
    {
     "data": {
      "text/plain": [
       "3"
      ]
     },
     "execution_count": 183,
     "metadata": {},
     "output_type": "execute_result"
    }
   ],
   "source": [
    "# c有3个回车符\\n\n",
    "c = \"\"\"\n",
    "This is a longer string that \n",
    "spans multiple lines\n",
    "\"\"\"\n",
    "\n",
    "c.count('\\n')"
   ]
  },
  {
   "cell_type": "code",
   "execution_count": 184,
   "id": "b7ecde33",
   "metadata": {},
   "outputs": [
    {
     "ename": "TypeError",
     "evalue": "'str' object does not support item assignment",
     "output_type": "error",
     "traceback": [
      "\u001b[1;31m---------------------------------------------------------------------------\u001b[0m",
      "\u001b[1;31mTypeError\u001b[0m                                 Traceback (most recent call last)",
      "Cell \u001b[1;32mIn[184], line 3\u001b[0m\n\u001b[0;32m      1\u001b[0m \u001b[38;5;66;03m#字符串string和tuple一样不可修改\u001b[39;00m\n\u001b[0;32m      2\u001b[0m a \u001b[38;5;241m=\u001b[39m \u001b[38;5;124m'\u001b[39m\u001b[38;5;124mthis is a string\u001b[39m\u001b[38;5;124m'\u001b[39m\n\u001b[1;32m----> 3\u001b[0m a[\u001b[38;5;241m10\u001b[39m] \u001b[38;5;241m=\u001b[39m \u001b[38;5;124m'\u001b[39m\u001b[38;5;124mf\u001b[39m\u001b[38;5;124m'\u001b[39m\n",
      "\u001b[1;31mTypeError\u001b[0m: 'str' object does not support item assignment"
     ]
    }
   ],
   "source": [
    "#字符串string和tuple一样不可修改\n",
    "a = 'this is a string'\n",
    "a[10] = 'f'\n",
    "#TypeError: 'str' object does not support item assignment"
   ]
  },
  {
   "cell_type": "code",
   "execution_count": 186,
   "id": "8befb003",
   "metadata": {},
   "outputs": [
    {
     "name": "stdout",
     "output_type": "stream",
     "text": [
      "5.6\n"
     ]
    }
   ],
   "source": [
    "#int可以转换成sting\n",
    "a = 5.6\n",
    "s = str(a)\n",
    "print(s)"
   ]
  },
  {
   "cell_type": "code",
   "execution_count": 191,
   "id": "67745964",
   "metadata": {},
   "outputs": [
    {
     "data": {
      "text/plain": [
       "['p', 'y', 't', 'h', 'o', 'n']"
      ]
     },
     "execution_count": 191,
     "metadata": {},
     "output_type": "execute_result"
    }
   ],
   "source": [
    "#把string转换成list再切片slice:\n",
    "s = 'python'\n",
    "list(s)\n",
    "#['p', 'y', 't', 'h', 'o', 'n']\n",
    "s[:3]\n",
    "#'pyt'"
   ]
  },
  {
   "cell_type": "code",
   "execution_count": 192,
   "id": "e0c3b716",
   "metadata": {},
   "outputs": [
    {
     "name": "stdout",
     "output_type": "stream",
     "text": [
      "12\\34\n"
     ]
    }
   ],
   "source": [
    "#\\是转移符号，来指明特殊符号\n",
    "s = '12\\\\34'\n",
    "print(s)\n",
    "#12\\34"
   ]
  },
  {
   "cell_type": "code",
   "execution_count": 201,
   "id": "e6141f0b",
   "metadata": {},
   "outputs": [
    {
     "data": {
      "text/plain": [
       "'this\\\\has\\\\no\\\\special\\\\characters'"
      ]
     },
     "execution_count": 201,
     "metadata": {},
     "output_type": "execute_result"
    }
   ],
   "source": [
    "#r代表raw, 原生的，表名字符是原生字符\n",
    "s = r'this\\has\\no\\special\\characters'\n",
    "s\n",
    "#'this\\\\has\\\\no\\\\special\\\\characters'"
   ]
  },
  {
   "cell_type": "code",
   "execution_count": 203,
   "id": "7d1f3495",
   "metadata": {},
   "outputs": [
    {
     "data": {
      "text/plain": [
       "'this is the first half and this is the second half'"
      ]
     },
     "execution_count": 203,
     "metadata": {},
     "output_type": "execute_result"
    }
   ],
   "source": [
    "#两个string可以相加\n",
    "a = 'this is the first half'\n",
    "b = ' and this is the second half'\n",
    "a + b"
   ]
  },
  {
   "cell_type": "code",
   "execution_count": 206,
   "id": "32bc9d6d",
   "metadata": {},
   "outputs": [],
   "source": [
    "#{0:2.f}表示将第一个参数，格式化为2位小书的浮点数\n",
    "#{1:s}表示将第二个参数，格式化为字符串\n",
    "#{2:d}表示将点个参数，格式化整数\n",
    "\n",
    "template = '{0:2.f} {1:s} are worth US${2:d}'"
   ]
  },
  {
   "cell_type": "code",
   "execution_count": 208,
   "id": "22111872",
   "metadata": {},
   "outputs": [
    {
     "data": {
      "text/plain": [
       "'espanol'"
      ]
     },
     "execution_count": 208,
     "metadata": {},
     "output_type": "execute_result"
    }
   ],
   "source": [
    "val = \"espanol\"\n",
    "val\n",
    "#'espanol'"
   ]
  },
  {
   "cell_type": "code",
   "execution_count": 212,
   "id": "7858cabd",
   "metadata": {},
   "outputs": [
    {
     "data": {
      "text/plain": [
       "bytes"
      ]
     },
     "execution_count": 212,
     "metadata": {},
     "output_type": "execute_result"
    }
   ],
   "source": [
    "#encode将这个unicde字符串转换为utf-8字节：\n",
    "val_utf8 = val.encode('utf-8')\n",
    "val_utf8\n",
    "#b'espanol'\n",
    "type(val_utf8)\n",
    "#bytes"
   ]
  },
  {
   "cell_type": "code",
   "execution_count": 220,
   "id": "c336b251",
   "metadata": {},
   "outputs": [
    {
     "data": {
      "text/plain": [
       "b'this is bytes'"
      ]
     },
     "execution_count": 220,
     "metadata": {},
     "output_type": "execute_result"
    }
   ],
   "source": [
    "bytes_val = b'this is bytes'\n",
    "bytes_val \n",
    "#b'this is bytes'"
   ]
  },
  {
   "cell_type": "code",
   "execution_count": 221,
   "id": "be35e596",
   "metadata": {},
   "outputs": [
    {
     "data": {
      "text/plain": [
       "'this is bytes'"
      ]
     },
     "execution_count": 221,
     "metadata": {},
     "output_type": "execute_result"
    }
   ],
   "source": [
    "decoded = bytes_val.decode('utf8')\n",
    "decoded\n",
    "#'this is bytes'"
   ]
  },
  {
   "cell_type": "code",
   "execution_count": 242,
   "id": "5e16a04b",
   "metadata": {},
   "outputs": [
    {
     "data": {
      "text/plain": [
       "False"
      ]
     },
     "execution_count": 242,
     "metadata": {},
     "output_type": "execute_result"
    }
   ],
   "source": [
    "#type(a)看data type\n",
    "#string -> float -> int -> bool\n",
    "s = '3.14159'\n",
    "fval = float(s)\n",
    "type(fval)\n",
    "#type(fval)\n",
    "int(fval)\n",
    "#3\n",
    "bool(fval)\n",
    "#True\n",
    "bool(0)\n",
    "#False"
   ]
  },
  {
   "cell_type": "code",
   "execution_count": 248,
   "id": "c79792bf",
   "metadata": {},
   "outputs": [
    {
     "data": {
      "text/plain": [
       "NoneType"
      ]
     },
     "execution_count": 248,
     "metadata": {},
     "output_type": "execute_result"
    }
   ],
   "source": [
    "def add_and_maybe_multiply(a, b, c=None):\n",
    "    result = a + b\n",
    "    if c is not None:\n",
    "        result = result * c\n",
    "    return result \n",
    "\n",
    "type(None)\n",
    "#NoneType"
   ]
  },
  {
   "cell_type": "code",
   "execution_count": 261,
   "id": "da054cbe",
   "metadata": {},
   "outputs": [
    {
     "data": {
      "text/plain": [
       "30"
      ]
     },
     "execution_count": 261,
     "metadata": {},
     "output_type": "execute_result"
    }
   ],
   "source": [
    "from datetime import datetime, date, time\n",
    "#datetime(year, month, day[, hour[, minute[, second[, microsecond[,tzinfo]]]]])\n",
    "dt = datetime(2011, 10, 29, 20, 30, 21)\n",
    "dt.day\n",
    "#29\n",
    "dt.minute\n",
    "#30"
   ]
  },
  {
   "cell_type": "code",
   "execution_count": 268,
   "id": "6fce9e0c",
   "metadata": {},
   "outputs": [
    {
     "data": {
      "text/plain": [
       "datetime.date(2011, 10, 29)"
      ]
     },
     "execution_count": 268,
     "metadata": {},
     "output_type": "execute_result"
    }
   ],
   "source": [
    "#.date:年月日\n",
    "dt.date()\n",
    "#datetime.date(2011, 10, 29)"
   ]
  },
  {
   "cell_type": "code",
   "execution_count": 267,
   "id": "c4b94ab9",
   "metadata": {},
   "outputs": [
    {
     "data": {
      "text/plain": [
       "datetime.time(20, 30, 21)"
      ]
     },
     "execution_count": 267,
     "metadata": {},
     "output_type": "execute_result"
    }
   ],
   "source": [
    "#.time:时分秒\n",
    "dt.time()\n",
    "#datetime.time(20, 30, 21)"
   ]
  },
  {
   "cell_type": "code",
   "execution_count": 269,
   "id": "4b5a15ec",
   "metadata": {},
   "outputs": [
    {
     "data": {
      "text/plain": [
       "'10/29/2011 20:30'"
      ]
     },
     "execution_count": 269,
     "metadata": {},
     "output_type": "execute_result"
    }
   ],
   "source": [
    "#.strftimek可以格式化出月日年 时分\n",
    "dt.strftime('%m/%d/%Y %H:%M')"
   ]
  },
  {
   "cell_type": "code",
   "execution_count": 275,
   "id": "d690d2c0",
   "metadata": {},
   "outputs": [
    {
     "data": {
      "text/plain": [
       "datetime.datetime(2009, 10, 31, 0, 0)"
      ]
     },
     "execution_count": 275,
     "metadata": {},
     "output_type": "execute_result"
    }
   ],
   "source": [
    "datetime.strptime('20091031', '%Y%m%d')\n",
    "#datetime.datetime(2009, 10, 31, 0, 0)"
   ]
  },
  {
   "cell_type": "code",
   "execution_count": 278,
   "id": "1f3d74b0",
   "metadata": {},
   "outputs": [
    {
     "data": {
      "text/plain": [
       "datetime.datetime(2011, 10, 29, 20, 0)"
      ]
     },
     "execution_count": 278,
     "metadata": {},
     "output_type": "execute_result"
    }
   ],
   "source": [
    "dt.replace(minute = 0, second = 0)\n",
    "#datetime.datetime(2011, 10, 29, 20, 0)"
   ]
  },
  {
   "cell_type": "code",
   "execution_count": 281,
   "id": "df57a94e",
   "metadata": {},
   "outputs": [],
   "source": [
    "#2.3.3 控制流\n",
    "#if:\n",
    "# if x < 0:\n",
    "#     print(\"It's negative.\")\n",
    "# if x < 0:\n",
    "#     print('It\\'\\s negative')\n",
    "# elif x == 0:\n",
    "#     print('Equal to zero')\n",
    "# elif  0 < x < 5:\n",
    "#     print('Positive but smaller than 5')\n",
    "# else:\n",
    "#     print('Positive and larger than or equal to 5')"
   ]
  },
  {
   "cell_type": "code",
   "execution_count": 284,
   "id": "500083f2",
   "metadata": {},
   "outputs": [
    {
     "name": "stdout",
     "output_type": "stream",
     "text": [
      "12\n"
     ]
    }
   ],
   "source": [
    "#for:\n",
    "#使用continue关键字可以跳过continue后面的代码进入下一次循环。\n",
    "#通过 for 循环遍历 sequence 中的每一个元素，如果当前元素是 None，则直接跳过本次循环。\n",
    "#否则，将该元素的值累加到变量 total 上。\n",
    "sequence = [1, 2, None, 4, 5]\n",
    "total = 0\n",
    "for value in sequence:\n",
    "    if value is None:\n",
    "        continue \n",
    "    total += value\n",
    "print(total)\n"
   ]
  },
  {
   "cell_type": "code",
   "execution_count": 292,
   "id": "80fe6bda",
   "metadata": {},
   "outputs": [
    {
     "name": "stdout",
     "output_type": "stream",
     "text": [
      "13\n"
     ]
    }
   ],
   "source": [
    "#break可以结束一个for循环：\n",
    "sequence = [1, 2, 0, 4, 6, 5, 2, 1]\n",
    "total_until_5 = 0\n",
    "for value in sequence:\n",
    "    if value == 5:\n",
    "        break\n",
    "    total_until_5 += value\n",
    "print(total_until_5) \n",
    "#1+2+4+6 = 13"
   ]
  },
  {
   "cell_type": "code",
   "execution_count": 297,
   "id": "e9ccef93",
   "metadata": {},
   "outputs": [
    {
     "name": "stdout",
     "output_type": "stream",
     "text": [
      "(0, 0)\n",
      "(1, 0)\n",
      "(1, 1)\n",
      "(2, 0)\n",
      "(2, 1)\n",
      "(2, 2)\n",
      "(3, 0)\n",
      "(3, 1)\n",
      "(3, 2)\n",
      "(3, 3)\n"
     ]
    }
   ],
   "source": [
    "#break只结束最内层的for循环，外层的for循环会继续运行：\n",
    "for i in range(4):\n",
    "    for j in range(4):\n",
    "        if j > i:\n",
    "            break\n",
    "        print((i,j))"
   ]
  },
  {
   "cell_type": "code",
   "execution_count": 298,
   "id": "9793b0cb",
   "metadata": {},
   "outputs": [],
   "source": [
    "#上面code的可视化：\n",
    "#https://pythontutor.com/visualize.html#code=for%20i%20in%20range%284%29%3A%0A%20%20%20%20for%20j%20in%20range%284%29%3A%0A%20%20%20%20%20%20%20%20if%20j%20%3E%20i%3A%0A%20%20%20%20%20%20%20%20%20%20%20%20break%0A%20%20%20%20%20%20%20%20print%28%28i,j%29%29&cumulative=false&curInstr=0&heapPrimitives=nevernest&mode=display&origin=opt-frontend.js&py=3&rawInputLstJSON=%5B%5D&textReferences=false"
   ]
  },
  {
   "cell_type": "code",
   "execution_count": 305,
   "id": "3346386e",
   "metadata": {},
   "outputs": [
    {
     "name": "stdout",
     "output_type": "stream",
     "text": [
      "4\n"
     ]
    }
   ],
   "source": [
    "#while循环：\n",
    "#使用一个while循环和if语句，计算x除以2的商，并将其加入到total中，直到total的值大于500或x的值为0为止。\n",
    "x = 256\n",
    "total = 0\n",
    "while x > 0:\n",
    "    if total > 500:\n",
    "        break\n",
    "    total += x\n",
    "    x = x // 2\n",
    "print(x)\n",
    "\n",
    "#10//3 的结果为3"
   ]
  },
  {
   "cell_type": "code",
   "execution_count": 306,
   "id": "25b2b79a",
   "metadata": {},
   "outputs": [],
   "source": [
    "#https://pythontutor.com/visualize.html#code=x%20%3D%20256%0Atotal%20%3D%200%0Awhile%20x%20%3E%200%3A%0A%20%20%20%20if%20total%20%3E%20500%3A%0A%20%20%20%20%20%20%20%20break%0A%20%20%20%20total%20%2B%3D%20x%0A%20%20%20%20x%20%3D%20x%20//%202%0Aprint%28x%29&cumulative=false&curInstr=0&heapPrimitives=nevernest&mode=display&origin=opt-frontend.js&py=3&rawInputLstJSON=%5B%5D&textReferences=false"
   ]
  },
  {
   "cell_type": "code",
   "execution_count": 314,
   "id": "fb588579",
   "metadata": {},
   "outputs": [],
   "source": [
    "#pass:pass就是什么都不做\n",
    "x = 0\n",
    "if x < 0:\n",
    "    print('negative!')\n",
    "elif x == 0:\n",
    "    pass\n",
    "else:\n",
    "    print('positive!')"
   ]
  },
  {
   "cell_type": "code",
   "execution_count": 323,
   "id": "f8948847",
   "metadata": {},
   "outputs": [
    {
     "data": {
      "text/plain": [
       "[5, 4, 3, 2, 1]"
      ]
     },
     "execution_count": 323,
     "metadata": {},
     "output_type": "execute_result"
    }
   ],
   "source": [
    "#range\n",
    "range(10) #range(0, 10)\n",
    "list(range(10)) #[0, 1, 2, 3, 4, 5, 6, 7, 8, 9]\n",
    "list(range(0, 20, 2)) #[0, 2, 4, 6, 8, 10, 12, 14, 16, 18]\n",
    "list(range(5, 0, -1)) #[5, 4, 3, 2, 1]"
   ]
  },
  {
   "cell_type": "code",
   "execution_count": 324,
   "id": "8442c746",
   "metadata": {},
   "outputs": [
    {
     "name": "stdout",
     "output_type": "stream",
     "text": [
      "4\n"
     ]
    }
   ],
   "source": [
    "seq = [1, 2, 3, 4]\n",
    "for i in range(len(seq)):\n",
    "    val = seq[i]\n",
    "print(val)"
   ]
  },
  {
   "cell_type": "code",
   "execution_count": null,
   "id": "7686ea14",
   "metadata": {},
   "outputs": [],
   "source": [
    "#https://pythontutor.com/visualize.html#code=seq%20%3D%20%5B1,%202,%203,%204%5D%0Afor%20i%20in%20range%28len%28seq%29%29%3A%0A%20%20%20%20val%20%3D%20seq%5Bi%5D%0Aprint%28val%29&cumulative=false&curInstr=0&heapPrimitives=nevernest&mode=display&origin=opt-frontend.js&py=3&rawInputLstJSON=%5B%5D&textReferences=false"
   ]
  },
  {
   "cell_type": "code",
   "execution_count": 327,
   "id": "33fec322",
   "metadata": {},
   "outputs": [
    {
     "name": "stdout",
     "output_type": "stream",
     "text": [
      "23\n"
     ]
    }
   ],
   "source": [
    "#在(0,10)中，找除以3或除以5 余数为0的：\n",
    "sum = 0\n",
    "for i in range(10):\n",
    "    if i % 3 == 0 or i % 5 == 0:\n",
    "        sum += i\n",
    "print(sum)\n",
    "#3+5+6+9 = 23"
   ]
  },
  {
   "cell_type": "code",
   "execution_count": null,
   "id": "cf2928de",
   "metadata": {},
   "outputs": [],
   "source": [
    "#https://pythontutor.com/visualize.html#code=sum%20%3D%200%0Afor%20i%20in%20range%2810%29%3A%0A%20%20%20%20if%20i%20%25%203%20%3D%3D%200%20or%20i%20%25%205%20%3D%3D%200%3A%0A%20%20%20%20%20%20%20%20sum%20%2B%3D%20i%0Aprint%28sum%29&cumulative=false&curInstr=26&heapPrimitives=nevernest&mode=display&origin=opt-frontend.js&py=3&rawInputLstJSON=%5B%5D&textReferences=false"
   ]
  },
  {
   "cell_type": "code",
   "execution_count": 328,
   "id": "ade7856a",
   "metadata": {},
   "outputs": [
    {
     "data": {
      "text/plain": [
       "'Non-negtive'"
      ]
     },
     "execution_count": 328,
     "metadata": {},
     "output_type": "execute_result"
    }
   ],
   "source": [
    "#三元表达式\n",
    "value = true-expr if condition else false-expr\n",
    "x = 5\n",
    "'Non-negtive' if x >= 0 else 'Negative'"
   ]
  },
  {
   "cell_type": "code",
   "execution_count": 357,
   "id": "7b0affb4",
   "metadata": {},
   "outputs": [
    {
     "name": "stdout",
     "output_type": "stream",
     "text": [
      "  key1  data\n",
      "0    A    10\n",
      "1    B    20\n",
      "2    B    60\n",
      "key1\n",
      "A    10.0\n",
      "B    40.0\n",
      "Name: data, dtype: float64\n"
     ]
    }
   ],
   "source": [
    "import pandas as pd\n",
    "\n",
    "data = {'key1': ['A', 'B', 'B'],\n",
    "        'data': [10, 20, 60]}\n",
    "\n",
    "df = pd.DataFrame(data)\n",
    "\n",
    "grouped = df['data'].groupby(df['key1'])\n",
    "\n",
    "print(df)\n",
    "#   key1  data\n",
    "# 0    A    10\n",
    "# 1    B    20\n",
    "# 2    B    60\n",
    "\n",
    "means = grouped.mean()\n",
    "print(means)\n",
    "# key1\n",
    "# A    10.0\n",
    "# B    40.0\n",
    "\n",
    "\n",
    "# 使用 Pandas 的 DataFrame 函数将字典转换为 DataFrame。\n",
    "# 使用 groupby 函数对 DataFrame 的 'data' 列按照 'key1' 列进行分组，生成一个 GroupBy 对象 grouped。\n",
    "# 该对象可以用于计算分组统计量，例如平均值、中位数、最大值、最小值等等。\n",
    "# 打印 grouped 对象，该对象表示分组后的结果，但并没有进行任何聚合计算。\n",
    "# 使用 mean() 函数对 grouped 对象进行聚合计算，计算每个分组的平均值，并将结果存储在 means 变量中。\n",
    "# 打印 means 变量，该变量表示分组后每个组的平均值。"
   ]
  }
 ],
 "metadata": {
  "kernelspec": {
   "display_name": "Python 3 (ipykernel)",
   "language": "python",
   "name": "python3"
  },
  "language_info": {
   "codemirror_mode": {
    "name": "ipython",
    "version": 3
   },
   "file_extension": ".py",
   "mimetype": "text/x-python",
   "name": "python",
   "nbconvert_exporter": "python",
   "pygments_lexer": "ipython3",
   "version": "3.10.9"
  }
 },
 "nbformat": 4,
 "nbformat_minor": 5
}
