{
 "cells": [
  {
   "cell_type": "markdown",
   "id": "08d2a217",
   "metadata": {},
   "source": [
    "# 第四章 Numpy"
   ]
  },
  {
   "cell_type": "code",
   "execution_count": 1,
   "id": "4d2f0ffb",
   "metadata": {},
   "outputs": [],
   "source": [
    "#Numpy\n",
    "\n",
    "#数据处理，清洗，构造子集，过滤，变换以及其他计算中，进行快速的向量化计算\n",
    "#场景数组算法：sort, unique, set\n",
    "#高效的描述性统计和聚合/概述数据。\n",
    "#数据排列和相关数据操作，对异构数据进行merge和join。\n",
    "#使用数组表达式来表明条件逻辑，代替if-elif-else条件分支的循环。\n",
    "#分组数据操作（聚合，变换，函数式操作）"
   ]
  },
  {
   "cell_type": "code",
   "execution_count": 11,
   "id": "b4a5a064",
   "metadata": {},
   "outputs": [
    {
     "name": "stdout",
     "output_type": "stream",
     "text": [
      "CPU times: total: 15.6 ms\n",
      "Wall time: 14 ms\n",
      "CPU times: total: 391 ms\n",
      "Wall time: 597 ms\n"
     ]
    }
   ],
   "source": [
    "import numpy as np\n",
    "my_arr = np.arange(1000000)\n",
    "my_list = list(range(1000000))\n",
    "\n",
    "my_arr\n",
    "#array([     0,      1,      2, ..., 999997, 999998, 999999])\n",
    "my_list\n",
    "# [0,\n",
    "#  1,\n",
    "#  2,\n",
    "#  3,\n",
    "#  ...,\n",
    "# 999999]\n",
    "\n",
    "#Numpy做法比Python做法快：\n",
    "%time for _ in range(10): my_arr2 = my_arr * 2\n",
    "    \n",
    "# CPU times: total: 0 ns\n",
    "# Wall time: 11.8 ms\n",
    "\n",
    "%time for _ in range(10): my_list2 = [x * 2 for x in my_list]\n",
    "\n",
    "# CPU times: total: 453 ms\n",
    "# Wall time: 584 ms"
   ]
  },
  {
   "cell_type": "markdown",
   "id": "2f711406",
   "metadata": {},
   "source": [
    "# 4.1 NumPy ndarry: 多维数组对象"
   ]
  },
  {
   "cell_type": "code",
   "execution_count": 26,
   "id": "559507eb",
   "metadata": {},
   "outputs": [
    {
     "data": {
      "text/plain": [
       "array([[ 0.36398496,  3.47596536, -1.14099859],\n",
       "       [ 0.16431354, -0.86681992, -2.24870766]])"
      ]
     },
     "execution_count": 26,
     "metadata": {},
     "output_type": "execute_result"
    }
   ],
   "source": [
    "import numpy as np\n",
    "\n",
    "data = np.random.randn(2,3)\n",
    "data\n",
    "# array([[-0.1754987 , -0.80033816, -1.0003065 ],\n",
    "#        [-0.11759812, -1.09439885, -0.90341961]])\n",
    "\n",
    "data * 10\n",
    "# array([[ -1.75498696,  -8.00338162, -10.00306495],\n",
    "#        [ -1.1759812 , -10.94398851,  -9.03419615]])\n",
    "\n",
    "data + data\n",
    "# array([[-4.45340666, -2.396844  , -1.53990183],\n",
    "#        [-1.74919676, -1.26530504, -0.87394674]])"
   ]
  },
  {
   "cell_type": "code",
   "execution_count": 28,
   "id": "5ddd41c6",
   "metadata": {},
   "outputs": [
    {
     "data": {
      "text/plain": [
       "dtype('float64')"
      ]
     },
     "execution_count": 28,
     "metadata": {},
     "output_type": "execute_result"
    }
   ],
   "source": [
    "data.shape\n",
    "# (2, 3)\n",
    "\n",
    "data.dtype\n",
    "# dtype('float64')"
   ]
  },
  {
   "cell_type": "markdown",
   "id": "9fa8dd37",
   "metadata": {},
   "source": [
    "# 4.1.1 生成ndarray"
   ]
  },
  {
   "cell_type": "code",
   "execution_count": 30,
   "id": "5bdb2937",
   "metadata": {},
   "outputs": [],
   "source": [
    "data1 = [6, 7.5, 8, 0, 1]"
   ]
  },
  {
   "cell_type": "code",
   "execution_count": 34,
   "id": "8f6cd450",
   "metadata": {},
   "outputs": [
    {
     "data": {
      "text/plain": [
       "array([6. , 7.5, 8. , 0. , 1. ])"
      ]
     },
     "execution_count": 34,
     "metadata": {},
     "output_type": "execute_result"
    }
   ],
   "source": [
    "arr1 = np.array(data1)\n",
    "arr1\n",
    "#array([6. , 7.5, 8. , 0. , 1. ])"
   ]
  },
  {
   "cell_type": "code",
   "execution_count": 53,
   "id": "85d9b1fd",
   "metadata": {},
   "outputs": [
    {
     "data": {
      "text/plain": [
       "array([ 0,  1,  2,  3,  4,  5,  6,  7,  8,  9, 10, 11, 12, 13, 14])"
      ]
     },
     "execution_count": 53,
     "metadata": {},
     "output_type": "execute_result"
    }
   ],
   "source": [
    "data2 = [[1, 2, 3, 4],[5, 6, 7, 8]]\n",
    "arr2 = np.array(data2)\n",
    "arr2\n",
    "# array([[1, 2, 3, 4],\n",
    "#        [5, 6, 7, 8]])\n",
    "\n",
    "#二维数组查验: array.ndim; array.shape\n",
    "arr2.ndim\n",
    "#2\n",
    "\n",
    "arr2.shape\n",
    "#(2, 4)\n",
    "\n",
    "arr1.dtype\n",
    "#dtype('float64')\n",
    "\n",
    "arr2.dtype\n",
    "#dtype('int32')\n",
    "\n",
    "#zeros创造全0组合\n",
    "np.zeros(10)\n",
    "#array([0., 0., 0., 0., 0., 0., 0., 0., 0., 0.])\n",
    "\n",
    "np.zeros((3,6))\n",
    "# array([[0., 0., 0., 0., 0., 0.],\n",
    "#        [0., 0., 0., 0., 0., 0.],\n",
    "#        [0., 0., 0., 0., 0., 0.]])\n",
    "\n",
    "np.empty((2,3,2))\n",
    "# array([[[1.01855798e-312, 1.08221785e-312],\n",
    "#         [1.01855798e-312, 9.54898106e-313],\n",
    "#         [1.14587773e-312, 1.03977794e-312]],\n",
    "\n",
    "#        [[1.23075756e-312, 1.16709769e-312],\n",
    "#         [1.03977794e-312, 9.76118064e-313],\n",
    "#         [1.03977794e-312, 1.90979621e-312]]])\n",
    "\n",
    "#arange是python内建函数range的数字版：\n",
    "np.arange(15)\n",
    "#array([ 0,  1,  2,  3,  4,  5,  6,  7,  8,  9, 10, 11, 12, 13, 14])"
   ]
  },
  {
   "cell_type": "code",
   "execution_count": null,
   "id": "937ec49d",
   "metadata": {},
   "outputs": [],
   "source": [
    "#数组生成函数\n",
    "\n",
    "array\n",
    "#输入数据（列表，元组，数组）转换为ndarrat，如不显示指明数据类型，将自动推断；默认复制所有输入数据\n",
    "asarray\n",
    "#将输入转换为ndarray, 如果输入已经是ndarray则不再复制\n",
    "arange\n",
    "#内建函数range的数字版，返回一个数组\n",
    "ones\n",
    "#根据给定形状和数据类型生成全1数组\n",
    "ones_like\n",
    "#根据给定形状和数据类型生成一个形状一样的全1数组\n",
    "zeros\n",
    "#根据给定形状和数据类型生成全0数组\n",
    "zeros_like\n",
    "#根据给定形状和数据类型生成一个形状一样的全0数组\n",
    "empty\n",
    "#根据给定形状生成一个没有初始化数值的空数组\n",
    "empty_like\n",
    "#根据所给数组生成一个形状一样，但没有初始化数值的空数组\n",
    "full\n",
    "#根据给定形状和数据类型生成指定数值的数组\n",
    "full_like\n",
    "#根据所给数组生成一个形状一样，但内容是指定数值的数组\n",
    "eye, identity\n",
    "#生成一个N*N特征矩阵（对角线位置都是1，其余位置是0）"
   ]
  },
  {
   "cell_type": "markdown",
   "id": "fa9b2eeb",
   "metadata": {},
   "source": [
    "# 4.1.2 ndarray的数据类型"
   ]
  },
  {
   "cell_type": "code",
   "execution_count": 59,
   "id": "fd19d645",
   "metadata": {},
   "outputs": [
    {
     "data": {
      "text/plain": [
       "array([1, 2, 3])"
      ]
     },
     "execution_count": 59,
     "metadata": {},
     "output_type": "execute_result"
    }
   ],
   "source": [
    "arr1 = np.array([1,2,3], dtype = np.float64)\n",
    "arr1\n",
    "#array([1., 2., 3.])\n",
    "\n",
    "arr2 = np.array([1,2,3], dtype = np.int32)\n",
    "arr2\n",
    "#array([1, 2, 3])\n",
    "\n",
    "arr1.dtype\n",
    "# #dtype('float64')\n",
    "\n",
    "arr2.dtype\n",
    "# #dtype('int32')"
   ]
  },
  {
   "cell_type": "code",
   "execution_count": 64,
   "id": "0a79f802",
   "metadata": {},
   "outputs": [
    {
     "data": {
      "text/plain": [
       "dtype('float64')"
      ]
     },
     "execution_count": 64,
     "metadata": {},
     "output_type": "execute_result"
    }
   ],
   "source": [
    "#astype方式转换数组的数据类型：\n",
    "#int->float\n",
    "\n",
    "arr = np.array([1, 2, 3, 4, 5])\n",
    "\n",
    "arr.dtype\n",
    "#dtype('int32')\n",
    "\n",
    "float_arr = arr.astype(np.float64)\n",
    "float_arr.dtype\n",
    "#dtype('float64')\n",
    "\n"
   ]
  },
  {
   "cell_type": "code",
   "execution_count": 69,
   "id": "0488376d",
   "metadata": {},
   "outputs": [
    {
     "data": {
      "text/plain": [
       "array([ 3, -1, -2])"
      ]
     },
     "execution_count": 69,
     "metadata": {},
     "output_type": "execute_result"
    }
   ],
   "source": [
    "#小数点后的部分将被消除\n",
    "\n",
    "arr = np.array([3.7, -1.2, -2.6])\n",
    "\n",
    "arr\n",
    "#array([ 3.7, -1.2, -2.6])\n",
    "\n",
    "arr.astype(np.int32)\n",
    "#array([ 3, -1, -2]) "
   ]
  },
  {
   "cell_type": "code",
   "execution_count": 74,
   "id": "1e6d214a",
   "metadata": {},
   "outputs": [
    {
     "data": {
      "text/plain": [
       "array([ 1.25, -9.6 , 42.  ])"
      ]
     },
     "execution_count": 74,
     "metadata": {},
     "output_type": "execute_result"
    }
   ],
   "source": [
    "# astype将字符串转换为数字:\n",
    "\n",
    "numeric_strings = np.array(['1.25','-9.6','42'], dtype = np.string_)\n",
    "numeric_strings.astype(float)\n",
    "#array([ 1.25, -9.6 , 42.  ])"
   ]
  },
  {
   "cell_type": "code",
   "execution_count": 90,
   "id": "bba8f2f5",
   "metadata": {},
   "outputs": [
    {
     "data": {
      "text/plain": [
       "array([0, 1, 2, 3, 4, 5, 6, 7, 8, 9])"
      ]
     },
     "execution_count": 90,
     "metadata": {},
     "output_type": "execute_result"
    }
   ],
   "source": [
    "int_array = np.arange(10)\n",
    "int_array\n",
    "#array([0, 1, 2, 3, 4, 5, 6, 7, 8, 9])\n",
    "\n",
    "calibers = np.array([.22, .270, .357, .380, .44, .50], dtype = np.float64)\n",
    "calibers\n",
    "#array([0.22 , 0.27 , 0.357, 0.38 , 0.44 , 0.5  ])\n",
    "\n",
    "int_array = np.arange(10)\n",
    "int_array\n",
    "#array([0, 1, 2, 3, 4, 5, 6, 7, 8, 9])\n",
    "\n",
    "#int_list.astype(float_list.dtype) -> float\n",
    "int_array.astype(calibers.dtype)\n",
    "#array([0., 1., 2., 3., 4., 5., 6., 7., 8., 9.])"
   ]
  },
  {
   "cell_type": "code",
   "execution_count": 130,
   "id": "1d5e6604",
   "metadata": {},
   "outputs": [
    {
     "data": {
      "text/plain": [
       "array([764382192,       588,         0,         0,      1672,         0,\n",
       "        16777984,       588], dtype=uint32)"
      ]
     },
     "execution_count": 130,
     "metadata": {},
     "output_type": "execute_result"
    }
   ],
   "source": [
    "#empty：根据给定形状生成一个没有初始化数值的空数组。\n",
    "#其中每个元素被解释为无符号 32 位整数。\n",
    "#它的数据类型是 'u4'，其中 'u' 表示无符号整数，'4' 表示 32 位。\n",
    "\n",
    "empty_uint32 = np.empty(8, dtype = 'u4')\n",
    "empty_uint32\n",
    "\n",
    "# 出现随机长度为 8 的数组\n",
    "# array([4128860, 6029375, 3801155, 5570652, 6619251, 7536754, 7143516,\n",
    "#        7471209], dtype=uint32)"
   ]
  },
  {
   "cell_type": "markdown",
   "id": "6cbfc380",
   "metadata": {},
   "source": [
    "# 4.1.3 Numpy数组算术"
   ]
  },
  {
   "cell_type": "code",
   "execution_count": 142,
   "id": "4b8ce645",
   "metadata": {},
   "outputs": [
    {
     "data": {
      "text/plain": [
       "array([[False,  True, False],\n",
       "       [ True, False,  True]])"
      ]
     },
     "execution_count": 142,
     "metadata": {},
     "output_type": "execute_result"
    }
   ],
   "source": [
    "arr = np.array([[1., 2., 3.], [4., 5., 6.]])\n",
    "\n",
    "arr\n",
    "# array([[1., 2., 3.],\n",
    "#        [4., 5., 6.]])\n",
    "\n",
    "#每个元素自己平方\n",
    "arr * arr\n",
    "# array([[ 1.,  4.,  9.],\n",
    "#        [16., 25., 36.]])\n",
    "\n",
    "#每个元素自己减自己\n",
    "arr - arr\n",
    "# array([[0., 0., 0.],\n",
    "#        [0., 0., 0.]])\n",
    "\n",
    "#1除以每个元素\n",
    "1 / arr\n",
    "# array([[1.        , 0.5       , 0.33333333],\n",
    "#        [0.25      , 0.2       , 0.16666667]])\n",
    "\n",
    "#每个元素乘以0.5\n",
    "arr * 0.5\n",
    "# array([[0.5, 1. , 1.5],\n",
    "#        [2. , 2.5, 3. ]])\n",
    "\n",
    "#同尺寸数组比较，会产生一个布尔值数组：\n",
    "arr2 = np.array([[0., 4., 1.],[7., 2., 12.]])\n",
    "arr2\n",
    "# array([[ 0.,  4.,  1.],\n",
    "#        [ 7.,  2., 12.]])\n",
    "\n",
    "arr2 > arr\n",
    "# array([[False,  True, False],\n",
    "#        [ True, False,  True]])"
   ]
  },
  {
   "cell_type": "markdown",
   "id": "96d251bc",
   "metadata": {},
   "source": [
    "# 4.1.4 基础索引与切片"
   ]
  },
  {
   "cell_type": "code",
   "execution_count": 155,
   "id": "8e80ad09",
   "metadata": {},
   "outputs": [
    {
     "data": {
      "text/plain": [
       "array([64, 64, 64])"
      ]
     },
     "execution_count": 155,
     "metadata": {},
     "output_type": "execute_result"
    }
   ],
   "source": [
    "arr = np.arange(10)\n",
    "arr\n",
    "#array([0, 1, 2, 3, 4, 5, 6, 7, 8, 9])\n",
    "\n",
    "arr[5]\n",
    "#5\n",
    "\n",
    "arr[5:8]\n",
    "#array([5, 6, 7])\n",
    "\n",
    "#传入数值给数组的切片，赋值给位置[5:8]的元素为12\n",
    "arr[5:8] = 12\n",
    "\n",
    "arr\n",
    "#array([ 0,  1,  2,  3,  4, 12, 12, 12,  8,  9])\n",
    "\n",
    "arr_slice = arr[5:8]\n",
    "arr_slice\n",
    "#array([12, 12, 12])\n",
    "\n",
    "#当改变arr_slice, 变化也会体现在原数组上：\n",
    "arr_slice[1] = 12345\n",
    "\n",
    "arr\n",
    "# array([    0,     1,     2,     3,     4,    12, 12345,    12,     8,            9])\n",
    "\n",
    "#不写切片值的[:]将会引用数组的所有值：\n",
    "arr_slice[:] = 64\n",
    "\n",
    "arr\n",
    "#array([ 0,  1,  2,  3,  4, 64, 64, 64,  8,  9])\n",
    "\n",
    "#如果想要一份数组切片的拷贝，而不是一份试图的话，就必须复制这个数组\n",
    "arr[5:8].copy()\n",
    "#array([64, 64, 64])"
   ]
  },
  {
   "cell_type": "code",
   "execution_count": 166,
   "id": "d72598a6",
   "metadata": {},
   "outputs": [
    {
     "data": {
      "text/plain": [
       "3"
      ]
     },
     "execution_count": 166,
     "metadata": {},
     "output_type": "execute_result"
    }
   ],
   "source": [
    "#array[N]是取第几位的元素；\n",
    "#array[a, b] = array[a][b] 是取第a位上的b位元素。、\n",
    "arr2d = np.array([[1,2,3],[4,5,6],[7,8,9]])\n",
    "arr2d[2]\n",
    "#array([7, 8, 9])\n",
    "\n",
    "arr2d[0][2]\n",
    "#3\n",
    "\n",
    "arr2d[0,2]\n",
    "#3"
   ]
  },
  {
   "cell_type": "code",
   "execution_count": 192,
   "id": "1af434fe",
   "metadata": {},
   "outputs": [
    {
     "data": {
      "text/plain": [
       "array([7, 8, 9])"
      ]
     },
     "execution_count": 192,
     "metadata": {},
     "output_type": "execute_result"
    }
   ],
   "source": [
    "#1)创建一个2(2个位置)*2（每个位置2组数）*3（每组3个数）\n",
    "arr3d = np.array([[[1,2,3],[4,5,6]],[[7,8,9],[10,11,12]]])\n",
    "arr3d\n",
    "# array([[[ 1,  2,  3],\n",
    "#         [ 4,  5,  6]],\n",
    "\n",
    "#        [[ 7,  8,  9],\n",
    "#         [10, 11, 12]]])\n",
    "\n",
    "#2) array[0]取第一个位置的值\n",
    "arr3d[0]\n",
    "# array([[1, 2, 3],\n",
    "#        [4, 5, 6]])\n",
    "\n",
    "#3) 标量和数组都可以传递给arr3d[0]\n",
    "old_values = arr3d[0].copy()  #.copy()不要忘了()\n",
    "arr3d[0]\n",
    "# array([[1, 2, 3],\n",
    "#        [4, 5, 6]])\n",
    "\n",
    "#4) 将第一个位置的所有值传为42\n",
    "arr3d[0] = 42\n",
    "arr3d\n",
    "# array([[[42, 42, 42],\n",
    "#         [42, 42, 42]],\n",
    "\n",
    "#        [[ 7,  8,  9],\n",
    "#         [10, 11, 12]]])\n",
    "\n",
    "#5) 将第一个位置的所有值换为原值\n",
    "arr3d[0] = old_values\n",
    "# arr3d\n",
    "arr3d\n",
    "# array([[[ 1,  2,  3],\n",
    "#         [ 4,  5,  6]],\n",
    "\n",
    "#        [[ 7,  8,  9],\n",
    "#         [10, 11, 12]]])\n",
    "\n",
    "#6) array[a,b]返回的是第a个位置第b个上的一个一维数组\n",
    "arr3d[1,0]\n",
    "#array([7, 8, 9]) 返回的是一个一维数组\n",
    "\n",
    "#7) 上面的表达式分解为2步, 先找到a位置，再找到b个上的数组：\n",
    "x = arr3d[1]\n",
    "x\n",
    "# array([[ 7,  8,  9],\n",
    "#        [10, 11, 12]])\n",
    "\n",
    "x[0]\n",
    "#array([7, 8, 9])"
   ]
  },
  {
   "cell_type": "code",
   "execution_count": 220,
   "id": "c52bc561",
   "metadata": {},
   "outputs": [
    {
     "data": {
      "text/plain": [
       "array([[4, 0]])"
      ]
     },
     "execution_count": 220,
     "metadata": {},
     "output_type": "execute_result"
    }
   ],
   "source": [
    "#4.1.4.1 数组的切片索引\n",
    "\n",
    "#一维：\n",
    "#数组切片\n",
    "arr\n",
    "#array([ 0,  1,  2,  3,  4, 64, 64, 64,  8,  9])\n",
    "arr[1:6]\n",
    "#array([ 1,  2,  3,  4, 64])\n",
    "\n",
    "#二维：\n",
    "arr2d\n",
    "# array([[1, 2, 3],\n",
    "#        [4, 5, 6],\n",
    "#        [7, 8, 9]])\n",
    "\n",
    "#array[:n]：要0,n-1位置上的数组\n",
    "#选择array前两行\n",
    "arr2d[:2] \n",
    "# array([[1, 2, 3],\n",
    "#        [4, 5, 6]])\n",
    "\n",
    "#多组切片，与多组索引类似\n",
    "#要前两行，每行第一个位置后的元素\n",
    "arr2d[:2, 1:]\n",
    "# array([[2, 3],\n",
    "#        [5, 6]])\n",
    "\n",
    "#array[a,:b]：要第a行，[0,b-1]列的元素\n",
    "#要第二行，前两列\n",
    "arr2d[1, :2]\n",
    "#array([4, 5])\n",
    "\n",
    "#array[:a,b]：要第[0,a-1]行，b列的元素\n",
    "#要第一二行，第二个位置后的元素\n",
    "arr2d[:2, 2]\n",
    "#array([3, 6])\n",
    "\n",
    "#array[:,:a]：要所有行，[0:a-1]列的元素\n",
    "arr2d[:,:1]\n",
    "# array([[1],\n",
    "#        [4],\n",
    "#        [7]])\n",
    "\n",
    "#对切片表达式赋值，整个切片都会重新赋值：\n",
    "#array[:a,b:]：[0:a-1]行，b列之后的元素赋值为0\n",
    "arr2d[:2, 1:] = 0\n",
    "arr2d\n",
    "# array([[1, 0, 0],\n",
    "#        [4, 0, 0],\n",
    "#        [7, 8, 9]])\n",
    "\n",
    "#第0-1行，第1列后: 2*2：(2,2)\n",
    "arr2d[:2,1:]\n",
    "# array([[0, 0],\n",
    "#        [0, 0]])\n",
    "\n",
    "#第2行：1*3：(3,)\n",
    "arr2d[2]\n",
    "#array([7, 8, 9])\n",
    "arr2d[2,:]\n",
    "#array([7, 8, 9])\n",
    "\n",
    "\n",
    "#全3行，第2列前：3*2：(3,2)\n",
    "arr2d[:,:2]\n",
    "# array([[1, 0],\n",
    "#        [4, 0],\n",
    "#        [7, 8]])\n",
    "\n",
    "#第1行，第2列前：（2,）\n",
    "arr2d[1,:2]\n",
    "#array([4, 0])\n",
    "\n",
    "#第2行，第2列前：(1,2)\n",
    "arr2d[1:2, :2]\n",
    "#array([[4, 0]])"
   ]
  },
  {
   "cell_type": "code",
   "execution_count": 295,
   "id": "61d15ec1",
   "metadata": {},
   "outputs": [
    {
     "data": {
      "text/plain": [
       "array([[0.5859957 , 0.71965108, 0.        , 0.        ],\n",
       "       [1.18571654, 1.6411562 , 0.        , 0.22821792],\n",
       "       [0.        , 0.63720626, 1.18400361, 0.        ],\n",
       "       [0.27946087, 0.        , 1.62019862, 0.        ],\n",
       "       [0.06704774, 0.        , 0.        , 0.        ],\n",
       "       [1.85554497, 0.        , 0.        , 0.53679594],\n",
       "       [0.        , 0.        , 0.        , 0.08751194]])"
      ]
     },
     "execution_count": 295,
     "metadata": {},
     "output_type": "execute_result"
    }
   ],
   "source": [
    "#布尔索引\n",
    "#数组中的数据，存在重复的人名。\n",
    "#使用numpy.random中的randn函数生成随机正态分布数据\n",
    "\n",
    "names = np.array(['Bob','Joe','Will','Bob','Will','Joe','Joe'])\n",
    "data = np.random.randn(7,4)\n",
    "names\n",
    "#array(['Bob', 'Joe', 'Will', 'Bob', 'Will', 'Joe', 'Joe'], dtype='<U4')\n",
    "data\n",
    "# array([[ 0.84327014,  0.28009633,  1.07390028, -1.15535958],\n",
    "#        [-0.58033171, -0.36569189, -1.15616899,  0.51391622],\n",
    "#        [ 0.19117647, -1.41298407, -2.11191784,  0.131009  ],\n",
    "#        [ 0.57015565, -0.87630134, -0.37675868,  0.07715517],\n",
    "#        [ 2.17051755, -0.45034333, -1.27340444,  0.29212577],\n",
    "#        [-2.84551696,  1.69925576, -1.56628115, -1.23438424],\n",
    "#        [ 2.5524036 , -1.46829119,  1.37078345,  1.48132503]])\n",
    "\n",
    "#假设每个人名都和data数组中的一行相对应，想要选中所有'Bob'对应的行。\n",
    "#数组的比较操作，==，是可以向量化的。比较names数组和字符串'Bob'产生一个布尔值数组。\n",
    "#对应位置为 True 的表示对应元素与 'Bob' 相等，为 False 的表示不相等。\n",
    "names == 'Bob'\n",
    "#array([ True, False, False,  True, False, False, False])\n",
    "\n",
    "#索引数组时可以传入布尔值数组.\n",
    "#只选择 names 数组中对应元素为 'Bob' 的行，从 data 数组中提取这些行。\n",
    "data[names == 'Bob']\n",
    "# array([[ 1.11532349, -0.51280563, -1.40879174, -0.01516142],\n",
    "#        [ 1.29722672,  1.34130825, -1.43153427, -0.85152595]])\n",
    "\n",
    "#选择了names == 'Bob'的行，并索引了各个列：\n",
    "#第二列之后\n",
    "data[names == 'Bob', 2:]\n",
    "# array([[-0.31179429, -0.03335854],\n",
    "#        [ 0.29306974, -0.70531552]])\n",
    "\n",
    "#第3列\n",
    "data[names == 'Bob', 3]\n",
    "#array([ 0.29336323, -0.90279375])\n",
    "\n",
    "#为了选择除了‘bob’之外的数据，可以使用!= 或在条件表达式前使用~ 来对条件取反\n",
    "#只选择 names 数组中对应元素不为 'Bob' 的行，从 data 数组中提取这些行。\n",
    "\n",
    "names != 'Bob' \n",
    "#array([False,  True,  True, False,  True,  True,  True])\n",
    "#5个True代表有5行是不等于Bob的\n",
    "\n",
    "data[~(names == 'Bob')] \n",
    "# array([[-0.1430988 , -0.51662117, -0.57036754,  0.994606  ],\n",
    "#        [-0.1733623 ,  0.35372515,  1.00480726,  0.25308657],\n",
    "#        [ 0.20850713, -1.74395899,  0.60768693,  0.61912758],\n",
    "#        [-1.13190399, -2.28780099,  0.42247344, -0.65381529],\n",
    "#        [-0.851161  , -0.99414086,  0.72163479,  0.2715259 ]])\n",
    "#把5行不等于Bob的挑出来\n",
    "\n",
    "#~可以对一个通用条件取反时使用，效果等同于\n",
    "#A = names =='B' data[~A]<=> data[~(names == 'B')] \n",
    "cond = names == 'Bob'\n",
    "data[~cond]\n",
    "\n",
    "#选择3个名字中的2个来组合多个布尔值条件时，使用布尔算数运算符，& (and) ；| (or)\n",
    "#必须使用& 和 | 才能进行操作\n",
    "mask = (names == 'Bob') | (names == 'Will')\n",
    "mask\n",
    "#array([ True, False,  True,  True,  True, False, False])\n",
    "data[mask]\n",
    "# array([[-0.76005413, -0.40378674,  1.7373507 ,  2.2320244 ],\n",
    "#        [-1.11503668, -1.38843906, -1.15826193, -0.85042163],\n",
    "#        [-0.6657521 , -0.62309072, -0.05749258,  0.25458896],\n",
    "#        [-1.63128612,  1.51175794,  0.66831638,  1.83726266]])\n",
    "\n",
    "#使用布尔值索引选择数据时，总是生成数据的拷贝，即使返回的数组没有变换。\n",
    "data[data < 0] = 0\n",
    "data\n",
    "# array([[0.        , 0.        , 0.        , 0.        ],\n",
    "#        [0.30852502, 0.        , 0.81365084, 0.        ],\n",
    "#        [0.21936257, 1.39781366, 0.        , 0.24028534],\n",
    "#        [0.        , 0.16888051, 1.91315118, 0.        ],\n",
    "#        [0.        , 0.        , 0.        , 0.        ],\n",
    "#        [0.        , 0.        , 0.        , 0.52999561],\n",
    "#        [0.1244249 , 0.        , 1.66163947, 0.        ]])\n",
    "\n",
    "#利用布尔值数组对每一行/列设置数值也很简单：\n",
    "data[names != 'Joe'] = 7\n",
    "data\n",
    "\n",
    "# array([[7.        , 7.        , 7.        , 7.        ],\n",
    "#        [1.18571654, 1.6411562 , 0.        , 0.22821792],\n",
    "#        [7.        , 7.        , 7.        , 7.        ],\n",
    "#        [7.        , 7.        , 7.        , 7.        ],\n",
    "#        [7.        , 7.        , 7.        , 7.        ],\n",
    "#        [1.85554497, 0.        , 0.        , 0.53679594],\n",
    "#        [0.        , 0.        , 0.        , 0.08751194]])"
   ]
  },
  {
   "cell_type": "markdown",
   "id": "cab11e2b",
   "metadata": {},
   "source": [
    "# 4.1.6 神奇索引"
   ]
  },
  {
   "cell_type": "code",
   "execution_count": 306,
   "id": "5e6256de",
   "metadata": {},
   "outputs": [
    {
     "data": {
      "text/plain": [
       "array([[0., 0., 0., 0.],\n",
       "       [1., 1., 1., 1.],\n",
       "       [2., 2., 2., 2.],\n",
       "       [3., 3., 3., 3.],\n",
       "       [4., 4., 4., 4.],\n",
       "       [5., 5., 5., 5.],\n",
       "       [6., 6., 6., 6.],\n",
       "       [7., 7., 7., 7.]])"
      ]
     },
     "execution_count": 306,
     "metadata": {},
     "output_type": "execute_result"
    }
   ],
   "source": [
    "#建立8*4数组：\n",
    "arr = np.empty((8,4))\n",
    "for i in range(8):\n",
    "    arr[i] = i       #arr[n]：第n行\n",
    "arr\n",
    "# array([[0., 0., 0., 0.],\n",
    "#        [1., 1., 1., 1.],\n",
    "#        [2., 2., 2., 2.],\n",
    "#        [3., 3., 3., 3.],\n",
    "#        [4., 4., 4., 4.],\n",
    "#        [5., 5., 5., 5.],\n",
    "#        [6., 6., 6., 6.],\n",
    "#        [7., 7., 7., 7.]])"
   ]
  },
  {
   "cell_type": "code",
   "execution_count": 309,
   "id": "bdbce9b3",
   "metadata": {},
   "outputs": [
    {
     "data": {
      "text/plain": [
       "array([[4., 4., 4., 4.],\n",
       "       [3., 3., 3., 3.],\n",
       "       [0., 0., 0., 0.],\n",
       "       [6., 6., 6., 6.]])"
      ]
     },
     "execution_count": 309,
     "metadata": {},
     "output_type": "execute_result"
    }
   ],
   "source": [
    "#选出一个符合特定顺序的自己，可以通过传递一个包含指明所需顺序的列表或数组完成：\n",
    "\n",
    "#array[a,b,c,d] ：选择第a行... 第d行\n",
    "arr[[4,3,0,6]]\n",
    "# array([[4., 4., 4., 4.],\n",
    "#        [3., 3., 3., 3.],\n",
    "#        [0., 0., 0., 0.],\n",
    "#        [6., 6., 6., 6.]])\n",
    "\n",
    "# #如果使用负索引，将从尾部选择：\n",
    "# #arr[[-a,-b,-c]]：选择倒数第a行...第c行\n",
    "# arr[[-3, -5, -7]]   #arr[[-3, -5, -7]] 将选择倒数第3、第5和第7个元素\n",
    "# # array([[5., 5., 5., 5.],\n",
    "# #        [3., 3., 3., 3.],\n",
    "# #        [1., 1., 1., 1.]])"
   ]
  },
  {
   "cell_type": "code",
   "execution_count": 318,
   "id": "da810ba6",
   "metadata": {},
   "outputs": [
    {
     "data": {
      "text/plain": [
       "array([ 4, 23, 29, 10])"
      ]
     },
     "execution_count": 318,
     "metadata": {},
     "output_type": "execute_result"
    }
   ],
   "source": [
    "#传递多个索引数组时情况有些不同，这样会根据每个索引元组对应的元素选出一个一维数组\n",
    "\n",
    "arr = np.arange(32).reshape((8,4))   #从[0,31]数据，放到8*4的数组中\n",
    "arr\n",
    "# array([[ 0,  1,  2,  3],\n",
    "#        [ 4,  5,  6,  7],\n",
    "#        [ 8,  9, 10, 11],\n",
    "#        [12, 13, 14, 15],\n",
    "#        [16, 17, 18, 19],\n",
    "#        [20, 21, 22, 23],\n",
    "#        [24, 25, 26, 27],\n",
    "#        [28, 29, 30, 31]])\n",
    "\n",
    "#选择矩阵的单行数组\n",
    "#arr[a,b],[c,d] = 第a行c列, 第b行d列\n",
    "arr[[1, 5, 7, 2],[0, 3, 1, 2]]\n",
    "#[1,0]=4；[5,3]=23; [7,1]=29; [2,2]=10\n",
    "#array([4, 23, 29, 10])\n",
    "\n",
    "#通过选择矩阵中行列的自己行程的矩形区域：\n",
    "#array[[a,b]],[:,[c,d]]：第a行，取第c,d列；第b行，取第c,d列\n",
    "arr[[1, 5, 7, 2]][:,[0, 3, 1, 2]]\n",
    "# array([[ 4,  7,  5,  6],\n",
    "#        [20, 23, 21, 22],\n",
    "#        [28, 31, 29, 30],\n",
    "#        [ 8, 11,  9, 10]])\n",
    "\n",
    "arr[[1, 5, 7, 2],[0, 3, 1, 2]]\n",
    "#array([ 4, 23, 29, 10])"
   ]
  },
  {
   "cell_type": "markdown",
   "id": "a553cf29",
   "metadata": {},
   "source": [
    "# 4.1.7  数组转置和换轴"
   ]
  },
  {
   "cell_type": "code",
   "execution_count": 320,
   "id": "09851c53",
   "metadata": {},
   "outputs": [],
   "source": [
    "#转置是一种数据充足形式，可以返回底层数据的试图，而不需要复制任何内容。\n",
    "#数组拥有transpose方法，也有特殊的t属性。"
   ]
  },
  {
   "cell_type": "code",
   "execution_count": 341,
   "id": "42b73034",
   "metadata": {},
   "outputs": [],
   "source": [
    "arr = np.arange(15).reshape((3,5))\n",
    "arr\n",
    "# array([[ 0,  1,  2,  3,  4],\n",
    "#        [ 5,  6,  7,  8,  9],\n",
    "#        [10, 11, 12, 13, 14]])\n",
    "\n",
    "#arr.T是将arr从（行，列）转换成（列，行）\n",
    "arr.T\n",
    "# array([[ 0,  5, 10],\n",
    "#        [ 1,  6, 11],\n",
    "#        [ 2,  7, 12],\n",
    "#        [ 3,  8, 13],\n",
    "#        [ 4,  9, 14]])\n",
    "\n",
    "#矩阵计算，可以进行特定操作，使用np.dot计算矩阵内积:\n",
    "arr = np.random.randn(6,3)\n",
    "arr\n",
    "# array([[ 0.14017618, -1.1612518 , -0.40556834],\n",
    "#        [ 0.20660885, -0.98274466,  0.26723602],\n",
    "#        [-1.13202852,  1.29915797,  0.28877826],\n",
    "#        [ 1.01207065, -0.59853191, -0.4008975 ],\n",
    "#        [ 1.33431641,  1.39986052,  0.23239166],\n",
    "#        [ 1.41830386, -1.79042153,  0.5066029 ]])\n",
    "\n",
    "np.dot(arr.T, arr)\n",
    "# array([[ 3.3776721 ,  0.48978615, -2.09158564],\n",
    "#        [ 0.48978615, 12.41115717,  0.85643398],\n",
    "#        [-2.09158564,  0.85643398,  3.47701208]])\n",
    "\n",
    "#更高维度，transpose可以接受包含轴编号的元组，用置换轴\n",
    "arr = np.arange(16).reshape((2,2,4))"
   ]
  },
  {
   "cell_type": "code",
   "execution_count": 342,
   "id": "837846a4",
   "metadata": {},
   "outputs": [],
   "source": [
    "#矩阵乘积\n",
    "#A:\n",
    "# [[1, 2, 3],\n",
    "#  [4, 5, 6]]\n",
    "#B:\n",
    "# [[7, 8],\n",
    "#  [9, 10],\n",
    "#  [11, 12]]\n",
    "#C = A * B\n",
    "# [[58, 64],\n",
    "#  [139, 154]]\n",
    "\n",
    "# C[0, 0] = A[0, 0]*B[0, 0] + A[0, 1]*B[1, 0] + A[0, 2]*B[2, 0]\n",
    "#         = 1*7 + 2*9 + 3*11\n",
    "#         = 7 + 18 + 33\n",
    "#         = 58\n",
    "# C[0, 1] = A[0, 0]*B[0, 1] + A[0, 1]*B[1, 1] + A[0, 2]*B[2, 1]\n",
    "#         = 1*8 + 2*10 + 3*12\n",
    "#         = 8 + 20 + 36\n",
    "#         = 64\n",
    "# C[1, 0] = A[1, 0]*B[0, 0] + A[1, 1]*B[1, 0] + A[1, 2]*B[2, 0]\n",
    "#         = 4*7 + 5*9 + 6*11\n",
    "#         = 28 + 45 + 66\n",
    "#         = 139\n",
    "# C[1, 1] = A[1, 0]*B[0, 1] + A[1, 1]*B[1, 1] + A[1, 2]*B[2, 1]\n",
    "#         = 4*8 + 5*10 + 6*12\n",
    "#         = 32 + 50 + 72\n",
    "#         = 154\n",
    "# [[58, 64],\n",
    "#  [139, 154]]"
   ]
  },
  {
   "cell_type": "markdown",
   "id": "53361324",
   "metadata": {},
   "source": [
    "# 4.2 通用函数：快速的逐元素数组函数"
   ]
  },
  {
   "cell_type": "code",
   "execution_count": 375,
   "id": "ed0dea0c",
   "metadata": {},
   "outputs": [
    {
     "data": {
      "text/plain": [
       "array([0.54813432, 1.29275757, 0.55215947, 0.3218483 , 1.32239323,\n",
       "       0.66883021, 0.23253376, 0.81804033])"
      ]
     },
     "execution_count": 375,
     "metadata": {},
     "output_type": "execute_result"
    }
   ],
   "source": [
    "#一元通用函数：\n",
    "arr = np.arange(10)\n",
    "arr\n",
    "\n",
    "np.sqrt(arr) #开根\n",
    "# array([0.        , 1.        , 1.41421356, 1.73205081, 2.        ,\n",
    "#        2.23606798, 2.44948974, 2.64575131, 2.82842712, 3.        ])\n",
    "\n",
    "np.exp(arr) #e^x\n",
    "# array([1.00000000e+00, 2.71828183e+00, 7.38905610e+00, 2.00855369e+01,\n",
    "#        5.45981500e+01, 1.48413159e+02, 4.03428793e+02, 1.09663316e+03,\n",
    "#        2.98095799e+03, 8.10308393e+03])\n",
    "\n",
    "#二元通用函数：\n",
    "x = np.random.randn(8)\n",
    "x\n",
    "# # array([-1.35275906,  0.30467682,  0.53003309, -0.81520859, -1.68815984,\n",
    "# #         0.64767646,  0.91955209,  0.22564692])\n",
    "\n",
    "y = np.random.randn(8)\n",
    "y\n",
    "# # array([ 0.51483811,  1.58645394, -1.286805  , -1.070556  , -1.66863093,\n",
    "# #         0.55236701,  0.67407905, -0.127795  ])\n",
    "\n",
    "# array([ 0.99359603, -0.11427716, -1.31313963,  0.41566585, -1.29563704,\n",
    "#         0.78695497, -0.31825843, -0.34090082])\n",
    "\n",
    "#numpy.maximum逐个元素将x,y中元素最大的计算出来。即将每个位置上，最大的挑出。\n",
    "np.maximum(x, y)"
   ]
  },
  {
   "cell_type": "code",
   "execution_count": 389,
   "id": "6636351a",
   "metadata": {},
   "outputs": [
    {
     "name": "stderr",
     "output_type": "stream",
     "text": [
      "C:\\Users\\miran\\AppData\\Local\\Temp\\ipykernel_39880\\2280123599.py:23: RuntimeWarning: invalid value encountered in sqrt\n",
      "  np.sqrt(arr)\n",
      "C:\\Users\\miran\\AppData\\Local\\Temp\\ipykernel_39880\\2280123599.py:27: RuntimeWarning: invalid value encountered in sqrt\n",
      "  np.sqrt(arr,arr)\n"
     ]
    },
    {
     "data": {
      "text/plain": [
       "array([1.23984493, 0.21774325,        nan,        nan, 3.25862714,\n",
       "              nan,        nan])"
      ]
     },
     "execution_count": 389,
     "metadata": {},
     "output_type": "execute_result"
    }
   ],
   "source": [
    "#1）一些通用函数，返回多个数组。比如modf, 是python内建函数divmod的向量化版本。返回了一个浮点值数组的小数部分和整数部分。\n",
    "#remainder, whole_part = np.modf(array) ：将小数和整数分开。\n",
    "\n",
    "\n",
    "arr = np.random.randn(7) * 5  #生成一个长度为 7 的随机数数组，并将每个元素乘以 5。\n",
    "arr\n",
    "#array([ 5.08245836,  0.66906964,  1.45828573,  0.34852592, -2.74953939,\n",
    "#       -6.58756275, -4.48026865])\n",
    "\n",
    "remainder, whole_part = np.modf(arr)\n",
    "remainder\n",
    "#array([ 0.08245836,  0.66906964,  0.45828573,  0.34852592, -0.74953939,\n",
    "#       -0.58756275, -0.48026865])\n",
    "\n",
    "whole_part\n",
    "#array([ 5.,  0.,  1.,  0., -2., -6., -4.])\n",
    "\n",
    "\n",
    "#2）通用函数接受一个可选参数out, 允许对数组按位置操作\n",
    "#np.sqrt(array, array)：将数组 arr 中的每个元素替换为其平方根值的操作。\n",
    "#该操作会直接修改原始数组 arr 的内容，并将平方根值存储在原始数组中。\n",
    "\n",
    "arr\n",
    "# array([ 5.08245836,  0.66906964,  1.45828573,  0.34852592, -2.74953939,\n",
    "#        -6.58756275, -4.48026865])\n",
    "\n",
    "np.sqrt(arr)\n",
    "# array([2.25443083, 0.81796677, 1.20759502, 0.59036084,        nan,\n",
    "#               nan,        nan])\n",
    "\n",
    "np.sqrt(arr,arr)\n",
    "# array([2.25443083, 0.81796677, 1.20759502, 0.59036084,        nan,\n",
    "#               nan,        nan])\n",
    "\n",
    "arr\n",
    "# array([2.25443083, 0.81796677, 1.20759502, 0.59036084,        nan,\n",
    "#               nan,        nan])"
   ]
  },
  {
   "cell_type": "code",
   "execution_count": 390,
   "id": "d4be9c6f",
   "metadata": {},
   "outputs": [],
   "source": [
    "#一元通用函数\n",
    "\n",
    "#abs, fabs\n",
    "#sqrt\n",
    "#square\n",
    "#exp\n",
    "#log\n",
    "# sign：每个元素的符号值：1-正数；0（0）；-1（负数）\n",
    "# ceil：每个元素的最高整数值（大于等于给定数值的最小整数）\n",
    "# floor：每个元素的最小整数值（小于等于给定数值的最大整数）\n",
    "# rint：保留到整数位\n",
    "# modf：小数部分和整数部分分别返回\n",
    "# isnan：检查是否是一个Nan(不是一个数值)，形式为布尔值\n",
    "# isfinite, isinf：检查是否有限\n",
    "# cos, cosh, sin\n",
    "# sinh, tan, tanh\n",
    "# arccos, arccosh, arcsin\n",
    "# arcsinh, arctan, arctanh\n",
    "# logical_not：~ 取反\n"
   ]
  },
  {
   "cell_type": "code",
   "execution_count": 391,
   "id": "7ae9bb34",
   "metadata": {},
   "outputs": [],
   "source": [
    "#二元通用函数\n",
    "\n",
    "#add\n",
    "# subtract\n",
    "# multiply\n",
    "# divide, floor_divide：除或整除（放弃余数）\n",
    "# power：将第二个数组的元素作为第一个数组对应元素的幂次方\n",
    "# maximum, fmax：逐个元素计算最大值\n",
    "# minimum, fmin：逐个元素计算最小值\n",
    "# mod\n",
    "# copysign：将第一个数组的符号值，改为第二个数组的符号值\n",
    "# greater, greater_equal, less\n",
    "# less_equal, equal, not_equal\n",
    "# logical_and, logical_or, logical_xor：逐个元素的逻辑操作"
   ]
  },
  {
   "cell_type": "markdown",
   "id": "46a994f1",
   "metadata": {},
   "source": [
    "# 4.3 使用数组进行面向数组编程"
   ]
  },
  {
   "cell_type": "code",
   "execution_count": 395,
   "id": "4ec1c289",
   "metadata": {},
   "outputs": [
    {
     "data": {
      "text/plain": [
       "array([[-5.  , -5.  , -5.  , ..., -5.  , -5.  , -5.  ],\n",
       "       [-4.99, -4.99, -4.99, ..., -4.99, -4.99, -4.99],\n",
       "       [-4.98, -4.98, -4.98, ..., -4.98, -4.98, -4.98],\n",
       "       ...,\n",
       "       [ 4.97,  4.97,  4.97, ...,  4.97,  4.97,  4.97],\n",
       "       [ 4.98,  4.98,  4.98, ...,  4.98,  4.98,  4.98],\n",
       "       [ 4.99,  4.99,  4.99, ...,  4.99,  4.99,  4.99]])"
      ]
     },
     "execution_count": 395,
     "metadata": {},
     "output_type": "execute_result"
    }
   ],
   "source": [
    "#计算sqrt(x^2 + y^2)。\n",
    "#np.meshgrid函数接收两个一维数组，并对所有（x,y）生成一个二维矩阵。\n",
    "\n",
    "points = np.arange(-5, 5, 0.01)\n",
    "xs, ys = np.meshgrid(points, points)\n",
    "ys\n",
    "# array([[-5.  , -5.  , -5.  , ..., -5.  , -5.  , -5.  ],\n",
    "#        [-4.99, -4.99, -4.99, ..., -4.99, -4.99, -4.99],\n",
    "#        [-4.98, -4.98, -4.98, ..., -4.98, -4.98, -4.98],\n",
    "#        ...,\n",
    "#        [ 4.97,  4.97,  4.97, ...,  4.97,  4.97,  4.97],\n",
    "#        [ 4.98,  4.98,  4.98, ...,  4.98,  4.98,  4.98],\n",
    "#        [ 4.99,  4.99,  4.99, ...,  4.99,  4.99,  4.99]])"
   ]
  },
  {
   "cell_type": "code",
   "execution_count": 397,
   "id": "f26bd3aa",
   "metadata": {},
   "outputs": [
    {
     "data": {
      "text/plain": [
       "array([[7.07106781, 7.06400028, 7.05693985, ..., 7.04988652, 7.05693985,\n",
       "        7.06400028],\n",
       "       [7.06400028, 7.05692568, 7.04985815, ..., 7.04279774, 7.04985815,\n",
       "        7.05692568],\n",
       "       [7.05693985, 7.04985815, 7.04278354, ..., 7.03571603, 7.04278354,\n",
       "        7.04985815],\n",
       "       ...,\n",
       "       [7.04988652, 7.04279774, 7.03571603, ..., 7.0286414 , 7.03571603,\n",
       "        7.04279774],\n",
       "       [7.05693985, 7.04985815, 7.04278354, ..., 7.03571603, 7.04278354,\n",
       "        7.04985815],\n",
       "       [7.06400028, 7.05692568, 7.04985815, ..., 7.04279774, 7.04985815,\n",
       "        7.05692568]])"
      ]
     },
     "execution_count": 397,
     "metadata": {},
     "output_type": "execute_result"
    }
   ],
   "source": [
    "#可用来求三角形第三边：\n",
    "z = np.sqrt(xs ** 2 + ys ** 2)\n",
    "z\n",
    "# array([[7.07106781, 7.06400028, 7.05693985, ..., 7.04988652, 7.05693985,\n",
    "#         7.06400028],\n",
    "#        [7.06400028, 7.05692568, 7.04985815, ..., 7.04279774, 7.04985815,\n",
    "#         7.05692568],\n",
    "#        [7.05693985, 7.04985815, 7.04278354, ..., 7.03571603, 7.04278354,\n",
    "#         7.04985815],\n",
    "#        ...,\n",
    "#        [7.04988652, 7.04279774, 7.03571603, ..., 7.0286414 , 7.03571603,\n",
    "#         7.04279774],\n",
    "#        [7.05693985, 7.04985815, 7.04278354, ..., 7.03571603, 7.04278354,\n",
    "#         7.04985815],\n",
    "#        [7.06400028, 7.05692568, 7.04985815, ..., 7.04279774, 7.04985815,\n",
    "#         7.05692568]])"
   ]
  },
  {
   "cell_type": "code",
   "execution_count": 408,
   "id": "f47dc3de",
   "metadata": {},
   "outputs": [
    {
     "data": {
      "text/plain": [
       "Text(0.5, 1.0, 'Image plot of $\\\\sqrt{x^2 + y^2}$ for a grid of values')"
      ]
     },
     "execution_count": 408,
     "metadata": {},
     "output_type": "execute_result"
    },
    {
     "data": {
      "image/png": "[encoded data removed]",
      "text/plain": [
       "<Figure size 640x480 with 2 Axes>"
      ]
     },
     "metadata": {},
     "output_type": "display_data"
    }
   ],
   "source": [
    "#使用matplotlib可视化\n",
    "\n",
    "import matplotlib.pyplot as plt\n",
    "\n",
    "plt.imshow(z, cmap = plt.cm.gray); plt.colorbar()\n",
    "plt.title(\"Image plot of $\\sqrt{x^2 + y^2}$ for a grid of values\")"
   ]
  },
  {
   "cell_type": "markdown",
   "id": "f992c88d",
   "metadata": {},
   "source": [
    "# 4.3.1 将条件逻辑作为数组操作"
   ]
  },
  {
   "cell_type": "code",
   "execution_count": 417,
   "id": "fa7ebb9b",
   "metadata": {},
   "outputs": [
    {
     "data": {
      "text/plain": [
       "array([1.1, 2.2, 1.3, 1.4, 2.5])"
      ]
     },
     "execution_count": 417,
     "metadata": {},
     "output_type": "execute_result"
    }
   ],
   "source": [
    "#numpy.where函数，是x if condition else y的向量化版本。\n",
    "\n",
    "xarr = np.array([1.1, 1.2, 1.3, 1.4, 1.5])\n",
    "yarr = np.array([2.1, 2.2, 2.3, 2.4, 2.5])\n",
    "cond = np.array([True, False, True, True, False])\n",
    "\n",
    "#假设cond中的元素为True时，我们取xarr中的对应元素值，否则取yarr中的元素。可以通过列表推导式来完成。\n",
    "result = [(x if c else y)\n",
    "          for x, y, c in zip(xarr, yarr, cond)]\n",
    "result\n",
    "# [1.1, 2.2, 1.3, 1.4, 2.5]\n",
    "\n",
    "#如果改用numpy.where速度更快，表达更简洁\n",
    "result = np.where(cond, xarr, yarr)\n",
    "result\n",
    "#array([1.1, 2.2, 1.3, 1.4, 2.5])"
   ]
  },
  {
   "cell_type": "code",
   "execution_count": 422,
   "id": "4808bcac",
   "metadata": {},
   "outputs": [
    {
     "data": {
      "text/plain": [
       "array([[ 2.        , -1.14849747,  2.        , -0.0144236 ],\n",
       "       [ 2.        , -0.87230354, -0.89145491,  2.        ],\n",
       "       [-1.40391067, -0.86358354, -0.60332703, -1.60119659],\n",
       "       [-0.72833774,  2.        ,  2.        ,  2.        ]])"
      ]
     },
     "execution_count": 422,
     "metadata": {},
     "output_type": "execute_result"
    }
   ],
   "source": [
    "#np.where第二个和第三个参数不需要是数组，可以是标量。也可以是标量和数组的组合。\n",
    "#1）是标量\n",
    "arr = np.random.randn(4,4)\n",
    "arr\n",
    "# array([[ 0.49095005,  1.15561265, -0.08701846,  0.47526057],\n",
    "#        [-0.16277088,  0.90132435, -0.55451355,  0.26392695],\n",
    "#        [ 0.95437565,  1.52193136,  1.7401054 , -1.61231336],\n",
    "#        [ 0.36622572,  0.18057011,  0.21727716,  1.17551309]])\n",
    "arr > 0\n",
    "# array([[ True,  True, False, False],\n",
    "#        [ True,  True,  True,  True],\n",
    "#        [ True,  True,  True,  True],\n",
    "#        [False,  True,  True, False]])\n",
    "np.where(arr > 0, 2, -2)                    #如果arr > 0，则赋值2，否则赋值-2\n",
    "# array([[ 2,  2, -2, -2],\n",
    "#        [ 2,  2, -2, -2],\n",
    "#        [ 2, -2,  2, -2],\n",
    "#        [-2, -2, -2,  2]])\n",
    "\n",
    "#2）标量和数组组合\n",
    "np.where(arr > 0, 2, arr)                 #如果arr > 0，则赋值2，否则保持原样\n",
    "# array([[ 2.        , -1.14849747,  2.        , -0.0144236 ],\n",
    "#        [ 2.        , -0.87230354, -0.89145491,  2.        ],\n",
    "#        [-1.40391067, -0.86358354, -0.60332703, -1.60119659],\n",
    "#        [-0.72833774,  2.        ,  2.        ,  2.        ]])"
   ]
  },
  {
   "cell_type": "markdown",
   "id": "6c4a6f93",
   "metadata": {},
   "source": [
    "# 4.3.2 数学和统计方法"
   ]
  },
  {
   "cell_type": "code",
   "execution_count": 441,
   "id": "bdb5bfd5",
   "metadata": {},
   "outputs": [
    {
     "data": {
      "text/plain": [
       "array([[ 0,  1,  2],\n",
       "       [ 3,  5,  7],\n",
       "       [ 9, 12, 15]])"
      ]
     },
     "execution_count": 441,
     "metadata": {},
     "output_type": "execute_result"
    }
   ],
   "source": [
    "#计算整个数组统计值或关于轴向数据的数学函数，可以作为数组类型的方法调用。\n",
    "#可以使用聚合函数：sum, mean, std。\n",
    "#也可以使用数组实例，或者numpy函数\n",
    "\n",
    "#聚合统计数据\n",
    "arr = np.random.randn(5,4)\n",
    "arr\n",
    "# array([[-3.50437693e-01,  4.39547036e-01, -2.99047374e-01,\n",
    "#          4.17195043e-01],\n",
    "#        [ 1.60581705e+00, -1.93585594e-01, -1.82677628e-02,\n",
    "#          3.59603968e+00],\n",
    "#        [ 1.14364242e+00,  1.28248001e+00, -9.56249107e-01,\n",
    "#          8.97945541e-01],\n",
    "#        [-2.01572266e-01, -3.21971381e-01,  3.40389720e-03,\n",
    "#          1.49799094e-01],\n",
    "#        [-7.20816510e-01, -4.73976835e-01,  1.01540982e+00,\n",
    "#          1.50663476e-02]])\n",
    "arr.mean()                 # 计算整个数组的平均值\n",
    "#-0.015957620835964026\n",
    "np.mean(arr)               # 同样计算整个数组的平均值\n",
    "#-0.18516354070955066\n",
    "arr.sum()                  # 计算整个数组的总和\n",
    "#3.8628814235329516\n",
    "\n",
    "arr.mean(axis = 1)         # 数组 arr 沿着轴 1（即行方向）的平均值->计算每行的平均值\n",
    "#array([ 0.29936641,  0.09639633, -0.10923964,  0.43712579,  1.08119342])\n",
    "arr.sum(axis = 0)          # 数组 arr 沿着轴 0（即列方向）的加和值->计算每列的总和\n",
    "#array([-0.82329545, -5.22289721, -0.90588635,  2.92291254])\n",
    "\n",
    "arr.mean(1)                #每一列平均值\n",
    "arr.sum(0)                 #行轴向的和\n",
    "#array([-0.22018176, -2.05599727, -1.02526598,  0.27313608])\n",
    "\n",
    "#cumsum和cumprod不会聚合，但会有一个中间结果：\n",
    "arr = np.array([0, 1, 2, 3, 4, 5, 6, 7])\n",
    "arr.cumsum()               #累积和函数\n",
    "# array([ 0,  1,  3,  6, 10, 15, 21, 28])\n",
    "\n",
    "#cumsum返回相同长度的数组，可以在低纬度切片部分聚合：\n",
    "arr = np.array([[0, 1, 2], [3, 4, 5], [6, 7, 8]])\n",
    "arr\n",
    "# array([[0, 1, 2],\n",
    "#        [3, 4, 5],\n",
    "#        [6, 7, 8]])\n",
    "arr.cumsum(axis = 0)       #沿着轴 0（即列）的累积和\n",
    "# array([[ 0,  1,  2],\n",
    "#        [ 3,  5,  7],\n",
    "#        [ 9, 12, 15]])\n",
    "arr.cumprod(axis = 1)      #沿着轴 1 （即行）的累积积\n",
    "# array([[  0,   0,   0],\n",
    "#        [  3,  12,  60],\n",
    "#        [  6,  42, 336]])\n",
    "\n",
    "#sum, mean, st, var, min, max, argmin(最小值位置), argmax, cumsum, cumprod"
   ]
  },
  {
   "cell_type": "markdown",
   "id": "8fd1468d",
   "metadata": {},
   "source": [
    "# 4.3.3 布尔值数组的方法"
   ]
  },
  {
   "cell_type": "code",
   "execution_count": 453,
   "id": "b611a42a",
   "metadata": {},
   "outputs": [
    {
     "data": {
      "text/plain": [
       "False"
      ]
     },
     "execution_count": 453,
     "metadata": {},
     "output_type": "execute_result"
    }
   ],
   "source": [
    "#布尔值：1-True；0-False\n",
    "\n",
    "arr = np.random.randn(100)\n",
    "(arr > 0).sum()              #正值个数\n",
    "#65\n",
    "\n",
    "#检查布尔值，any:至少一个为True, all检查所有为True\n",
    "bools = np.array([False, False, True, False])\n",
    "bools.any()\n",
    "#True\n",
    "bools.all()\n",
    "#False"
   ]
  },
  {
   "cell_type": "markdown",
   "id": "57120535",
   "metadata": {},
   "source": [
    "# 4.3.4 排序"
   ]
  },
  {
   "cell_type": "code",
   "execution_count": 468,
   "id": "7aca0871",
   "metadata": {},
   "outputs": [
    {
     "data": {
      "text/plain": [
       "array([[-1.69293846, -1.50559889, -0.16339629],\n",
       "       [-0.30783185,  0.80232945,  0.88311106],\n",
       "       [-1.79883181, -1.09981926, -0.92079408],\n",
       "       [-0.30847635, -0.13093372,  1.09588035],\n",
       "       [-1.00016976,  1.10824368,  1.10924655]])"
      ]
     },
     "execution_count": 468,
     "metadata": {},
     "output_type": "execute_result"
    }
   ],
   "source": [
    "arr = np.random.randn(6)\n",
    "arr\n",
    "# array([ 0.62083091, -1.06212279,  0.30936341,  0.59232667, -1.77557266,\n",
    "#         0.12732766])\n",
    "arr.sort()                                          #从小到大排序\n",
    "arr\n",
    "# array([-0.93631604, -0.28885533, -0.08079756,  0.13617649,  1.07126574,\n",
    "#         1.76376663])\n",
    "\n",
    "#在多维数组中，传递axis值，沿着轴向对每个一维数据段进行排序：\n",
    "arr = np.random.randn(5,3)\n",
    "arr\n",
    "# array([[-0.46070298, -1.05786859,  0.92793036],\n",
    "#        [ 1.50663319,  0.9611007 ,  0.82220408],\n",
    "#        [-1.22436432,  1.40064472, -1.39149098],\n",
    "#        [ 2.20074491,  1.69761275, -0.26403063],\n",
    "#        [ 0.52991347, -1.83544741,  0.77034056]])\n",
    "arr.sort(1)                                         #每行从小到大排序\n",
    "arr\n",
    "# array([[-1.69293846, -1.50559889, -0.16339629],\n",
    "#        [-0.30783185,  0.80232945,  0.88311106],\n",
    "#        [-1.79883181, -1.09981926, -0.92079408],\n",
    "#        [-0.30847635, -0.13093372,  1.09588035],\n",
    "#        [-1.00016976,  1.10824368,  1.10924655]])\n"
   ]
  },
  {
   "cell_type": "code",
   "execution_count": 470,
   "id": "041ea9bd",
   "metadata": {},
   "outputs": [
    {
     "data": {
      "text/plain": [
       "-1.7788428851038245"
      ]
     },
     "execution_count": 470,
     "metadata": {},
     "output_type": "execute_result"
    }
   ],
   "source": [
    "#顶层的np.sort方法返回的事已经排序号的数组拷贝，而不是对原数组按位置排序。\n",
    "#数组的分位数，选出分位数所对应的值。\n",
    "\n",
    "large_arr = np.random.randn(1000)\n",
    "large_arr.sort()\n",
    "large_arr[int(0.05 * len(large_arr))] # 5% quantile\n",
    "#-1.7788428851038245"
   ]
  },
  {
   "cell_type": "code",
   "execution_count": 477,
   "id": "5f8c2aa2",
   "metadata": {},
   "outputs": [
    {
     "data": {
      "text/plain": [
       "array([ True, False, False,  True,  True, False,  True])"
      ]
     },
     "execution_count": 477,
     "metadata": {},
     "output_type": "execute_result"
    }
   ],
   "source": [
    "#4.3.5 唯一值与其他集合逻辑\n",
    "\n",
    "names = np.array(['Bob','Joe','Will','Bob','Will','Joe','Joe'])\n",
    "np.unique(names)\n",
    "#array(['Bob', 'Joe', 'Will'], dtype='<U4')\n",
    "\n",
    "ints = np.array([3, 3, 3, 2, 2, 1, 1, 4, 4])\n",
    "np.unique(ints)\n",
    "#array([1, 2, 3, 4])\n",
    "\n",
    "sorted(set(names))\n",
    "#['Bob', 'Joe', 'Will']\n",
    "\n",
    "#np.in1d：检查一个数组中的值，是否在另一个数组中，返回布尔值\n",
    "values = np.array([6, 0, 0, 3, 2, 5, 6])\n",
    "np.in1d(values, [2, 3, 6])\n",
    "#array([ True, False, False,  True,  True, False,  True])\n",
    "\n",
    "\n",
    "#unique(x)\n",
    "#intersect1d(x,y)  #交集，并排序\n",
    "#union1d(x,y)      #并集，并排序\n",
    "#in1d(x,y)         #x是否包含在y中，返回布尔值\n",
    "#setdiff1d(x,y)     #差集，在x但不在y中\n",
    "#setxor1d(x,y)      #异或域，在x或y中，但不属于x.y交集的元素"
   ]
  },
  {
   "cell_type": "markdown",
   "id": "0572ec92",
   "metadata": {},
   "source": [
    "# 4.4 使用数组进行文件输入和输出"
   ]
  },
  {
   "cell_type": "code",
   "execution_count": 489,
   "id": "48fd3a5a",
   "metadata": {},
   "outputs": [],
   "source": [
    "#np.save和np.load是高效存取硬盘数据的两大工具函数。\n",
    "\n",
    "arr = np.arange(10)\n",
    "np.save('some_array',arr)\n",
    "np.load('some_array.npy')\n",
    "#array([0, 1, 2, 3, 4, 5, 6, 7, 8, 9])\n",
    "\n",
    "np.savez('array_archive.npz', a=arr, b=arr)\n",
    "arch = np.load('array_archive.npz')\n",
    "arch['b']\n",
    "#array([0, 1, 2, 3, 4, 5, 6, 7, 8, 9])\n",
    "\n",
    "np.savez_compressed('array_archive.npz', a=arr, b=arr)"
   ]
  },
  {
   "cell_type": "markdown",
   "id": "476e8fe8",
   "metadata": {},
   "source": [
    "# 4.5 线性代数"
   ]
  },
  {
   "cell_type": "code",
   "execution_count": 499,
   "id": "77164dd7",
   "metadata": {},
   "outputs": [
    {
     "data": {
      "text/plain": [
       "array([ 6., 15.])"
      ]
     },
     "execution_count": 499,
     "metadata": {},
     "output_type": "execute_result"
    }
   ],
   "source": [
    "#np.dot计算矩阵内积\n",
    "\n",
    "x = np.array([[1., 2., 3.], [4., 5., 6.]])\n",
    "y = np.array([[6., 23.],[-1, 7],[8, 9]])\n",
    "x\n",
    "# array([[1., 2., 3.],\n",
    "#        [4., 5., 6.]])\n",
    "y\n",
    "# array([[ 6., 23.],\n",
    "#        [-1.,  7.],\n",
    "#        [ 8.,  9.]])\n",
    "\n",
    "\n",
    "#【这块没懂？？？？】\n",
    "x.dot(y)                          #x.dot(y) <=> np.dot(x,y)\n",
    "# array([[ 28.,  64.],\n",
    "#        [ 67., 181.]])\n",
    "np.dot(x,y)\n",
    "# array([[ 28.,  64.],\n",
    "#        [ 67., 181.]])\n",
    "\n",
    "np.dot(x, np.ones(3))\n",
    "#array([ 6., 15.])\n",
    "x @ np.ones(3)                    #@中缀操作符，点乘矩阵操作\n",
    "#array([ 6., 15.])"
   ]
  },
  {
   "cell_type": "code",
   "execution_count": 502,
   "id": "986c4ab1",
   "metadata": {},
   "outputs": [
    {
     "data": {
      "text/plain": [
       "array([[ 1.00000000e+00, -2.19798837e-16, -1.19269064e-16,\n",
       "         1.12330639e-15, -9.88407692e-17],\n",
       "       [-2.02149729e-17,  1.00000000e+00, -6.84973857e-16,\n",
       "         4.83598618e-16,  1.74894229e-16],\n",
       "       [ 1.34181208e-15,  4.70127696e-17,  1.00000000e+00,\n",
       "        -5.06849617e-16,  3.27134870e-16],\n",
       "       [ 2.52900432e-16, -1.65185575e-17, -8.89488996e-16,\n",
       "         1.00000000e+00, -5.67911149e-17],\n",
       "       [ 7.86437928e-16, -1.49050965e-16,  3.07924871e-16,\n",
       "        -3.18879286e-16,  1.00000000e+00]])"
      ]
     },
     "execution_count": 502,
     "metadata": {},
     "output_type": "execute_result"
    }
   ],
   "source": [
    "#numpy.linalg有矩阵分解标准函数集\n",
    "\n",
    "from numpy.linalg import inv, qr                                       #导入了 inv 和 qr 函数，这两个函数分别用于计算矩阵的逆和 QR 分解。\n",
    "X = np.random.randn(5,5)                                               #创建一个形状为 (5, 5) 的随机数组 X。\n",
    "mat = X.T.dot(X)                                                       #计算 X 的转置矩阵与 X 的乘积，得到一个对称矩阵 mat\n",
    "inv(mat)                                                               #计算 mat 的逆矩阵。inv() 函数用于求矩阵的逆。\n",
    "# array([[ 36.17501404,  29.54687108, -27.16952245,   5.68644681,\n",
    "#           6.59327488],\n",
    "#        [ 29.54687108,  25.65264573, -22.87726713,   5.73552775,\n",
    "#           5.18218478],\n",
    "#        [-27.16952245, -22.87726713,  21.63315888,  -5.26785124,\n",
    "#          -3.67181604],\n",
    "#        [  5.68644681,   5.73552775,  -5.26785124,   2.83085673,\n",
    "#          -0.39816387],\n",
    "#        [  6.59327488,   5.18218478,  -3.67181604,  -0.39816387,\n",
    "#           3.51743926]])\n",
    "mat.dot(inv(mat))                                                      #计算 mat 与其逆矩阵的乘积。这个结果应该接近于单位矩阵。\n",
    "# array([[ 1.00000000e+00, -2.19798837e-16, -1.19269064e-16,\n",
    "#          1.12330639e-15, -9.88407692e-17],\n",
    "#        [-2.02149729e-17,  1.00000000e+00, -6.84973857e-16,\n",
    "#          4.83598618e-16,  1.74894229e-16],\n",
    "#        [ 1.34181208e-15,  4.70127696e-17,  1.00000000e+00,\n",
    "#         -5.06849617e-16,  3.27134870e-16],\n",
    "#        [ 2.52900432e-16, -1.65185575e-17, -8.89488996e-16,\n",
    "#          1.00000000e+00, -5.67911149e-17],\n",
    "#        [ 7.86437928e-16, -1.49050965e-16,  3.07924871e-16,\n",
    "#         -3.18879286e-16,  1.00000000e+00]])\n",
    "q, r = qr(mat)                             #对矩阵 mat 进行 QR 分解，其中 q 是正交矩阵，r 是上三角矩阵。qr() 函数用于计算 QR 分解。\n",
    "r\n",
    "# array([[-2.61359207, -3.83554217, -3.69327628, -5.3805259 , -9.37122325],\n",
    "#        [ 0.        , -2.40440813, -1.4427242 ,  2.47555563, -0.21813924],\n",
    "#        [ 0.        ,  0.        , -3.89425454,  2.93281905, -7.51853996],\n",
    "#        [ 0.        ,  0.        ,  0.        , -2.17995948, -2.7675822 ],\n",
    "#        [ 0.        ,  0.        ,  0.        ,  0.        ,  0.34430442]])\n",
    "\n",
    "#X.T.dot(X)计算的是 X和它的转置矩阵 X.T 的点乘积。\n",
    "\n",
    "#numpy.linalg函数【待补充】\n",
    "# diag：将一个方针的对角元素，作为一维数组返回，或者将一维数组转换成一个方针，并且在非对角线上有零点\n",
    "# dot：矩阵点乘\n",
    "# trace：对角元素和\n",
    "# det：矩阵行列式\n",
    "# ei：特征值和特征向量\n",
    "# inv：逆矩阵\n",
    "# pinv：Moore-Penrose违逆\n",
    "# qr：QR分解\n",
    "# svd：奇异值分解\n",
    "# solve：x的先行系统Ax = b, 其中A是方阵\n",
    "# lstsq：Ax = b的最小二乘解"
   ]
  },
  {
   "cell_type": "markdown",
   "id": "e130cd77",
   "metadata": {},
   "source": [
    "# 4.6 伪随机数生成"
   ]
  },
  {
   "cell_type": "code",
   "execution_count": 555,
   "id": "6cad3ef1",
   "metadata": {},
   "outputs": [
    {
     "name": "stdout",
     "output_type": "stream",
     "text": [
      "672 ms ± 14.1 ms per loop (mean ± std. dev. of 7 runs, 1 loop each)\n",
      "22.9 ms ± 570 µs per loop (mean ± std. dev. of 7 runs, 100 loops each)\n"
     ]
    }
   ],
   "source": [
    "#numpy.random，可以高效生成多种概率分布的完整样本值数组。\n",
    "\n",
    "samples = np.random.normal(size=(4,4))                           #使用normal获得4*4的正态分布样本数组\n",
    "samples\n",
    "# array([[-1.40164669, -0.50557758,  0.26776384,  0.8939426 ],\n",
    "#        [ 0.35672214, -0.59378692, -0.75491995,  0.63417454],\n",
    "#        [-0.08793416, -0.29134448,  0.67516837,  0.03062733],\n",
    "#        [ 0.86014673, -0.48955569, -0.61853591,  1.13393779]]\n",
    "\n",
    "#用%timeit函数 看python内建random比numpy.random要慢\n",
    "from random import normalvariate\n",
    "N = 1000000\n",
    "%timeit samples = [normalvariate(0,1) for _ in range(N)]\n",
    "#689 ms ± 31.1 ms per loop (mean ± std. dev. of 7 runs, 1 loop each\n",
    "%timeit np.random.normal(size = N)\n",
    "#666 ms ± 38 ms per loop (mean ± std. dev. of 7 runs, 1 loop each)\n",
    "\n",
    "#numpy.random数据生成函数，使用一个全局随机数种子。\n",
    "np.random.seed(1234)\n",
    "#为了避免全局状态，使用numpy.random.RandomState(1234)创建一个随机数生成器，使数据独立于其他随机数状态。\n",
    "rng= np.random.RandomState(1234)\n",
    "rng.randn(10)\n",
    "# array([ 0.47143516, -1.19097569,  1.43270697, -0.3126519 , -0.72058873,\n",
    "#         0.88716294,  0.85958841, -0.6365235 ,  0.01569637, -2.24268495])"
   ]
  },
  {
   "cell_type": "code",
   "execution_count": null,
   "id": "391c5336",
   "metadata": {},
   "outputs": [],
   "source": [
    "#numpy.random函数\n",
    "# seed：随机数生成器传递随机状态种子\n",
    "# permutation：一个序列的随机排列，或返回一个乱序的整数范围序列\n",
    "# shuffle：随机排列一个序列\n",
    "# rand：均匀分布中抽取样本\n",
    "# randint：根据给定的 由低到高的范围 抽取随机整数\n",
    "# randn：从均值0 方差1 的正态分布中 抽取样本\n",
    "# binomial：二项分布中抽取样本\n",
    "# normal：正态/高斯分布中抽取样本\n",
    "# beta：beta分布中抽取样本\n",
    "# chisquare：卡方分布中抽取样本\n",
    "# gamma：伽马分布中抽取样本\n",
    "# uniform：从均匀[0,1)分布中抽取样本\n",
    "\n",
    "\n",
    "#randn和normal的区别：\n",
    "#生成方式：randn是从标准正态分布中生成随机样本，而normal可以根据指定的均值和标准差生成符合正态分布的随机样本。\n",
    "#randn函数不接受额外的参数，它只根据给定的形状生成标准正态分布的随机数。\n",
    "#而normal函数除了形状参数外，还可以接受均值（loc）和标准差（scale）作为参数来生成指定均值和标准差的正态分布随机数。\n",
    "# 从标准正态分布中生成随机数\n",
    "random_sample = np.random.randn(3, 4)  # 生成形状为(3, 4)的随机样本\n",
    "# 从指定均值和标准差的正态分布中生成随机数\n",
    "mean = 2.0\n",
    "std_dev = 0.5\n",
    "normal_sample = np.random.normal(mean, std_dev, (3, 4))  # 生成形状为(3, 4)的正态分布随机样本"
   ]
  },
  {
   "cell_type": "code",
   "execution_count": null,
   "id": "7453c83f",
   "metadata": {},
   "outputs": [],
   "source": [
    "#从标准正态分布获取随机样本【randn】\n",
    "#从均值为0、方差为1的正态分布中抽取样本意味着从标准正态分布（Standard Normal Distribution）中获取随机样本。\n",
    "#标准正态分布是一种特殊的正态分布，其均值为0，方差为1。\n",
    "#它的概率密度函数呈钟形曲线，以0为中心对称，且具有良好的数学性质。\n",
    "#在标准正态分布中，大多数的样本值集中在均值附近，随着距离均值的增加，样本值的概率逐渐减小。\n",
    "#从均值为0、方差为1的正态分布中抽取样本的目的在于利用这种分布的特性，进行各种统计分析和模型建立。\n",
    "#它在统计学、概率论、假设检验、回归分析等领域都得到广泛应用。\n",
    "\n",
    "#目的：\n",
    "#从均值为0、方差为1的正态分布中抽取样本是为了利用正态分布的特性，在统计分析、模型建立和机器学习等领域进行各种应用和研究。\n",
    "#通过从均值为0、方差为1的正态分布中抽取样本，我们可以进行以下操作：\n",
    "#※生成符合正态分布的随机数，用于模拟实验或进行概率计算。\n",
    "#※建立统计模型时，假设观测数据服从正态分布，从中获取样本用于参数估计和假设检验。\n",
    "#进行蒙特卡洛模拟时（Monte Carlo simulation），使用正态分布的样本来代表不确定性因素。\n",
    "#※在机器学习和深度学习中，正态分布的样本常用于权重初始化、噪声注入和生成模型等任务。"
   ]
  },
  {
   "cell_type": "markdown",
   "id": "1df8fe11",
   "metadata": {},
   "source": [
    "# 4.7 随机漫步"
   ]
  },
  {
   "cell_type": "code",
   "execution_count": 523,
   "id": "2970a12d",
   "metadata": {},
   "outputs": [
    {
     "data": {
      "text/plain": [
       "[<matplotlib.lines.Line2D at 0x24c49fc9f30>]"
      ]
     },
     "execution_count": 523,
     "metadata": {},
     "output_type": "execute_result"
    },
    {
     "data": {
      "image/png": "[encoded data removed]",
      "text/plain": [
       "<Figure size 640x480 with 1 Axes>"
      ]
     },
     "metadata": {},
     "output_type": "display_data"
    }
   ],
   "source": [
    "#用python内建random模块，实现一个1000步随机漫步\n",
    "\n",
    "import random\n",
    "position = 0\n",
    "walk = [position]\n",
    "steps = 1000\n",
    "for i in range(steps):\n",
    "    step = 1 if random.randint(0,1) else -1\n",
    "    position += step\n",
    "    walk.append(position)\n",
    "    \n",
    "plt.plot(walk[:100])"
   ]
  },
  {
   "cell_type": "code",
   "execution_count": 533,
   "id": "de15f1f5",
   "metadata": {},
   "outputs": [
    {
     "data": {
      "text/plain": [
       "29"
      ]
     },
     "execution_count": 533,
     "metadata": {},
     "output_type": "execute_result"
    }
   ],
   "source": [
    "#np.random模块一次性抽取1000次投掷硬币的结果，每次透支的结果1或-1，计算累计值：\n",
    "\n",
    "nsteps = 1000\n",
    "draws = np.random.randint(0, 2, size = nsteps)\n",
    "steps = np.where(draws > 0, 1, -1)\n",
    "walk = steps.cumsum()\n",
    "\n",
    "walk.min()\n",
    "#-63\n",
    "walk.max()\n",
    "#31\n",
    "\n",
    "#第一次走了10步或-10步的位置。\n",
    "#可以使用argmax计算，返回布尔值数组，最大值的第一个位置（True就是最大值）\n",
    "\n",
    "(np.abs(walk) >= 10).argmax()\n",
    "#29"
   ]
  },
  {
   "cell_type": "markdown",
   "id": "f59fdefd",
   "metadata": {},
   "source": [
    "# 4.7.1 一次性模拟多次随机漫步"
   ]
  },
  {
   "cell_type": "code",
   "execution_count": 552,
   "id": "ab999cd5",
   "metadata": {},
   "outputs": [
    {
     "data": {
      "text/plain": [
       "496.95979322228607"
      ]
     },
     "execution_count": 552,
     "metadata": {},
     "output_type": "execute_result"
    }
   ],
   "source": [
    "#5000个随机步的累积和\n",
    "#传入一个2个元素的元组，numpy.random函数可以生成一个二维的抽取数组，一次性跨行算出全部5000个随机步的累积和：\n",
    "\n",
    "nwalks= 5000\n",
    "nsteps = 1000\n",
    "draws = np.random.randint(0, 2, size=(nwalks, nsteps)) #0或1\n",
    "steps = np.where(draws > 0, 1, -1)\n",
    "walks = steps.cumsum(1)\n",
    "walks\n",
    "# array([[  1,   2,   3, ...,  -4,  -3,  -2],\n",
    "#        [ -1,  -2,  -3, ..., -20, -21, -22],\n",
    "#        [ -1,  -2,  -1, ..., -12, -11, -10],\n",
    "#        ...,\n",
    "#        [  1,   0,  -1, ...,   2,   3,   4],\n",
    "#        [  1,   2,   1, ...,   8,   7,   6],\n",
    "#        [ -1,  -2,  -3, ..., -34, -33, -34]])\n",
    "\n",
    "walks.max()\n",
    "#137\n",
    "walks.min()\n",
    "#-137\n",
    "\n",
    "#在随机步中，计算出30或-30的最小穿越时间。\n",
    "hits30 = (np.abs(walks) >= 30).any(1)\n",
    "hits30\n",
    "#array([ True,  True,  True, ..., False, False,  True])\n",
    "hits30.sum()                                                 #达到30或-30的数字\n",
    "#3397\n",
    "\n",
    "#使用布尔值数组选出绝对步数超过30的步，所在的行，并使用argmax从轴向1上获取穿越时间：\n",
    "crossing_times = (np.abs(walks[hits30]) >= 30).argmax(1)\n",
    "crossing_times.mean()\n",
    "#496.95979322228607"
   ]
  },
  {
   "cell_type": "code",
   "execution_count": 553,
   "id": "60aaf2f1",
   "metadata": {},
   "outputs": [],
   "source": [
    "#利用其他分布，而不是等概率的掷硬币实验来随机漫步也可：\n",
    "#使用一个不同的随机数生成函数，比如normal，再根据特定的均值和标准差，即可生成正态分布下的随机步：\n",
    "\n",
    "steps = np.random.normal(loc = 0, scale = 0.25, size = (nwalks, nsteps))               #均值（loc）和标准差（scale）"
   ]
  },
  {
   "cell_type": "code",
   "execution_count": null,
   "id": "b41bbbfa",
   "metadata": {},
   "outputs": [],
   "source": [
    "# Array（数组）是一种多维的数据结构，由相同类型的元素组成，并按照固定大小的维度排列。在Python中，NumPy库提供了强大的Array对象（ndarray），它可以高效地存储和操作大量数据。Array可以是一维的（类似于列表），也可以是多维的（如矩阵或张量）。Array中的每个元素都可以通过索引进行访问，它们通常用于执行数值计算和科学计算任务。\n",
    "\n",
    "# DataFrame（数据帧）是一种二维的数据结构，它是由行和列组成的表格形式数据。在Python中，常用的DataFrame库是pandas。DataFrame类似于电子表格或关系型数据库中的表格，它提供了标签化的行和列，以便更方便地操作和处理数据。每一列可以有不同的数据类型（如整数、浮点数、字符串等），并且可以具有列名和索引标签。DataFrame通常用于数据预处理、数据清洗、数据分析和探索性数据分析（EDA）等任务。\n",
    "\n",
    "# 关系：\n",
    "\n",
    "# DataFrame可以看作是由多个Array组成的数据结构，每一列可以看作是一个Array。\n",
    "# DataFrame可以利用Array的特性来进行数据处理和计算，比如通过调用NumPy库的函数对DataFrame中的Array进行向量化操作。\n",
    "# 在pandas库中，DataFrame对象内部使用了NumPy的Array来存储数据，因此可以直接操作Array的各种方法和功能。"
   ]
  }
 ],
 "metadata": {
  "kernelspec": {
   "display_name": "Python 3 (ipykernel)",
   "language": "python",
   "name": "python3"
  },
  "language_info": {
   "codemirror_mode": {
    "name": "ipython",
    "version": 3
   },
   "file_extension": ".py",
   "mimetype": "text/x-python",
   "name": "python",
   "nbconvert_exporter": "python",
   "pygments_lexer": "ipython3",
   "version": "3.10.9"
  }
 },
 "nbformat": 4,
 "nbformat_minor": 5
}
