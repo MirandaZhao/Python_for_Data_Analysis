{
 "cells": [
  {
   "cell_type": "markdown",
   "id": "0454f90f",
   "metadata": {},
   "source": [
    "# Ch7 Data Cleaning and Preparation 数据清洗与准备"
   ]
  },
  {
   "cell_type": "code",
   "execution_count": 266,
   "id": "817aef8c",
   "metadata": {},
   "outputs": [],
   "source": [
    "import pandas as pd\n",
    "import numpy as np\n",
    "import re"
   ]
  },
  {
   "cell_type": "markdown",
   "id": "c5b4bd92",
   "metadata": {},
   "source": [
    "# 7.1 处理缺失值 Handling Missing Data"
   ]
  },
  {
   "cell_type": "code",
   "execution_count": 11,
   "id": "4c664028",
   "metadata": {},
   "outputs": [
    {
     "data": {
      "text/plain": [
       "0     True\n",
       "1    False\n",
       "2     True\n",
       "3    False\n",
       "dtype: bool"
      ]
     },
     "execution_count": 11,
     "metadata": {},
     "output_type": "execute_result"
    }
   ],
   "source": [
    "#pandas使用浮点值Nan-not a number表示缺失值。Nan为容易检测到的标识值。\n",
    "string_data = pd.Series(['aardvark', 'artichok', np.nan, 'avocado'])\n",
    "string_data\n",
    "# 0    aardvark\n",
    "# 1    artichok\n",
    "# 2         NaN\n",
    "# 3     avocado\n",
    "# dtype: object\n",
    "\n",
    "#.isnull()用来检查是否为空值：缺失值和none均为空值。\n",
    "string_data.isnull()\n",
    "# 0    False\n",
    "# 1    False\n",
    "# 2     True\n",
    "# 3    False\n",
    "# dtype: bool\n",
    "\n",
    "string_data[0] = None\n",
    "string_data.isnull()\n",
    "# 0     True\n",
    "# 1    False\n",
    "# 2     True\n",
    "# 3    False\n",
    "# dtype: bool"
   ]
  },
  {
   "cell_type": "code",
   "execution_count": null,
   "id": "afb8109c",
   "metadata": {},
   "outputs": [],
   "source": [
    "#【重点：】\n",
    "#NA处理方法：\n",
    "# dropna：根据每个标签的值是否是缺失数据来筛选轴标签，根据允许丢失的数据量，来确定阈值\n",
    "# fillna：用某些值，填充确实的数据或使用插值方法。\n",
    "# isnull：返回表名那些值是缺失值的布尔值。\n",
    "# notnull：isnull的反函数。"
   ]
  },
  {
   "cell_type": "markdown",
   "id": "1b149d47",
   "metadata": {},
   "source": [
    "## 7.1.1 过滤缺失值 Filtering Out Missing Data"
   ]
  },
  {
   "cell_type": "code",
   "execution_count": 15,
   "id": "22f26020",
   "metadata": {},
   "outputs": [
    {
     "data": {
      "text/plain": [
       "0    1.0\n",
       "2    3.5\n",
       "4    7.0\n",
       "dtype: float64"
      ]
     },
     "execution_count": 15,
     "metadata": {},
     "output_type": "execute_result"
    }
   ],
   "source": [
    "#.dropna() <=> .notnull() 去掉缺失值\n",
    "#pandas.isnull和布尔值索引手动过滤缺失值\n",
    "#dropna在过滤缺失值很有用。在series使用dropna, 会返回series中所有的非空数据及其索引值：\n",
    "\n",
    "from numpy import nan as NA\n",
    "data = pd.Series([1, NA, 3.5, NA, 7])\n",
    "data.dropna()\n",
    "# 0    1.0\n",
    "# 2    3.5\n",
    "# 4    7.0\n",
    "# dtype: float64\n",
    "\n",
    "data[data.notnull()]\n",
    "# 0    1.0\n",
    "# 2    3.5\n",
    "# 4    7.0\n",
    "# dtype: float64"
   ]
  },
  {
   "cell_type": "code",
   "execution_count": 25,
   "id": "f3ad7725",
   "metadata": {},
   "outputs": [
    {
     "data": {
      "text/html": [
       "<div>\n",
       "<style scoped>\n",
       "    .dataframe tbody tr th:only-of-type {\n",
       "        vertical-align: middle;\n",
       "    }\n",
       "\n",
       "    .dataframe tbody tr th {\n",
       "        vertical-align: top;\n",
       "    }\n",
       "\n",
       "    .dataframe thead th {\n",
       "        text-align: right;\n",
       "    }\n",
       "</style>\n",
       "<table border=\"1\" class=\"dataframe\">\n",
       "  <thead>\n",
       "    <tr style=\"text-align: right;\">\n",
       "      <th></th>\n",
       "      <th>0</th>\n",
       "      <th>1</th>\n",
       "      <th>2</th>\n",
       "    </tr>\n",
       "  </thead>\n",
       "  <tbody>\n",
       "    <tr>\n",
       "      <th>2</th>\n",
       "      <td>0.146841</td>\n",
       "      <td>NaN</td>\n",
       "      <td>-1.218570</td>\n",
       "    </tr>\n",
       "    <tr>\n",
       "      <th>3</th>\n",
       "      <td>0.040456</td>\n",
       "      <td>NaN</td>\n",
       "      <td>0.516865</td>\n",
       "    </tr>\n",
       "    <tr>\n",
       "      <th>4</th>\n",
       "      <td>-2.297259</td>\n",
       "      <td>0.030341</td>\n",
       "      <td>-0.211776</td>\n",
       "    </tr>\n",
       "    <tr>\n",
       "      <th>5</th>\n",
       "      <td>-2.368655</td>\n",
       "      <td>-0.969274</td>\n",
       "      <td>-0.003980</td>\n",
       "    </tr>\n",
       "    <tr>\n",
       "      <th>6</th>\n",
       "      <td>0.132776</td>\n",
       "      <td>0.410199</td>\n",
       "      <td>0.208535</td>\n",
       "    </tr>\n",
       "  </tbody>\n",
       "</table>\n",
       "</div>"
      ],
      "text/plain": [
       "          0         1         2\n",
       "2  0.146841       NaN -1.218570\n",
       "3  0.040456       NaN  0.516865\n",
       "4 -2.297259  0.030341 -0.211776\n",
       "5 -2.368655 -0.969274 -0.003980\n",
       "6  0.132776  0.410199  0.208535"
      ]
     },
     "execution_count": 25,
     "metadata": {},
     "output_type": "execute_result"
    }
   ],
   "source": [
    "#当处理data frame对象时，可能想要删除全部为NA或包含有NA的行或列，但dropna默认情况下会删除包含缺失值的行。\n",
    "\n",
    "data = pd.DataFrame([[1., 6.5, 3.], [1., NA, NA], [NA, NA, NA], [NA, 6.5, 3.]])\n",
    "cleaned = data.dropna()\n",
    "data\n",
    "# 0\t1\t2\n",
    "# 0\t1.0\t6.5\t3.0\n",
    "# 1\t1.0\tNaN\tNaN\n",
    "# 2\tNaN\tNaN\tNaN\n",
    "# 3\tNaN\t6.5\t3.0\n",
    "cleaned\n",
    "# 0\t1\t2\n",
    "# 0\t1.0\t6.5\t3.0\n",
    "\n",
    "#只删除（所有的值均为NA)的行：传入how = 'all'时，将，保留仅有1.2...n个na的行：\n",
    "data.dropna(how = 'all')\n",
    "# 0\t1\t2\n",
    "# 0\t1.0\t6.5\t3.0\n",
    "# 1\t1.0\tNaN\tNaN\n",
    "# 3\tNaN\t6.5\t3.0\n",
    "\n",
    "#把所有的值均为NA的列删除：传入参数axis = 1\n",
    "data[4] = NA\n",
    "data\n",
    "# \t0\t1\t2\t4\n",
    "# 0\t1.0\t6.5\t3.0\tNaN\n",
    "# 1\t1.0\tNaN\tNaN\tNaN\n",
    "# 2\tNaN\tNaN\tNaN\tNaN\n",
    "# 3\tNaN\t6.5\t3.0\tNaN\n",
    "data.dropna(axis = 1, how = 'all')       \n",
    "# 0\t1\t2\n",
    "# 0\t1.0\t6.5\t3.0\n",
    "# 1\t1.0\tNaN\tNaN\n",
    "# 2\tNaN\tNaN\tNaN\n",
    "# 3\tNaN\t6.5\t3.0\n",
    "\n",
    "#过滤DataFrame的行的相关方法设计时间序列。 假设只想保留包含一定数量的观察值的行。\n",
    "#可以用thresh参数来表示：\n",
    "df = pd.DataFrame(np.random.randn(7,3))\n",
    "df.iloc[:4, 1] = NA                           #前4行，第2列，设置为NA\n",
    "df.iloc[:2, 2] = NA                           #前2行，第3列，设置为NA\n",
    "df\n",
    "# 0\t1\t2\n",
    "# 0\t-2.773912\tNaN\tNaN\n",
    "# 1\t1.787779\tNaN\tNaN\n",
    "# 2\t0.498764\tNaN\t1.108871\n",
    "# 3\t0.134833\tNaN\t1.313636\n",
    "# 4\t0.362728\t-0.119155\t0.077606\n",
    "# 5\t-0.742221\t-0.851967\t-0.233683\n",
    "# 6\t-1.169108\t-0.541773\t-1.091397\n",
    "df.dropna()                                   #.dropna()：有一个为NA即drop掉\n",
    "# 0\t1\t2\n",
    "# 4\t-0.745122\t0.474192\t-0.207012\n",
    "# 5\t-1.111911\t0.963357\t-0.690348\n",
    "# 6\t-0.279375\t1.082670\t0.432352\n",
    "df.dropna(thresh = 2)                         #.dropna(thresh = 2)：有2个NA的才drop掉\n",
    "# 0\t1\t2\n",
    "# 2\t0.146841\tNaN\t-1.218570\n",
    "# 3\t0.040456\tNaN\t0.516865\n",
    "# 4\t-2.297259\t0.030341\t-0.211776\n",
    "# 5\t-2.368655\t-0.969274\t-0.003980\n",
    "# 6\t0.132776\t0.410199\t0.208535"
   ]
  },
  {
   "cell_type": "markdown",
   "id": "4f173745",
   "metadata": {},
   "source": [
    "## 7.1.2 补全缺失值 Filling In Missing Data"
   ]
  },
  {
   "cell_type": "code",
   "execution_count": 71,
   "id": "2ec9ab4b",
   "metadata": {},
   "outputs": [
    {
     "data": {
      "text/plain": [
       "0    1.0\n",
       "1    3.5\n",
       "2    3.5\n",
       "3    3.5\n",
       "4    7.0\n",
       "dtype: float64"
      ]
     },
     "execution_count": 71,
     "metadata": {},
     "output_type": "execute_result"
    }
   ],
   "source": [
    "#补全漏洞，而不是过滤缺失值时。可以使用fillna方法来补全缺失值\n",
    "#缺失值可以：填0，字典式，就近填充，平均值/中位数\n",
    "\n",
    "#1.全部补0\n",
    "df.fillna(0)\n",
    "# 0\t1\t2\n",
    "# 0\t0.772158\t0.000000\t0.000000\n",
    "# 1\t-2.539879\t0.000000\t0.000000\n",
    "# 2\t0.146841\t0.000000\t-1.218570\n",
    "# 3\t0.040456\t0.000000\t0.516865\n",
    "# 4\t-2.297259\t0.030341\t-0.211776\n",
    "# 5\t-2.368655\t-0.969274\t-0.003980\n",
    "# 6\t0.132776\t0.410199\t0.208535\n",
    "\n",
    "#2.字典式赋值\n",
    "#调用fillna时使用字典：第2列填充0.5，第3列填充0：.fillna({n1:a, n2:b})\n",
    "df.fillna({1:0.5, 2:0})\n",
    "# 0\t1\t2\n",
    "# 0\t0.772158\t0.500000\t0.000000\n",
    "# 1\t-2.539879\t0.500000\t0.000000\n",
    "# 2\t0.146841\t0.500000\t-1.218570\n",
    "# 3\t0.040456\t0.500000\t0.516865\n",
    "# 4\t-2.297259\t0.030341\t-0.211776\n",
    "# 5\t-2.368655\t-0.969274\t-0.003980\n",
    "# 6\t0.132776\t0.410199\t0.208535\n",
    "\n",
    "#fillna返回的是一个新的对象，也可以修改已经存在的对象：全部填0：.fillna(0, inplace = True)\n",
    "_ = df.fillna(0, inplace = True)\n",
    "df\n",
    "# 0\t1\t2\n",
    "# 0\t0.772158\t0.000000\t0.000000\n",
    "# 1\t-2.539879\t0.000000\t0.000000\n",
    "# 2\t0.146841\t0.000000\t-1.218570\n",
    "# 3\t0.040456\t0.000000\t0.516865\n",
    "# 4\t-2.297259\t0.030341\t-0.211776\n",
    "# 5\t-2.368655\t-0.969274\t-0.003980\n",
    "# 6\t0.132776\t0.410199\t0.208535\n",
    "\n",
    "#用于重建索引的相同的插值方法也可以用于fillna\n",
    "df = pd.DataFrame(np.random.randn(6,3))\n",
    "df.iloc[2:, 1] = NA                          #[2:,1]：第3行之后，第一列\n",
    "df.iloc[4:, 2] = NA                          #[4:,2]：第5行之后，第二列\n",
    "df\n",
    "# 0\t1\t2\n",
    "# 0\t-0.801166\t-0.779006\t-0.186398\n",
    "# 1\t-0.449003\t-0.236377\t0.852875\n",
    "# 2\t0.003301\tNaN\t-1.180197\n",
    "# 3\t0.553074\tNaN\t-0.163766\n",
    "# 4\t-1.076717\tNaN\tNaN\n",
    "# 5\t-0.714772\tNaN\tNaN\n",
    "\n",
    "#3.将缺失值按前面最近的非缺失值填\n",
    "#.fillna(method = 'ffill')：它将缺失值用其前面的非缺失值进行填充，即缺失值将被其前面的最近的非缺失值所替代。\n",
    "df.fillna(method = 'ffill')\n",
    "# 0\t1\t2\n",
    "# 0\t-0.245778\t-0.315176\t0.159850\n",
    "# 1\t-0.383522\t【-0.248150】\t1.614308\n",
    "# 2\t1.135666\t-0.248150\t1.319412\n",
    "# 3\t1.873568\t-0.248150\t【1.718205】\n",
    "# 4\t-1.686481\t-0.248150\t1.718205\n",
    "# 5\t-0.037789\t-0.248150\t1.718205\n",
    "\n",
    "\n",
    "#.fillna(method='ffill', limit=n)：只允许连续的最多n个缺失值被填充为其前面的非缺失值。超过这个限制的缺失值将保持为NaN。这个参数可以用于限制填充的范围，避免过多的填充导致数据不准确。\n",
    "df.fillna(method = 'ffill', limit = 2)\n",
    "# 0\t1\t2\n",
    "# 0\t-0.057093\t-1.515736\t-0.059605\n",
    "# 1\t1.262333\t1.096798\t-1.362441\n",
    "# 2\t0.930699\t1.096798\t-1.862778\n",
    "# 3\t-1.029882\t1.096798\t-1.019072\n",
    "# 4\t-0.302298\tNaN\t-1.019072\n",
    "# 5\t0.088165\tNaN\t-1.019072\n",
    "\n",
    "\n",
    "#4.将series的平均值或中位数用于填充缺失值：.fillna(data.mean()) or .fillna(data.median())\n",
    "data = pd.Series([1., NA, 3.5, NA, 7])\n",
    "data.fillna(data.mean())\n",
    "# 0    1.000000\n",
    "# 1    3.833333\n",
    "# 2    3.500000\n",
    "# 3    3.833333\n",
    "# 4    7.000000\n",
    "# dtype: float64\n",
    "data = pd.Series([1., NA, 3.5, NA, 7])\n",
    "data.fillna(data.median())\n",
    "# 0    1.0\n",
    "# 1    3.5\n",
    "# 2    3.5\n",
    "# 3    3.5\n",
    "# 4    7.0\n",
    "# dtype: float64"
   ]
  },
  {
   "cell_type": "code",
   "execution_count": null,
   "id": "5d046bb1",
   "metadata": {},
   "outputs": [],
   "source": [
    "#fillna函数参数：\n",
    "# value：标量值或字典型对象用于填充缺失值\n",
    "# method：插值方法，如果没有其他参数，默认是'ffill'\n",
    "# axis：需要填充的轴，默认axis = 0\n",
    "# inplace：修改被调用的对象，而不是生成一个备份\n",
    "# limit：用于前向或后向填充式最大的填充范围"
   ]
  },
  {
   "cell_type": "markdown",
   "id": "405ff23b",
   "metadata": {},
   "source": [
    "# 7.2 数据转换 Data Transformation"
   ]
  },
  {
   "cell_type": "markdown",
   "id": "525b835f",
   "metadata": {},
   "source": [
    "## 7.2.1 删除重复值 Removing Duplicates"
   ]
  },
  {
   "cell_type": "code",
   "execution_count": 81,
   "id": "dfc1a0ea",
   "metadata": {
    "scrolled": true
   },
   "outputs": [
    {
     "data": {
      "text/html": [
       "<div>\n",
       "<style scoped>\n",
       "    .dataframe tbody tr th:only-of-type {\n",
       "        vertical-align: middle;\n",
       "    }\n",
       "\n",
       "    .dataframe tbody tr th {\n",
       "        vertical-align: top;\n",
       "    }\n",
       "\n",
       "    .dataframe thead th {\n",
       "        text-align: right;\n",
       "    }\n",
       "</style>\n",
       "<table border=\"1\" class=\"dataframe\">\n",
       "  <thead>\n",
       "    <tr style=\"text-align: right;\">\n",
       "      <th></th>\n",
       "      <th>k1</th>\n",
       "      <th>k2</th>\n",
       "      <th>v1</th>\n",
       "    </tr>\n",
       "  </thead>\n",
       "  <tbody>\n",
       "    <tr>\n",
       "      <th>0</th>\n",
       "      <td>one</td>\n",
       "      <td>1</td>\n",
       "      <td>0</td>\n",
       "    </tr>\n",
       "    <tr>\n",
       "      <th>1</th>\n",
       "      <td>two</td>\n",
       "      <td>1</td>\n",
       "      <td>1</td>\n",
       "    </tr>\n",
       "  </tbody>\n",
       "</table>\n",
       "</div>"
      ],
      "text/plain": [
       "    k1  k2  v1\n",
       "0  one   1   0\n",
       "1  two   1   1"
      ]
     },
     "execution_count": 81,
     "metadata": {},
     "output_type": "execute_result"
    }
   ],
   "source": [
    "data = pd.DataFrame({'k1': ['one', 'two'] * 3 + ['two'], \n",
    "                     'k2': [1, 1, 2, 3, 3, 4, 4]})\n",
    "data\n",
    "# k1\tk2\n",
    "# 0\tone\t1\n",
    "# 1\ttwo\t1\n",
    "# 2\tone\t2\n",
    "# 3\ttwo\t3\n",
    "# 4\tone\t3\n",
    "# 5\ttwo\t4\n",
    "# 6\ttwo\t4\n",
    "\n",
    "#.duplicated()检验是否重复\n",
    "#data frame的duplicated方法返回的事一个布尔值series，这个series反映的是每一行，是否存在重复：\n",
    "data.duplicated()\n",
    "# 0    False\n",
    "# 1    False\n",
    "# 2    False\n",
    "# 3    False\n",
    "# 4    False\n",
    "# 5    False\n",
    "# 6     True\n",
    "# dtype: bool\n",
    "\n",
    "#drop_duplicates返回的是data frame, 内容是duplicated返回数组为false的部分：\n",
    "data.drop_duplicates()\n",
    "# \tk1\tk2\n",
    "# 0\tone\t1\n",
    "# 1\ttwo\t1\n",
    "# 2\tone\t2\n",
    "# 3\ttwo\t3\n",
    "# 4\tone\t3\n",
    "# 5\ttwo\t4\n",
    "\n",
    "#.drop_duplicates(['column_name'])：想根据该列，去除重复值：\n",
    "#增添一个k1列，根据该列，去除重复值：只有第一次出现one two的行留下了\n",
    "\n",
    "data['v1'] = range(7)\n",
    "data\n",
    "# k1\tk2\tv1\n",
    "# 0\tone\t1\t0\n",
    "# 1\ttwo\t1\t1\n",
    "# 2\tone\t2\t2\n",
    "# 3\ttwo\t3\t3\n",
    "# 4\tone\t3\t4\n",
    "# 5\ttwo\t4\t5\n",
    "# 6\ttwo\t4\t6\n",
    "data.drop_duplicates(['k1'])\n",
    "# k1\tk2\tv1\n",
    "# 0\tone\t1\t0\n",
    "# 1\ttwo\t1\t1"
   ]
  },
  {
   "cell_type": "code",
   "execution_count": 82,
   "id": "76fbcc3a",
   "metadata": {},
   "outputs": [
    {
     "data": {
      "text/html": [
       "<div>\n",
       "<style scoped>\n",
       "    .dataframe tbody tr th:only-of-type {\n",
       "        vertical-align: middle;\n",
       "    }\n",
       "\n",
       "    .dataframe tbody tr th {\n",
       "        vertical-align: top;\n",
       "    }\n",
       "\n",
       "    .dataframe thead th {\n",
       "        text-align: right;\n",
       "    }\n",
       "</style>\n",
       "<table border=\"1\" class=\"dataframe\">\n",
       "  <thead>\n",
       "    <tr style=\"text-align: right;\">\n",
       "      <th></th>\n",
       "      <th>k1</th>\n",
       "      <th>k2</th>\n",
       "      <th>v1</th>\n",
       "    </tr>\n",
       "  </thead>\n",
       "  <tbody>\n",
       "    <tr>\n",
       "      <th>0</th>\n",
       "      <td>one</td>\n",
       "      <td>1</td>\n",
       "      <td>0</td>\n",
       "    </tr>\n",
       "    <tr>\n",
       "      <th>1</th>\n",
       "      <td>two</td>\n",
       "      <td>1</td>\n",
       "      <td>1</td>\n",
       "    </tr>\n",
       "    <tr>\n",
       "      <th>2</th>\n",
       "      <td>one</td>\n",
       "      <td>2</td>\n",
       "      <td>2</td>\n",
       "    </tr>\n",
       "    <tr>\n",
       "      <th>3</th>\n",
       "      <td>two</td>\n",
       "      <td>3</td>\n",
       "      <td>3</td>\n",
       "    </tr>\n",
       "    <tr>\n",
       "      <th>4</th>\n",
       "      <td>one</td>\n",
       "      <td>3</td>\n",
       "      <td>4</td>\n",
       "    </tr>\n",
       "    <tr>\n",
       "      <th>6</th>\n",
       "      <td>two</td>\n",
       "      <td>4</td>\n",
       "      <td>6</td>\n",
       "    </tr>\n",
       "  </tbody>\n",
       "</table>\n",
       "</div>"
      ],
      "text/plain": [
       "    k1  k2  v1\n",
       "0  one   1   0\n",
       "1  two   1   1\n",
       "2  one   2   2\n",
       "3  two   3   3\n",
       "4  one   3   4\n",
       "6  two   4   6"
      ]
     },
     "execution_count": 82,
     "metadata": {},
     "output_type": "execute_result"
    }
   ],
   "source": [
    "#duplicated和drop_duplicates默认都是保留第一个观测的值。传入参数keep = 'last'将返回最后一个：\n",
    "#因为[5], [6]行都是two 4，传入keep = 'last'后，保留[6]\n",
    "data.drop_duplicates(['k1','k2'], keep = 'last')\n",
    "\n",
    "# k1\tk2\tv1\n",
    "# 0\tone\t1\t0\n",
    "# 1\ttwo\t1\t1\n",
    "# 2\tone\t2\t2\n",
    "# 3\ttwo\t3\t3\n",
    "# 4\tone\t3\t4\n",
    "# 6\ttwo\t4\t6"
   ]
  },
  {
   "cell_type": "markdown",
   "id": "ef292bd6",
   "metadata": {},
   "source": [
    "## 7.2.2 使用函数或映射进行数据转换 Transforming Data Using a Function or Mapping"
   ]
  },
  {
   "cell_type": "code",
   "execution_count": 93,
   "id": "0a742cf0",
   "metadata": {},
   "outputs": [
    {
     "data": {
      "text/html": [
       "<div>\n",
       "<style scoped>\n",
       "    .dataframe tbody tr th:only-of-type {\n",
       "        vertical-align: middle;\n",
       "    }\n",
       "\n",
       "    .dataframe tbody tr th {\n",
       "        vertical-align: top;\n",
       "    }\n",
       "\n",
       "    .dataframe thead th {\n",
       "        text-align: right;\n",
       "    }\n",
       "</style>\n",
       "<table border=\"1\" class=\"dataframe\">\n",
       "  <thead>\n",
       "    <tr style=\"text-align: right;\">\n",
       "      <th></th>\n",
       "      <th>food</th>\n",
       "      <th>ounces</th>\n",
       "      <th>animal</th>\n",
       "    </tr>\n",
       "  </thead>\n",
       "  <tbody>\n",
       "    <tr>\n",
       "      <th>0</th>\n",
       "      <td>bacon</td>\n",
       "      <td>4.0</td>\n",
       "      <td>pig</td>\n",
       "    </tr>\n",
       "    <tr>\n",
       "      <th>1</th>\n",
       "      <td>pulled pork</td>\n",
       "      <td>3.0</td>\n",
       "      <td>cow</td>\n",
       "    </tr>\n",
       "    <tr>\n",
       "      <th>2</th>\n",
       "      <td>bacon</td>\n",
       "      <td>12.0</td>\n",
       "      <td>pig</td>\n",
       "    </tr>\n",
       "    <tr>\n",
       "      <th>3</th>\n",
       "      <td>Pastrmi</td>\n",
       "      <td>6.0</td>\n",
       "      <td>NaN</td>\n",
       "    </tr>\n",
       "    <tr>\n",
       "      <th>4</th>\n",
       "      <td>corned beef</td>\n",
       "      <td>7.5</td>\n",
       "      <td>pig</td>\n",
       "    </tr>\n",
       "    <tr>\n",
       "      <th>5</th>\n",
       "      <td>Bacon</td>\n",
       "      <td>8.0</td>\n",
       "      <td>pig</td>\n",
       "    </tr>\n",
       "    <tr>\n",
       "      <th>6</th>\n",
       "      <td>pastrami</td>\n",
       "      <td>3.0</td>\n",
       "      <td>NaN</td>\n",
       "    </tr>\n",
       "    <tr>\n",
       "      <th>7</th>\n",
       "      <td>honey ham</td>\n",
       "      <td>5.0</td>\n",
       "      <td>pig</td>\n",
       "    </tr>\n",
       "    <tr>\n",
       "      <th>8</th>\n",
       "      <td>nova lox</td>\n",
       "      <td>6.0</td>\n",
       "      <td>salmon</td>\n",
       "    </tr>\n",
       "  </tbody>\n",
       "</table>\n",
       "</div>"
      ],
      "text/plain": [
       "          food  ounces  animal\n",
       "0        bacon     4.0     pig\n",
       "1  pulled pork     3.0     cow\n",
       "2        bacon    12.0     pig\n",
       "3      Pastrmi     6.0     NaN\n",
       "4  corned beef     7.5     pig\n",
       "5        Bacon     8.0     pig\n",
       "6     pastrami     3.0     NaN\n",
       "7    honey ham     5.0     pig\n",
       "8     nova lox     6.0  salmon"
      ]
     },
     "execution_count": 93,
     "metadata": {},
     "output_type": "execute_result"
    }
   ],
   "source": [
    "data = pd.DataFrame({'food': ['bacon', 'pulled pork', 'bacon', \n",
    "                              'Pastrmi', 'corned beef', 'Bacon', \n",
    "                              'pastrami', 'honey ham', 'nova lox'],\n",
    "                     'ounces':[4, 3, 12, 6, 7.5, 8, 3, 5, 6]})\n",
    "data\n",
    "# food\tounces\n",
    "# 0\tbacon\t4.0\n",
    "# 1\tpulled pork\t3.0\n",
    "# 2\tbacon\t12.0\n",
    "# 3\tPastrmi\t6.0\n",
    "# 4\tcorned beef\t7.5\n",
    "# 5\tBacon\t8.0\n",
    "# 6\tpastrami\t3.0\n",
    "# 7\thoney ham\t5.0\n",
    "# 8\tnova lox\t6.0\n",
    "\n",
    "#假设想添加一列用于表名每种食物的动物肉类型。先写下一个食物和肉类的映射：\n",
    "meat_to_animal = {\n",
    "    'bacon': 'pig',\n",
    "    'pulled pork': 'cow',\n",
    "    'corned beef': 'pig',\n",
    "    'honey ham': 'pig',\n",
    "    'nova lox': 'salmon'\n",
    "}\n",
    "\n",
    "#series的map方法，接收一个函数或一个包含映射关系的字典型对象。\n",
    "#此处有一个问题在于，一些肉类大写了，另一部分肉类没有。\n",
    "#因此需要series的str.lower将每个值转换为小写：\n",
    "lowercased = data['food'].str.lower()\n",
    "lowercased\n",
    "# 0          bacon\n",
    "# 1    pulled pork\n",
    "# 2          bacon\n",
    "# 3        pastrmi\n",
    "# 4    corned beef\n",
    "# 5          bacon\n",
    "# 6       pastrami\n",
    "# 7      honey ham\n",
    "# 8       nova lox\n",
    "# Name: food, dtype: object\n",
    "\n",
    "#\n",
    "data['animal'] = lowercased.map(meat_to_animal)\n",
    "data\n",
    "# food\tounces\tanimal\n",
    "# 0\tbacon\t4.0\tpig\n",
    "# 1\tpulled pork\t3.0\tcow\n",
    "# 2\tbacon\t12.0\tpig\n",
    "# 3\tPastrmi\t6.0\tNaN\n",
    "# 4\tcorned beef\t7.5\tpig\n",
    "# 5\tBacon\t8.0\tpig\n",
    "# 6\tpastrami\t3.0\tNaN\n",
    "# 7\thoney ham\t5.0\tpig\n",
    "# 8\tnova lox\t6.0\tsalmon\n",
    "\n"
   ]
  },
  {
   "cell_type": "code",
   "execution_count": 175,
   "id": "31a304eb",
   "metadata": {},
   "outputs": [],
   "source": [
    "#也可以传入一个能够完成所有工作的函数：\n",
    "data = pd.DataFrame({'food': ['bacon', 'pulled pork', 'bacon', \n",
    "                              'Pastrmi', 'corned beef', 'Bacon', \n",
    "                              'pastrami', 'honey ham', 'nova lox'],\n",
    "                     'ounces':[4, 3, 12, 6, 7.5, 8, 3, 5, 6]})\n",
    "meat_to_animal = {\n",
    "    'bacon': 'pig',\n",
    "    'pulled pork': 'cow',\n",
    "    'corned beef': 'pig',\n",
    "    'honey ham': 'pig',\n",
    "    'nova lox': 'salmon'\n",
    "}\n",
    "\n",
    "#data['food'].map(lambda x: meat_to_animal[x.lower()]) "
   ]
  },
  {
   "cell_type": "markdown",
   "id": "6ed3a86e",
   "metadata": {},
   "source": [
    "## 7.2.3替代值 Replacing Values"
   ]
  },
  {
   "cell_type": "code",
   "execution_count": 107,
   "id": "97d88b68",
   "metadata": {},
   "outputs": [
    {
     "data": {
      "text/plain": [
       "0    1.0\n",
       "1    NaN\n",
       "2    2.0\n",
       "3    NaN\n",
       "4    0.0\n",
       "5    3.0\n",
       "dtype: float64"
      ]
     },
     "execution_count": 107,
     "metadata": {},
     "output_type": "execute_result"
    }
   ],
   "source": [
    "#使用fillna填充缺失值，是通用值替换的特殊案例。\n",
    "#map可以用来修改一个对象中的子集的值，但是replace提供了更为简单的实现。\n",
    "\n",
    "data = pd.Series([1., -999., 2., -999., -1000., 3.])\n",
    "data\n",
    "# 0       1.0\n",
    "# 1    -999.0\n",
    "# 2       2.0\n",
    "# 3    -999.0\n",
    "# 4   -1000.0\n",
    "# 5       3.0\n",
    "# dtype: float64\n",
    "\n",
    "#.replace(a, np.nan)替换为NA值\n",
    "#-999可能是缺失值的标志，可以用replace方法生成新的series：把-999 替换成na\n",
    "data.replace(-999, np.nan)\n",
    "# 0       1.0\n",
    "# 1       NaN\n",
    "# 2       2.0\n",
    "# 3       NaN\n",
    "# 4   -1000.0\n",
    "# 5       3.0\n",
    "# dtype: float64\n",
    "\n",
    "#.replace([a,b], np.nan)：如果想要一次替代多个值，可以传入一个列表和替代值：\n",
    "data.replace([-999, -1000], np.nan)\n",
    "# 0    1.0\n",
    "# 1    NaN\n",
    "# 2    2.0\n",
    "# 3    NaN\n",
    "# 4    NaN\n",
    "# 5    3.0\n",
    "# dtype: float64\n",
    "\n",
    "#.replace([a,b], [np.nan,0])：要将不同的值，替换为不同的值，可以传入替代值的列表：\n",
    "data.replace([-999, -1000], [np.nan, 0])\n",
    "# 0    1.0\n",
    "# 1    NaN\n",
    "# 2    2.0\n",
    "# 3    NaN\n",
    "# 4    0.0\n",
    "# 5    3.0\n",
    "# dtype: float64"
   ]
  },
  {
   "cell_type": "markdown",
   "id": "8c0eae38",
   "metadata": {},
   "source": [
    "## 7.2.4 重命名轴索引 Renaming Axis Indexes"
   ]
  },
  {
   "cell_type": "code",
   "execution_count": 119,
   "id": "7b9bf9bb",
   "metadata": {},
   "outputs": [
    {
     "data": {
      "text/html": [
       "<div>\n",
       "<style scoped>\n",
       "    .dataframe tbody tr th:only-of-type {\n",
       "        vertical-align: middle;\n",
       "    }\n",
       "\n",
       "    .dataframe tbody tr th {\n",
       "        vertical-align: top;\n",
       "    }\n",
       "\n",
       "    .dataframe thead th {\n",
       "        text-align: right;\n",
       "    }\n",
       "</style>\n",
       "<table border=\"1\" class=\"dataframe\">\n",
       "  <thead>\n",
       "    <tr style=\"text-align: right;\">\n",
       "      <th></th>\n",
       "      <th>one</th>\n",
       "      <th>two</th>\n",
       "      <th>three</th>\n",
       "      <th>four</th>\n",
       "    </tr>\n",
       "  </thead>\n",
       "  <tbody>\n",
       "    <tr>\n",
       "      <th>INDIANA</th>\n",
       "      <td>0</td>\n",
       "      <td>1</td>\n",
       "      <td>2</td>\n",
       "      <td>3</td>\n",
       "    </tr>\n",
       "    <tr>\n",
       "      <th>COLO</th>\n",
       "      <td>4</td>\n",
       "      <td>5</td>\n",
       "      <td>6</td>\n",
       "      <td>7</td>\n",
       "    </tr>\n",
       "    <tr>\n",
       "      <th>NEW</th>\n",
       "      <td>8</td>\n",
       "      <td>9</td>\n",
       "      <td>10</td>\n",
       "      <td>11</td>\n",
       "    </tr>\n",
       "  </tbody>\n",
       "</table>\n",
       "</div>"
      ],
      "text/plain": [
       "         one  two  three  four\n",
       "INDIANA    0    1      2     3\n",
       "COLO       4    5      6     7\n",
       "NEW        8    9     10    11"
      ]
     },
     "execution_count": 119,
     "metadata": {},
     "output_type": "execute_result"
    }
   ],
   "source": [
    "data = pd.DataFrame(np.arange(12).reshape((3,4)), \n",
    "                    index = ['Ohio', 'Colorado', 'New York'],\n",
    "                    columns = ['one', 'two', 'three', 'four'])\n",
    "data\n",
    "# \tone\ttwo\tthree\tfour\n",
    "# Ohio\t0\t1\t2\t3\n",
    "# Colorado\t4\t5\t6\t7\n",
    "# New York\t8\t9\t10\t11\n",
    "\n",
    "#lambda x: x[:4].upper()：只将index 前4个字母保留并大写\n",
    "transform = lambda x: x[:4].upper()\n",
    "data.index.map(transform)\n",
    "#Index(['OHIO', 'COLO', 'NEW '], dtype='object')\n",
    "\n",
    "data.index = data.index.map(transform)\n",
    "data\n",
    "# \tone\ttwo\tthree\tfour\n",
    "# OHIO\t0\t1\t2\t3\n",
    "# COLO\t4\t5\t6\t7\n",
    "# NEW\t8\t9\t10\t11\n",
    "\n",
    "#想创建数据集后的版本，不修改原有的数据集，可以用rename：\n",
    "#data.rename(index = str.title, columns = str.upper)：大写列名\n",
    "data.rename(index = str.title, columns = str.upper)\n",
    "# ONE\tTWO\tTHREE\tFOUR\n",
    "# Ohio\t0\t1\t2\t3\n",
    "# Colo\t4\t5\t6\t7\n",
    "# New\t8\t9\t10\t11\n",
    "\n",
    "#rename可以和字典型对象使用，为轴标签的子集提供新的值：\n",
    "#rename可以修改行/列名：\n",
    "data.rename(index = {'OHIO' : 'INDIANA'},\n",
    "            columns = {'three' : 'peekaboo'})\n",
    "# one\ttwo\tpeekaboo\tfour\n",
    "# INDIANA\t0\t1\t2\t3\n",
    "# COLO\t4\t5\t6\t7\n",
    "# NEW\t8\t9\t10\t11\n",
    "\n",
    "#rename可以从手动复制data frame并为其分配索引和列属性解放，\n",
    "#如果想修改原有数据集，rename传入inplace = True：\n",
    "data.rename(index = {'OHIO': 'INDIANA'}, inplace = True)\n",
    "data\n",
    "# \tone\ttwo\tthree\tfour\n",
    "# INDIANA\t0\t1\t2\t3\n",
    "# COLO\t4\t5\t6\t7\n",
    "# NEW\t8\t9\t10\t11"
   ]
  },
  {
   "cell_type": "markdown",
   "id": "c8c55112",
   "metadata": {},
   "source": [
    "## 7.2.5 离散化和分箱 Discretization and Binning"
   ]
  },
  {
   "cell_type": "code",
   "execution_count": 138,
   "id": "651db194",
   "metadata": {},
   "outputs": [
    {
     "data": {
      "text/plain": [
       "[(18, 25], (18, 25], (18, 25], (25, 35], (18, 25], ..., (25, 35], (60, 100], (35, 60], (35, 60], (25, 35]]\n",
       "Length: 12\n",
       "Categories (4, interval[int64, right]): [(18, 25] < (25, 35] < (35, 60] < (60, 100]]"
      ]
     },
     "execution_count": 138,
     "metadata": {},
     "output_type": "execute_result"
    }
   ],
   "source": [
    "#连续值经常需要离散化，或者分离成箱子进行分析。\n",
    "#假设有某项研究中一组人群的数据，想将他们进行分组，放入离散的年龄框中\n",
    "\n",
    "ages = [20, 22, 25, 27, 21, 23, 37, 31, 61, 45, 41, 32]\n",
    "\n",
    "#将年龄分为若干个组，可以使用pands.cut：\n",
    "bins = [18, 25, 35, 60, 100]\n",
    "cats = pd.cut(ages, bins)\n",
    "cats\n",
    "# [(18, 25], (18, 25], (18, 25], (25, 35], (18, 25], ..., (25, 35], (60, 100], (35, 60], (35, 60], (25, 35]]\n",
    "# Length: 12\n",
    "# Categories (4, interval[int64, right]): [(18, 25] < (25, 35] < (35, 60] < (60, 100]]"
   ]
  },
  {
   "cell_type": "code",
   "execution_count": null,
   "id": "19ee4e8f",
   "metadata": {},
   "outputs": [],
   "source": [
    "#pandas返回的对象是一个特殊的categorical对象，看到的输出描述了由padas.cut计算出的箱，可以将它当做一个表示箱名的字符串数组。\n",
    "#它在内部包含一个categories数组，指定了不同的类别名称以及codes属性中的ages数据标签：\n",
    "#cats.codes：这行代码访问Categorical对象的codes属性，返回每个个体所属年龄段的编码。\n",
    "#编码是根据年龄段的顺序来分配的，从0开始递增，表示该年龄隶属的不同的年龄段。\n",
    "cats.codes\n",
    "# array([0, 0, 0, 1, 0, 0, 2, 1, 3, 2, 2, 1], dtype=int8)\n",
    "cats.categories\n",
    "# IntervalIndex([(18, 25], (25, 35], (35, 60], (60, 100]], dtype='interval[int64, right]')\n",
    "\n",
    "#pd.value_counts(cats)：对pandas.cut的结果中的箱数量的计数。\n",
    "pd.value_counts(cats)\n",
    "# (18, 25]     5\n",
    "# (25, 35]     3\n",
    "# (35, 60]     3\n",
    "# (60, 100]    1\n",
    "# dtype: int64"
   ]
  },
  {
   "cell_type": "code",
   "execution_count": 141,
   "id": "6f9393a5",
   "metadata": {},
   "outputs": [
    {
     "data": {
      "text/plain": [
       "[(18, 26], (18, 26], (18, 26], (26, 36], (18, 26], ..., (26, 36], (36, 61], (36, 61], (36, 61], (26, 36]]\n",
       "Length: 12\n",
       "Categories (4, interval[int64, right]): [(18, 26] < (26, 36] < (36, 61] < (61, 100]]"
      ]
     },
     "execution_count": 141,
     "metadata": {},
     "output_type": "execute_result"
    }
   ],
   "source": [
    "#right = False or True：()[]与数学符号一致，可以通过传递来改变哪一边是封闭的：\n",
    "\n",
    "pd.cut(ages, [18, 26, 36, 61, 100], right = False)\n",
    "# [[18, 26), [18, 26), [18, 26), [26, 36), [18, 26), ..., [26, 36), [61, 100), [36, 61), [36, 61), [26, 36)]\n",
    "# Length: 12\n",
    "# Categories (4, interval[int64, left]): [[18, 26) < [26, 36) < [36, 61) < [61, 100)]\n",
    "pd.cut(ages, [18, 26, 36, 61, 100], right = True)\n",
    "# [(18, 26], (18, 26], (18, 26], (26, 36], (18, 26], ..., (26, 36], (36, 61], (36, 61], (36, 61], (26, 36]]\n",
    "# Length: 12\n",
    "# Categories (4, interval[int64, right]): [(18, 26] < (26, 36] < (36, 61] < (61, 100]]"
   ]
  },
  {
   "cell_type": "code",
   "execution_count": 144,
   "id": "dadb2b94",
   "metadata": {},
   "outputs": [
    {
     "data": {
      "text/plain": [
       "['Youth', 'Youth', 'Youth', 'YoungAdult', 'Youth', ..., 'YoungAdult', 'Senior', 'MiddleAged', 'MiddleAged', 'YoungAdult']\n",
       "Length: 12\n",
       "Categories (4, object): ['Youth' < 'YoungAdult' < 'MiddleAged' < 'Senior']"
      ]
     },
     "execution_count": 144,
     "metadata": {},
     "output_type": "execute_result"
    }
   ],
   "source": [
    "#pd.cut(ages, bins, labels = group_names)：也可以通过向labels传递一个列表或数组来传入自定义的箱名：\n",
    "group_names = ['Youth', 'YoungAdult', 'MiddleAged', 'Senior']\n",
    "pd.cut(ages, bins, labels = group_names)\n",
    "# ['Youth', 'Youth', 'Youth', 'YoungAdult', 'Youth', ..., 'YoungAdult', 'Senior', 'MiddleAged', 'MiddleAged', 'YoungAdult']\n",
    "# Length: 12\n",
    "# Categories (4, object): ['Youth' < 'YoungAdult' < 'MiddleAged' < 'Senior']"
   ]
  },
  {
   "cell_type": "code",
   "execution_count": 152,
   "id": "8ecd7cbf",
   "metadata": {},
   "outputs": [
    {
     "name": "stderr",
     "output_type": "stream",
     "text": [
      "C:\\Users\\miran\\AppData\\Local\\Temp\\ipykernel_72532\\1053101203.py:3: FutureWarning: The pandas.np module is deprecated and will be removed from pandas in a future version. Import numpy directly instead.\n",
      "  data = pd.np.random.rand(20)\n"
     ]
    },
    {
     "data": {
      "text/plain": [
       "(-3.312, -0.629]     250\n",
       "(-0.629, -0.0232]    250\n",
       "(-0.0232, 0.619]     250\n",
       "(0.619, 3.536]       250\n",
       "dtype: int64"
      ]
     },
     "execution_count": 152,
     "metadata": {},
     "output_type": "execute_result"
    }
   ],
   "source": [
    "#如果传给cut整数个的箱，来代替显示的箱边，pandas将根据数据中的最小值和最大值，计算出等长的箱。\n",
    "#考虑一些均匀分布的数据被切成4份的情况：\n",
    "data = pd.np.random.rand(20)\n",
    "pd.cut(data, 4, precision = 2)      #precision = 2选项将十进制精度限制在两位。\n",
    "# [(0.26, 0.45], (0.26, 0.45], (0.63, 0.81], (0.63, 0.81], (0.63, 0.81], ..., (0.26, 0.45], (0.26, 0.45], (0.08, 0.26], (0.26, 0.45], (0.63, 0.81]]\n",
    "# Length: 20\n",
    "# Categories (4, interval[float64, right]): [(0.08, 0.26] < (0.26, 0.45] < (0.45, 0.63] < (0.63, 0.81]]\n",
    "\n",
    "#qcut是一个与分箱密切相关的函数，给予样本分位数进行分箱。取决于数据的分布，使用cut通常不会使每个箱具有相同数据量的数据点。\n",
    "#由于qcut使用样本的分位数，可以通过qcut获得等长的箱：\n",
    "data = np.random.randn(1000)        #正态分布\n",
    "cats = pd.qcut(data, 4)             #切成4份\n",
    "cats\n",
    "# [(-3.2359999999999998, -0.749], (-0.103, 0.668], (-0.749, -0.103], (-0.103, 0.668], (-0.103, 0.668], ..., (-0.103, 0.668], (-0.749, -0.103], (0.668, 2.652], (-0.103, 0.668], (0.668, 2.652]]\n",
    "# Length: 1000\n",
    "# Categories (4, interval[float64, right]): [(-3.2359999999999998, -0.749] < (-0.749, -0.103] < (-0.103, 0.668] < (0.668, 2.652]]\n",
    "\n",
    "pd.value_counts(cats)\n",
    "# (-3.395, -0.758]     250\n",
    "# (-0.758, -0.0739]    250\n",
    "# (-0.0739, 0.635]     250\n",
    "# (0.635, 3.465]       250\n",
    "# dtype: int64"
   ]
  },
  {
   "cell_type": "code",
   "execution_count": 154,
   "id": "efd45881",
   "metadata": {},
   "outputs": [
    {
     "data": {
      "text/plain": [
       "[(-1.244, -0.0232], (-0.0232, 1.311], (-1.244, -0.0232], (-1.244, -0.0232], (-3.312, -1.244], ..., (-0.0232, 1.311], (-1.244, -0.0232], (1.311, 3.536], (-1.244, -0.0232], (-0.0232, 1.311]]\n",
       "Length: 1000\n",
       "Categories (4, interval[float64, right]): [(-3.312, -1.244] < (-1.244, -0.0232] < (-0.0232, 1.311] < (1.311, 3.536]]"
      ]
     },
     "execution_count": 154,
     "metadata": {},
     "output_type": "execute_result"
    }
   ],
   "source": [
    "#与cut类似，可以传入自定义的分位数（0和1之间的数据，包括边）：\n",
    "pd.qcut(data, [0, 0.1, 0.5, 0.9, 1.])\n",
    "# [(-1.244, -0.0232], (-0.0232, 1.311], (-1.244, -0.0232], (-1.244, -0.0232], (-3.312, -1.244], ..., (-0.0232, 1.311], (-1.244, -0.0232], (1.311, 3.536], (-1.244, -0.0232], (-0.0232, 1.311]]\n",
    "# Length: 1000\n",
    "# Categories (4, interval[float64, right]): [(-3.312, -1.244] < (-1.244, -0.0232] < (-0.0232, 1.311] < (1.311, 3.536]]"
   ]
  },
  {
   "cell_type": "markdown",
   "id": "093dc99d",
   "metadata": {},
   "source": [
    "## 7.2.6 检测和过滤异常值  Detecting and Filtering Outliers"
   ]
  },
  {
   "cell_type": "code",
   "execution_count": 174,
   "id": "599af584",
   "metadata": {},
   "outputs": [
    {
     "name": "stderr",
     "output_type": "stream",
     "text": [
      "C:\\Users\\miran\\AppData\\Local\\Temp\\ipykernel_72532\\404559273.py:31: FutureWarning: In a future version of pandas all arguments of DataFrame.any and Series.any will be keyword-only.\n",
      "  data[(np.abs(data) > 3).any(1)]\n"
     ]
    },
    {
     "data": {
      "text/html": [
       "<div>\n",
       "<style scoped>\n",
       "    .dataframe tbody tr th:only-of-type {\n",
       "        vertical-align: middle;\n",
       "    }\n",
       "\n",
       "    .dataframe tbody tr th {\n",
       "        vertical-align: top;\n",
       "    }\n",
       "\n",
       "    .dataframe thead th {\n",
       "        text-align: right;\n",
       "    }\n",
       "</style>\n",
       "<table border=\"1\" class=\"dataframe\">\n",
       "  <thead>\n",
       "    <tr style=\"text-align: right;\">\n",
       "      <th></th>\n",
       "      <th>0</th>\n",
       "      <th>1</th>\n",
       "      <th>2</th>\n",
       "      <th>3</th>\n",
       "    </tr>\n",
       "  </thead>\n",
       "  <tbody>\n",
       "    <tr>\n",
       "      <th>0</th>\n",
       "      <td>-1.0</td>\n",
       "      <td>-1.0</td>\n",
       "      <td>-1.0</td>\n",
       "      <td>-1.0</td>\n",
       "    </tr>\n",
       "    <tr>\n",
       "      <th>1</th>\n",
       "      <td>-1.0</td>\n",
       "      <td>-1.0</td>\n",
       "      <td>1.0</td>\n",
       "      <td>1.0</td>\n",
       "    </tr>\n",
       "    <tr>\n",
       "      <th>2</th>\n",
       "      <td>-1.0</td>\n",
       "      <td>1.0</td>\n",
       "      <td>1.0</td>\n",
       "      <td>1.0</td>\n",
       "    </tr>\n",
       "    <tr>\n",
       "      <th>3</th>\n",
       "      <td>1.0</td>\n",
       "      <td>1.0</td>\n",
       "      <td>1.0</td>\n",
       "      <td>1.0</td>\n",
       "    </tr>\n",
       "    <tr>\n",
       "      <th>4</th>\n",
       "      <td>-1.0</td>\n",
       "      <td>1.0</td>\n",
       "      <td>-1.0</td>\n",
       "      <td>1.0</td>\n",
       "    </tr>\n",
       "  </tbody>\n",
       "</table>\n",
       "</div>"
      ],
      "text/plain": [
       "     0    1    2    3\n",
       "0 -1.0 -1.0 -1.0 -1.0\n",
       "1 -1.0 -1.0  1.0  1.0\n",
       "2 -1.0  1.0  1.0  1.0\n",
       "3  1.0  1.0  1.0  1.0\n",
       "4 -1.0  1.0 -1.0  1.0"
      ]
     },
     "execution_count": 174,
     "metadata": {},
     "output_type": "execute_result"
    }
   ],
   "source": [
    "#过滤或转换异常值，是应用数组操作的事情。考虑一个具有正态分布数据的data frame:\n",
    "\n",
    "data = pd.DataFrame(np.random.randn(1000,4))\n",
    "data.describe\n",
    "# <bound method NDFrame.describe of             0         1         2         3\n",
    "# 0    1.142038 -0.574816  3.063350 -1.059836\n",
    "# 1   -0.619458  0.067483  0.428145  0.162779\n",
    "# 2   -0.530945  1.175043  0.436316  0.087275\n",
    "# 3   -0.566760  0.458664 -1.694724 -1.877735\n",
    "# 4   -0.398853  0.088756 -0.527560 -1.042355\n",
    "# ..        ...       ...       ...       ...\n",
    "# 995  0.950834  1.608913 -0.994935 -0.232550\n",
    "# 996 -0.702129 -0.378089  1.062553 -1.119628\n",
    "# 997 -0.087475 -1.014514 -1.785102 -0.618286\n",
    "# 998  0.767778  1.262318 -1.531322  0.024828\n",
    "# 999  0.385158  1.557846  0.036737  0.732690\n",
    "\n",
    "# [1000 rows x 4 columns]>\n",
    "\n",
    "\n",
    "#假设想找一列中，绝对值大于3的值：\n",
    "col = data[2]                                      #它提取了DataFrame中的第二列\n",
    "col[np.abs(col) > 3]                               #找到第二列中 值>3\n",
    "\n",
    "# 410   -3.146837\n",
    "# 730   -3.240782\n",
    "# 821    3.383893\n",
    "# Name: 2, dtype: float64\n",
    "\n",
    "#选出所有值大于3或小于3的行，可以对布尔值data frame使用any方法：\n",
    "data[(np.abs(data) > 3).any(1)]\n",
    "# 0\t1\t2\t3\n",
    "# 9\t-3.071123\t-0.163088\t0.099980\t-0.197243\n",
    "# 149\t0.685931\t3.260466\t0.602843\t1.058663\n",
    "# 289\t0.378955\t-0.221422\t3.091872\t-0.356299\n",
    "# 306\t3.031398\t-0.662224\t0.451169\t1.851046\n",
    "# 496\t-3.343232\t1.775168\t1.242600\t-0.395018\n",
    "# 537\t-0.006856\t1.272517\t3.231086\t-1.544452\n",
    "# 564\t-0.831633\t0.556131\t3.245053\t0.249727\n",
    "# 591\t-0.066392\t-0.186191\t3.247500\t-0.469210\n",
    "# 611\t1.668031\t0.585434\t1.174437\t-3.090351\n",
    "# 664\t-0.760357\t0.371869\t0.634024\t3.456374\n",
    "# 703\t-0.629071\t-1.126303\t-0.247052\t-3.633301\n",
    "# 898\t1.193264\t-3.205424\t0.638124\t-0.406197\n",
    "# 905\t0.662059\t3.777832\t-0.033470\t-0.509475\n",
    "# 969\t-0.400612\t0.488288\t-3.004723\t-0.940533\n",
    "\n",
    "#找到绝对值>3的数所在的行：限制了-3到3之间的数值\n",
    "data[np.abs(data) > 3] = np.sign(data) * 3\n",
    "data.describe()\n",
    "# 0\t1\t2\t3\n",
    "# count\t1000.000000\t1000.000000\t1000.000000\t1000.000000\n",
    "# mean\t-0.001102\t-0.041514\t0.006544\t-0.020336\n",
    "# std\t0.970248\t1.023402\t0.993441\t0.997568\n",
    "# min\t-3.000000\t-3.000000\t-2.970516\t-2.909003\n",
    "# 25%\t-0.689065\t-0.713156\t-0.670724\t-0.695272\n",
    "# 50%\t-0.040071\t-0.048061\t0.020232\t-0.004706\n",
    "# 75%\t0.651710\t0.621874\t0.689062\t0.644225\n",
    "# max\t3.000000\t3.000000\t3.000000\t3.000000\n",
    "\n",
    "#np.sign(data)根据数据中的值的正负，分别生成1和-1的数值：\n",
    "np.sign(data).head()\n",
    "# 0\t1\t2\t3\n",
    "# 0\t-1.0\t-1.0\t-1.0\t-1.0\n",
    "# 1\t-1.0\t-1.0\t1.0\t1.0\n",
    "# 2\t-1.0\t1.0\t1.0\t1.0\n",
    "# 3\t1.0\t1.0\t1.0\t1.0\n",
    "# 4\t-1.0\t1.0\t-1.0\t1.0"
   ]
  },
  {
   "cell_type": "markdown",
   "id": "be462f99",
   "metadata": {},
   "source": [
    "## 7.2.7 置换和随机抽样 Permutation and Random Sampling"
   ]
  },
  {
   "cell_type": "code",
   "execution_count": 202,
   "id": "9ace6986",
   "metadata": {},
   "outputs": [
    {
     "data": {
      "text/plain": [
       "array([4, 0, 1, 2, 3])"
      ]
     },
     "execution_count": 202,
     "metadata": {},
     "output_type": "execute_result"
    }
   ],
   "source": [
    "#使用numpy.random.permutation对data frame的series或行进行置换。\n",
    "#在调用permutation时，根据想要的轴长度产生新顺序的整数数组：\n",
    "\n",
    "df = pd.DataFrame(np.arange(5 * 4).reshape((5,4)))\n",
    "sampler = np.random.permutation(5)\n",
    "sampler\n",
    "#array([3, 4, 2, 1, 0])"
   ]
  },
  {
   "cell_type": "code",
   "execution_count": 236,
   "id": "566f2514",
   "metadata": {},
   "outputs": [
    {
     "data": {
      "text/html": [
       "<div>\n",
       "<style scoped>\n",
       "    .dataframe tbody tr th:only-of-type {\n",
       "        vertical-align: middle;\n",
       "    }\n",
       "\n",
       "    .dataframe tbody tr th {\n",
       "        vertical-align: top;\n",
       "    }\n",
       "\n",
       "    .dataframe thead th {\n",
       "        text-align: right;\n",
       "    }\n",
       "</style>\n",
       "<table border=\"1\" class=\"dataframe\">\n",
       "  <thead>\n",
       "    <tr style=\"text-align: right;\">\n",
       "      <th></th>\n",
       "      <th>0</th>\n",
       "      <th>1</th>\n",
       "      <th>2</th>\n",
       "      <th>3</th>\n",
       "    </tr>\n",
       "  </thead>\n",
       "  <tbody>\n",
       "    <tr>\n",
       "      <th>4</th>\n",
       "      <td>16</td>\n",
       "      <td>17</td>\n",
       "      <td>18</td>\n",
       "      <td>19</td>\n",
       "    </tr>\n",
       "    <tr>\n",
       "      <th>0</th>\n",
       "      <td>0</td>\n",
       "      <td>1</td>\n",
       "      <td>2</td>\n",
       "      <td>3</td>\n",
       "    </tr>\n",
       "    <tr>\n",
       "      <th>1</th>\n",
       "      <td>4</td>\n",
       "      <td>5</td>\n",
       "      <td>6</td>\n",
       "      <td>7</td>\n",
       "    </tr>\n",
       "    <tr>\n",
       "      <th>2</th>\n",
       "      <td>8</td>\n",
       "      <td>9</td>\n",
       "      <td>10</td>\n",
       "      <td>11</td>\n",
       "    </tr>\n",
       "    <tr>\n",
       "      <th>3</th>\n",
       "      <td>12</td>\n",
       "      <td>13</td>\n",
       "      <td>14</td>\n",
       "      <td>15</td>\n",
       "    </tr>\n",
       "  </tbody>\n",
       "</table>\n",
       "</div>"
      ],
      "text/plain": [
       "    0   1   2   3\n",
       "4  16  17  18  19\n",
       "0   0   1   2   3\n",
       "1   4   5   6   7\n",
       "2   8   9  10  11\n",
       "3  12  13  14  15"
      ]
     },
     "execution_count": 236,
     "metadata": {},
     "output_type": "execute_result"
    }
   ],
   "source": [
    "#整数数组可以用在基于iloc索引或等价的take函数中：\n",
    "df = pd.DataFrame(np.arange(5 * 4).reshape((5,4)))\n",
    "df\n",
    "# \t0\t1\t2\t3\n",
    "# 0\t0\t1\t2\t3\n",
    "# 1\t4\t5\t6\t7\n",
    "# 2\t8\t9\t10\t11\n",
    "# 3\t12\t13\t14\t15\n",
    "# 4\t16\t17\t18\t19\n",
    "\n",
    "df.take(sampler)                                              #它根据随机排列的sampler数组重新排列了df中的行\n",
    "# 0\t1\t2\t3\n",
    "# 4\t16\t17\t18\t19\n",
    "# 0\t0\t1\t2\t3\n",
    "# 1\t4\t5\t6\t7\n",
    "# 2\t8\t9\t10\t11\n",
    "# 3\t12\t13\t14\t15"
   ]
  },
  {
   "cell_type": "code",
   "execution_count": 256,
   "id": "7402d799",
   "metadata": {},
   "outputs": [
    {
     "data": {
      "text/plain": [
       "2   -1\n",
       "1    7\n",
       "0    5\n",
       "0    5\n",
       "0    5\n",
       "2   -1\n",
       "3    6\n",
       "1    7\n",
       "0    5\n",
       "2   -1\n",
       "dtype: int64"
      ]
     },
     "execution_count": 256,
     "metadata": {},
     "output_type": "execute_result"
    }
   ],
   "source": [
    "#要选出一个不含有替代值的随机子集，可以使用series和data frame的sample方法：\n",
    "#具体而言，sample方法通过n参数指定要抽取的行数。在这个例子中，n=3表示从df中随机抽取3行数据。每次运行代码时，随机抽取的行都可能不同。\n",
    "\n",
    "df.sample(n = 3)\n",
    "# 0\t1\t2\t3\n",
    "# 1\t4\t5\t6\t7\n",
    "# 0\t0\t1\t2\t3\n",
    "# 4\t16\t17\t18\t19\n",
    "\n",
    "#有5个数，有放回随机拿10次：\n",
    "#要生成一个带有替代值的样本（允许有重复选择），将replace = True传入sample方法：\n",
    "choices = pd.Series([5, 7, -1, 6, 4])\n",
    "draws = choices.sample(n = 10, replace = True)\n",
    "draws\n",
    "# 2   -1\n",
    "# 1    7\n",
    "# 0    5\n",
    "# 0    5\n",
    "# 0    5\n",
    "# 2   -1\n",
    "# 3    6\n",
    "# 1    7\n",
    "# 0    5\n",
    "# 2   -1"
   ]
  },
  {
   "cell_type": "markdown",
   "id": "abd40ae6",
   "metadata": {},
   "source": [
    "## 7.2.8 计算指标/ 虚拟变量 Computing Indicator/Dummy Variables"
   ]
  },
  {
   "cell_type": "code",
   "execution_count": 272,
   "id": "575c19cf",
   "metadata": {},
   "outputs": [
    {
     "data": {
      "text/html": [
       "<div>\n",
       "<style scoped>\n",
       "    .dataframe tbody tr th:only-of-type {\n",
       "        vertical-align: middle;\n",
       "    }\n",
       "\n",
       "    .dataframe tbody tr th {\n",
       "        vertical-align: top;\n",
       "    }\n",
       "\n",
       "    .dataframe thead th {\n",
       "        text-align: right;\n",
       "    }\n",
       "</style>\n",
       "<table border=\"1\" class=\"dataframe\">\n",
       "  <thead>\n",
       "    <tr style=\"text-align: right;\">\n",
       "      <th></th>\n",
       "      <th>data1</th>\n",
       "      <th>key_a</th>\n",
       "      <th>key_b</th>\n",
       "      <th>key_c</th>\n",
       "    </tr>\n",
       "  </thead>\n",
       "  <tbody>\n",
       "    <tr>\n",
       "      <th>0</th>\n",
       "      <td>0</td>\n",
       "      <td>0</td>\n",
       "      <td>1</td>\n",
       "      <td>0</td>\n",
       "    </tr>\n",
       "    <tr>\n",
       "      <th>1</th>\n",
       "      <td>1</td>\n",
       "      <td>0</td>\n",
       "      <td>1</td>\n",
       "      <td>0</td>\n",
       "    </tr>\n",
       "    <tr>\n",
       "      <th>2</th>\n",
       "      <td>2</td>\n",
       "      <td>1</td>\n",
       "      <td>0</td>\n",
       "      <td>0</td>\n",
       "    </tr>\n",
       "    <tr>\n",
       "      <th>3</th>\n",
       "      <td>3</td>\n",
       "      <td>0</td>\n",
       "      <td>0</td>\n",
       "      <td>1</td>\n",
       "    </tr>\n",
       "    <tr>\n",
       "      <th>4</th>\n",
       "      <td>4</td>\n",
       "      <td>1</td>\n",
       "      <td>0</td>\n",
       "      <td>0</td>\n",
       "    </tr>\n",
       "    <tr>\n",
       "      <th>5</th>\n",
       "      <td>5</td>\n",
       "      <td>0</td>\n",
       "      <td>1</td>\n",
       "      <td>0</td>\n",
       "    </tr>\n",
       "  </tbody>\n",
       "</table>\n",
       "</div>"
      ],
      "text/plain": [
       "   data1  key_a  key_b  key_c\n",
       "0      0      0      1      0\n",
       "1      1      0      1      0\n",
       "2      2      1      0      0\n",
       "3      3      0      0      1\n",
       "4      4      1      0      0\n",
       "5      5      0      1      0"
      ]
     },
     "execution_count": 272,
     "metadata": {},
     "output_type": "execute_result"
    }
   ],
   "source": [
    "#将分类变量转换为虚拟或指标矩阵，是一种用于建模ml的转换操作。\n",
    "#如果data frame中 一列有k个不同的值，可以衍生出一个k列值为1和0的矩阵或data frame.\n",
    "#pandas有一个get_dummies函数用于实现该功能。\n",
    "\n",
    "df = pd.DataFrame({'key': ['b', 'b', 'a', 'c', 'a', 'b'],\n",
    "                   'data1': range(6)})\n",
    "\n",
    "pd.get_dummies(df['key'])\n",
    "# a\tb\tc\n",
    "# 0\t0\t1\t0\n",
    "# 1\t0\t1\t0\n",
    "# 2\t1\t0\t0\n",
    "# 3\t0\t0\t1\n",
    "# 4\t1\t0\t0\n",
    "# 5\t0\t1\t0\n",
    "\n",
    "#如果想在指标data frame的列上，加入前缀，然后与其他数据合并。\n",
    "#在data1前，加一列key. \n",
    "#在get_dummies有一个前缀参数用于实现该功能：\n",
    "dummies = pd.get_dummies(df['key'], prefix = 'key')  #根据DataFrame对象df中的key列创建虚拟变量，并将虚拟变量与data1列合并成一个新的DataFrame对象df_with_dummy。\n",
    "                                                     #prefix='key'参数指定了虚拟变量的前缀为'key'。\n",
    "df_with_dummy = df[['data1']].join(dummies)          #通过df[['data1']]选择df中的data1列，生成一个新的DataFrame对象。\n",
    "df_with_dummy\n",
    "# data1\tkey_a\tkey_b\tkey_c\n",
    "# 0\t0\t0\t1\t0\n",
    "# 1\t1\t0\t1\t0\n",
    "# 2\t2\t1\t0\t0\n",
    "# 3\t3\t0\t0\t1\n",
    "# 4\t4\t1\t0\t0\n",
    "# 5\t5\t0\t1\t0"
   ]
  },
  {
   "cell_type": "code",
   "execution_count": 284,
   "id": "def51048",
   "metadata": {},
   "outputs": [
    {
     "name": "stderr",
     "output_type": "stream",
     "text": [
      "C:\\Users\\miran\\AppData\\Local\\Temp\\ipykernel_72532\\1532099098.py:3: ParserWarning: Falling back to the 'python' engine because the 'c' engine does not support regex separators (separators > 1 char and different from '\\s+' are interpreted as regex); you can avoid this warning by specifying engine='python'.\n",
      "  movies = pd.read_table('C:/Users/miran/lpthw/movies.dat', sep = '::',\n"
     ]
    },
    {
     "data": {
      "text/html": [
       "<div>\n",
       "<style scoped>\n",
       "    .dataframe tbody tr th:only-of-type {\n",
       "        vertical-align: middle;\n",
       "    }\n",
       "\n",
       "    .dataframe tbody tr th {\n",
       "        vertical-align: top;\n",
       "    }\n",
       "\n",
       "    .dataframe thead th {\n",
       "        text-align: right;\n",
       "    }\n",
       "</style>\n",
       "<table border=\"1\" class=\"dataframe\">\n",
       "  <thead>\n",
       "    <tr style=\"text-align: right;\">\n",
       "      <th></th>\n",
       "      <th>movie_id</th>\n",
       "      <th>title</th>\n",
       "      <th>genres</th>\n",
       "    </tr>\n",
       "  </thead>\n",
       "  <tbody>\n",
       "    <tr>\n",
       "      <th>0</th>\n",
       "      <td>1</td>\n",
       "      <td>Toy Story (1995)</td>\n",
       "      <td>Animation|Children's|Comedy</td>\n",
       "    </tr>\n",
       "    <tr>\n",
       "      <th>1</th>\n",
       "      <td>2</td>\n",
       "      <td>Jumanji (1995)</td>\n",
       "      <td>Adventure|Children's|Fantasy</td>\n",
       "    </tr>\n",
       "    <tr>\n",
       "      <th>2</th>\n",
       "      <td>3</td>\n",
       "      <td>Grumpier Old Men (1995)</td>\n",
       "      <td>Comedy|Romance</td>\n",
       "    </tr>\n",
       "    <tr>\n",
       "      <th>3</th>\n",
       "      <td>4</td>\n",
       "      <td>Waiting to Exhale (1995)</td>\n",
       "      <td>Comedy|Drama</td>\n",
       "    </tr>\n",
       "    <tr>\n",
       "      <th>4</th>\n",
       "      <td>5</td>\n",
       "      <td>Father of the Bride Part II (1995)</td>\n",
       "      <td>Comedy</td>\n",
       "    </tr>\n",
       "    <tr>\n",
       "      <th>5</th>\n",
       "      <td>6</td>\n",
       "      <td>Heat (1995)</td>\n",
       "      <td>Action|Crime|Thriller</td>\n",
       "    </tr>\n",
       "    <tr>\n",
       "      <th>6</th>\n",
       "      <td>7</td>\n",
       "      <td>Sabrina (1995)</td>\n",
       "      <td>Comedy|Romance</td>\n",
       "    </tr>\n",
       "    <tr>\n",
       "      <th>7</th>\n",
       "      <td>8</td>\n",
       "      <td>Tom and Huck (1995)</td>\n",
       "      <td>Adventure|Children's</td>\n",
       "    </tr>\n",
       "    <tr>\n",
       "      <th>8</th>\n",
       "      <td>9</td>\n",
       "      <td>Sudden Death (1995)</td>\n",
       "      <td>Action</td>\n",
       "    </tr>\n",
       "    <tr>\n",
       "      <th>9</th>\n",
       "      <td>10</td>\n",
       "      <td>GoldenEye (1995)</td>\n",
       "      <td>Action|Adventure|Thriller</td>\n",
       "    </tr>\n",
       "  </tbody>\n",
       "</table>\n",
       "</div>"
      ],
      "text/plain": [
       "   movie_id                               title                        genres\n",
       "0         1                    Toy Story (1995)   Animation|Children's|Comedy\n",
       "1         2                      Jumanji (1995)  Adventure|Children's|Fantasy\n",
       "2         3             Grumpier Old Men (1995)                Comedy|Romance\n",
       "3         4            Waiting to Exhale (1995)                  Comedy|Drama\n",
       "4         5  Father of the Bride Part II (1995)                        Comedy\n",
       "5         6                         Heat (1995)         Action|Crime|Thriller\n",
       "6         7                      Sabrina (1995)                Comedy|Romance\n",
       "7         8                 Tom and Huck (1995)          Adventure|Children's\n",
       "8         9                 Sudden Death (1995)                        Action\n",
       "9        10                    GoldenEye (1995)     Action|Adventure|Thriller"
      ]
     },
     "execution_count": 284,
     "metadata": {},
     "output_type": "execute_result"
    }
   ],
   "source": [
    "#如果data frame中，一行属于多个类别，则情况略微复杂。\n",
    "mnames = ['movie_id', 'title', 'genres']\n",
    "movies = pd.read_table('C:/Users/miran/lpthw/movies.dat', sep = '::', \n",
    "                       header = None, names = mnames)\n",
    "movies[:10]\n",
    "# movie_id\ttitle\tgenres\n",
    "# 0\t1\tToy Story (1995)\tAnimation|Children's|Comedy\n",
    "# 1\t2\tJumanji (1995)\tAdventure|Children's|Fantasy\n",
    "# 2\t3\tGrumpier Old Men (1995)\tComedy|Romance\n",
    "# 3\t4\tWaiting to Exhale (1995)\tComedy|Drama\n",
    "# 4\t5\tFather of the Bride Part II (1995)\tComedy\n",
    "# 5\t6\tHeat (1995)\tAction|Crime|Thriller\n",
    "# 6\t7\tSabrina (1995)\tComedy|Romance\n",
    "# 7\t8\tTom and Huck (1995)\tAdventure|Children's\n",
    "# 8\t9\tSudden Death (1995)\tAction\n",
    "# 9\t10\tGoldenEye (1995)\tAction|Adventure|Thriller"
   ]
  },
  {
   "cell_type": "code",
   "execution_count": 285,
   "id": "5efbad94",
   "metadata": {},
   "outputs": [
    {
     "data": {
      "text/plain": [
       "array(['Animation', \"Children's\", 'Comedy', 'Adventure', 'Fantasy',\n",
       "       'Romance', 'Drama', 'Action', 'Crime', 'Thriller', 'Horror',\n",
       "       'Sci-Fi', 'Documentary', 'War', 'Musical', 'Mystery', 'Film-Noir',\n",
       "       'Western'], dtype=object)"
      ]
     },
     "execution_count": 285,
     "metadata": {},
     "output_type": "execute_result"
    }
   ],
   "source": [
    "#为每个电影流派添加指标变量，需要进行一些数据处理。首先提取所有不同的流派列表：\n",
    "all_generes = []\n",
    "for x in movies.genres:\n",
    "    all_generes.extend(x.split('|'))\n",
    "genres = pd.unique(all_generes)\n",
    "genres\n",
    "# array(['Animation', \"Children's\", 'Comedy', 'Adventure', 'Fantasy',\n",
    "#        'Romance', 'Drama', 'Action', 'Crime', 'Thriller', 'Horror',\n",
    "#        'Sci-Fi', 'Documentary', 'War', 'Musical', 'Mystery', 'Film-Noir',\n",
    "#        'Western'], dtype=object)"
   ]
  },
  {
   "cell_type": "code",
   "execution_count": 301,
   "id": "f2bd677c",
   "metadata": {},
   "outputs": [
    {
     "data": {
      "text/plain": [
       "array([0, 1, 2], dtype=int64)"
      ]
     },
     "execution_count": 301,
     "metadata": {},
     "output_type": "execute_result"
    }
   ],
   "source": [
    "#使用全0的data frame是构建data frame的一种方式：\n",
    "zero_matrix = np.zeros((len(movies), len(genres)))\n",
    "dummies = pd.DataFrame(zero_matrix, columns = genres)\n",
    "dummies\n",
    "# Animation\tChildren's\tComedy\tAdventure\tFantasy\tRomance\tDrama\tAction\tCrime\tThriller\tHorror\tSci-Fi\tDocumentary\tWar\tMusical\tMystery\tFilm-Noir\tWestern\n",
    "# 0\t0.0\t0.0\t0.0\t0.0\t0.0\t0.0\t0.0\t0.0\t0.0\t0.0\t0.0\t0.0\t0.0\t0.0\t0.0\t0.0\t0.0\t0.0\n",
    "# 1\t0.0\t0.0\t0.0\t0.0\t0.0\t0.0\t0.0\t0.0\t0.0\t0.0\t0.0\t0.0\t0.0\t0.0\t0.0\t0.0\t0.0\t0.0\n",
    "# 3882\t0.0\t0.0\t0.0\t0.0\t0.0\t0.0\t0.0\t0.0\t0.0\t0.0\t0.0\t0.0\t0.0\t0.0\t0.0\t0.0\t0.0\t0.0\n",
    "# 3883 rows × 18 columns\n",
    "\n",
    "movies.genres\n",
    "# 0        Animation|Children's|Comedy\n",
    "# 1       Adventure|Children's|Fantasy\n",
    "# 2                     Comedy|Romance\n",
    "# 3                       Comedy|Drama\n",
    "# 4                             Comedy\n",
    "#                     ...             \n",
    "# 3878                          Comedy\n",
    "# 3879                           Drama\n",
    "# 3880                           Drama\n",
    "# 3881                           Drama\n",
    "# 3882                  Drama|Thriller\n",
    "# Name: genres, Length: 3883, dtype: object\n",
    "\n",
    "gen = movies.genres[0]                                   #选择该列的第一个元素\n",
    "gen.split('|')\n",
    "# #['Animation', \"Children's\", 'Comedy']\n",
    "\n",
    "dummies.columns.get_indexer(gen.split('|'))\n",
    "# # #array([0, 1, 2], dtype=int64)"
   ]
  },
  {
   "cell_type": "code",
   "execution_count": 309,
   "id": "75c04a0e",
   "metadata": {},
   "outputs": [
    {
     "data": {
      "text/html": [
       "<div>\n",
       "<style scoped>\n",
       "    .dataframe tbody tr th:only-of-type {\n",
       "        vertical-align: middle;\n",
       "    }\n",
       "\n",
       "    .dataframe tbody tr th {\n",
       "        vertical-align: top;\n",
       "    }\n",
       "\n",
       "    .dataframe thead th {\n",
       "        text-align: right;\n",
       "    }\n",
       "</style>\n",
       "<table border=\"1\" class=\"dataframe\">\n",
       "  <thead>\n",
       "    <tr style=\"text-align: right;\">\n",
       "      <th></th>\n",
       "      <th>(0.0, 0.2]</th>\n",
       "      <th>(0.2, 0.4]</th>\n",
       "      <th>(0.4, 0.6]</th>\n",
       "      <th>(0.6, 0.8]</th>\n",
       "      <th>(0.8, 1.0]</th>\n",
       "    </tr>\n",
       "  </thead>\n",
       "  <tbody>\n",
       "    <tr>\n",
       "      <th>0</th>\n",
       "      <td>0</td>\n",
       "      <td>0</td>\n",
       "      <td>0</td>\n",
       "      <td>0</td>\n",
       "      <td>1</td>\n",
       "    </tr>\n",
       "    <tr>\n",
       "      <th>1</th>\n",
       "      <td>0</td>\n",
       "      <td>1</td>\n",
       "      <td>0</td>\n",
       "      <td>0</td>\n",
       "      <td>0</td>\n",
       "    </tr>\n",
       "    <tr>\n",
       "      <th>2</th>\n",
       "      <td>1</td>\n",
       "      <td>0</td>\n",
       "      <td>0</td>\n",
       "      <td>0</td>\n",
       "      <td>0</td>\n",
       "    </tr>\n",
       "    <tr>\n",
       "      <th>3</th>\n",
       "      <td>0</td>\n",
       "      <td>1</td>\n",
       "      <td>0</td>\n",
       "      <td>0</td>\n",
       "      <td>0</td>\n",
       "    </tr>\n",
       "    <tr>\n",
       "      <th>4</th>\n",
       "      <td>0</td>\n",
       "      <td>0</td>\n",
       "      <td>1</td>\n",
       "      <td>0</td>\n",
       "      <td>0</td>\n",
       "    </tr>\n",
       "    <tr>\n",
       "      <th>5</th>\n",
       "      <td>0</td>\n",
       "      <td>0</td>\n",
       "      <td>1</td>\n",
       "      <td>0</td>\n",
       "      <td>0</td>\n",
       "    </tr>\n",
       "    <tr>\n",
       "      <th>6</th>\n",
       "      <td>0</td>\n",
       "      <td>0</td>\n",
       "      <td>0</td>\n",
       "      <td>0</td>\n",
       "      <td>1</td>\n",
       "    </tr>\n",
       "    <tr>\n",
       "      <th>7</th>\n",
       "      <td>0</td>\n",
       "      <td>0</td>\n",
       "      <td>0</td>\n",
       "      <td>1</td>\n",
       "      <td>0</td>\n",
       "    </tr>\n",
       "    <tr>\n",
       "      <th>8</th>\n",
       "      <td>0</td>\n",
       "      <td>0</td>\n",
       "      <td>0</td>\n",
       "      <td>1</td>\n",
       "      <td>0</td>\n",
       "    </tr>\n",
       "    <tr>\n",
       "      <th>9</th>\n",
       "      <td>0</td>\n",
       "      <td>0</td>\n",
       "      <td>0</td>\n",
       "      <td>1</td>\n",
       "      <td>0</td>\n",
       "    </tr>\n",
       "  </tbody>\n",
       "</table>\n",
       "</div>"
      ],
      "text/plain": [
       "   (0.0, 0.2]  (0.2, 0.4]  (0.4, 0.6]  (0.6, 0.8]  (0.8, 1.0]\n",
       "0           0           0           0           0           1\n",
       "1           0           1           0           0           0\n",
       "2           1           0           0           0           0\n",
       "3           0           1           0           0           0\n",
       "4           0           0           1           0           0\n",
       "5           0           0           1           0           0\n",
       "6           0           0           0           0           1\n",
       "7           0           0           0           1           0\n",
       "8           0           0           0           1           0\n",
       "9           0           0           0           1           0"
      ]
     },
     "execution_count": 309,
     "metadata": {},
     "output_type": "execute_result"
    }
   ],
   "source": [
    "#使用.loc根据这些指标来设置值：\n",
    "for i, gen in enumerate(movies.genres):\n",
    "    indices = dummies.columns.get_indexer(gen.split('|'))\n",
    "    dummies.iloc[i, indices] = 1\n",
    "\n",
    "#可以将结果与movies进行联合：\n",
    "movies_windic = movies.join(dummies.add_prefix('Genre_'))\n",
    "movies_windic.iloc[0]\n",
    "# movie_id                                       1\n",
    "# title                           Toy Story (1995)\n",
    "# genres               Animation|Children's|Comedy\n",
    "# Genre_Animation                              1.0\n",
    "# Genre_Children's                             1.0\n",
    "# Genre_Comedy                                 1.0\n",
    "# Genre_Adventure                              0.0\n",
    "# Genre_Fantasy                                0.0\n",
    "# Genre_Romance                                0.0\n",
    "# Genre_Drama                                  0.0\n",
    "# Genre_Action                                 0.0\n",
    "# Genre_Crime                                  0.0\n",
    "# Genre_Thriller                               0.0\n",
    "# Genre_Horror                                 0.0\n",
    "# Genre_Sci-Fi                                 0.0\n",
    "# Genre_Documentary                            0.0\n",
    "# Genre_War                                    0.0\n",
    "# Genre_Musical                                0.0\n",
    "# Genre_Mystery                                0.0\n",
    "# Genre_Film-Noir                              0.0\n",
    "# Genre_Western                                0.0\n",
    "# Name: 0, dtype: object\n",
    "\n",
    "\n",
    "#将get_dummies与cut等离散化函数结合使用时统计应用的方法：\n",
    "np.random.seed(12345)        #将种子设置为固定的数值，比如12345，可以保证每次运行程序时生成的随机数序列是相同的。这在需要复现结果或进行可重复性实验时非常有用。\n",
    "values = np.random.rand(10)            #随机的10个数\n",
    "values\n",
    "# array([0.92961609, 0.31637555, 0.18391881, 0.20456028, 0.56772503,\n",
    "#        0.5955447 , 0.96451452, 0.6531771 , 0.74890664, 0.65356987])\n",
    "bins = [0, 0.2, 0.4, 0.6, 0.8, 1]      #设置5个bins\n",
    "pd.get_dummies(pd.cut(values, bins))   #把values归在每个bins\n",
    "# \t(0.0, 0.2]\t(0.2, 0.4]\t(0.4, 0.6]\t(0.6, 0.8]\t(0.8, 1.0]\n",
    "# 0\t0\t0\t0\t0\t1\n",
    "# 1\t0\t1\t0\t0\t0\n",
    "# 2\t1\t0\t0\t0\t0\n",
    "# 3\t0\t1\t0\t0\t0\n",
    "# 4\t0\t0\t1\t0\t0\n",
    "# 5\t0\t0\t1\t0\t0\n",
    "# 6\t0\t0\t0\t0\t1\n",
    "# 7\t0\t0\t0\t1\t0\n",
    "# 8\t0\t0\t0\t1\t0\n",
    "# 9\t0\t0\t0\t1\t0\n"
   ]
  },
  {
   "cell_type": "markdown",
   "id": "7b4dd3ce",
   "metadata": {},
   "source": [
    "# 7.3 字符串操作 String Manipulation"
   ]
  },
  {
   "cell_type": "markdown",
   "id": "ab1f1355",
   "metadata": {},
   "source": [
    "## 7.3.1 字符串对象方法 Python Built-In String Object Methods"
   ]
  },
  {
   "cell_type": "code",
   "execution_count": 338,
   "id": "41a40718",
   "metadata": {},
   "outputs": [
    {
     "data": {
      "text/plain": [
       "-1"
      ]
     },
     "execution_count": 338,
     "metadata": {},
     "output_type": "execute_result"
    }
   ],
   "source": [
    "#一个逗号分隔的字符串，可以使用split拆分\n",
    "val = 'a,b,  guido'\n",
    "val.split(',')\n",
    "#['a', 'b', '  guido']\n",
    "\n",
    "#split和strip一起使用，用于清除空格（包括换行）：\n",
    "pieces = [x.strip() for x in val.split(',')]\n",
    "pieces\n",
    "#['a', 'b', 'guido']\n",
    "\n",
    "#这些子字符串可以使用加法与两个冒号分隔符连接在一起：\n",
    "first, second, third = pieces\n",
    "first + '::' + second + '::' + third\n",
    "#'a::b::guido'\n",
    "\n",
    "#这并不是一个使用的通用方法，在字符串'::' 的join方法传入一个列表或元组更快：\n",
    "'::'.join(pieces)\n",
    "#'a::b::guido'\n",
    "\n",
    "#其他方法涉及子字符串定位。使用in最佳，index, find也可以实现同样功能。\n",
    "'guido' in val\n",
    "#True\n",
    "\n",
    "val.index(',')\n",
    "# 1\n",
    "\n",
    "val.find(':')\n",
    "#-1\n",
    "\n",
    "#注意find和index的区别，在于index在字符串没有找到时，会抛出一个异常\n",
    "#val.index(':')\n",
    "# ---------------------------------------------------------------------------\n",
    "# ValueError                                Traceback (most recent call last)\n",
    "# Cell In[322], line 2\n",
    "#       1 #注意find和index的区别，在于index在字符串没有找到时，会抛出一个异常\n",
    "# ----> 2 val.index(':')\n",
    "# ValueError: substring not found"
   ]
  },
  {
   "cell_type": "code",
   "execution_count": 339,
   "id": "fc65e4c0",
   "metadata": {},
   "outputs": [
    {
     "data": {
      "text/plain": [
       "'ab  guido'"
      ]
     },
     "execution_count": 339,
     "metadata": {},
     "output_type": "execute_result"
    }
   ],
   "source": [
    "#count返回的是某个特定的子字符串在字符串中出现的次数：\n",
    "val.count(',')\n",
    "#2\n",
    "\n",
    "#替换分隔符或改分隔符为空格\n",
    "# #replace将用一种模式替代另一种模式。也用于传入空字符串，来删除某个模式。\n",
    "val.replace(',','::')\n",
    "#'a::b::  guido'\n",
    "\n",
    "val.replace(',','')\n",
    "#'ab  guido'"
   ]
  },
  {
   "cell_type": "code",
   "execution_count": 340,
   "id": "420098db",
   "metadata": {},
   "outputs": [],
   "source": [
    "#python内建字符串方法：\n",
    "#count：返回字符串在字符串中的非重叠出现次数\n",
    "#endswith:如果字符串以后缀结尾则返回True\n",
    "#startswith：如果字符串以后缀开始则返回True\n",
    "#join：使用字符串作为间隔符，用于粘合其他字符串的序列\n",
    "#index：如果在字符串中找到，则返回子字符串中第一个字符的位置，如果找不到则引发value error\n",
    "#find：返回字符串中第一个出现子字符的第一个字符的位置，类似index, 如果没有找到，则返回-1\n",
    "#rfind：返回子字符串在字符串最后一次出现时，第一个字符的位置，如果没有找到，则返回-1\n",
    "#replace：使用一个字符串替代另一个字符串\n",
    "#strip, rstrip, lstrip：修建空白，包括换行符，相当于对每个元素进行x.strip()\n",
    "#split：使用分隔符将字符串拆分为子字符串的列表\n",
    "#lower：转换为全小写\n",
    "#upper：转换为全大写\n",
    "#casefold：转换为小写，并将任何特定于区域的变量字符组合转换为常见的可比较形式\n",
    "#ljust, rjust：左对齐或右对齐，用空格填充字符串的相反侧，以返回具有最小宽度的字符串"
   ]
  },
  {
   "cell_type": "markdown",
   "id": "36946f86",
   "metadata": {},
   "source": [
    "## 7.3.2 正则表达式 Regular Expressions"
   ]
  },
  {
   "cell_type": "code",
   "execution_count": 392,
   "id": "a8c4b644",
   "metadata": {},
   "outputs": [
    {
     "data": {
      "text/plain": [
       "['dave@google.com', 'steve@gmail.com', 'rob@gmail.com', 'ryan@yahoo.com']"
      ]
     },
     "execution_count": 392,
     "metadata": {},
     "output_type": "execute_result"
    }
   ],
   "source": [
    "#正则表达式提供了一种在文本中，灵活查找或匹配字符串模式的方法。\n",
    "#单个表达式通常被称为regex, 根据正则表达式语言形成的字符串。\n",
    "#python内建的re模块，适用于将正则表达式，应用到字符串上的库。\n",
    "\n",
    "#re模块有3个主题，模式匹配，替代，拆分。\n",
    "#eg. 将含有多种空白字符（制表符，空格，换行符）的字符串拆分开。\n",
    "#描述一个或多个空白字符的正则表达式是\\s+\n",
    "\n",
    "import re\n",
    "text = \"foo    bar\\t baz  \\tqux\"\n",
    "text\n",
    "#'foo    bar\\t baz  \\tqux'\n",
    "re.split('\\s+', text)\n",
    "#['foo', 'bar', 'baz', 'qux']\n",
    "\n",
    "#当调用re.split('\\s+', text)，正则表达式首先会被编译。然后正则表达式的split方法在传入文本上被调用。\n",
    "#可以使用re.complie自行编译，形成一个可复用的正则表达式对象：\n",
    "regex = re.compile('\\s+')\n",
    "regex.split(text)\n",
    "#['foo', 'bar', 'baz', 'qux']\n",
    "\n",
    "\n"
   ]
  },
  {
   "cell_type": "code",
   "execution_count": null,
   "id": "83b8bff6",
   "metadata": {},
   "outputs": [],
   "source": [
    "#如果想获得的是一个所有匹配正则表达式的模式的列表，可以使用findall方法：\n",
    "regex.findall(text)\n",
    "#['    ', '\\t ', '  \\t']\n",
    "\n",
    "#如果需要将相同的表达式应用到多个字符串上，推荐使用re.compile穿件一个正则表达式对象\n",
    "#match和search与findall相关性很大。\n",
    "#findall返回的是字符串中所有匹配项，而search返回的仅仅第一个匹配项。 \n",
    "#match更为严格，只在字符串的起始位置进行匹配。\n",
    "\n",
    "text = \"\"\"Dave dave@google.com\n",
    "Steve steve@gmail.com\n",
    "Rob rob@gmail.com\n",
    "Ryan ryan@yahoo.com\n",
    "\"\"\"\n",
    "pattern = r'[A-Z0-9.%+-]+@[A-Z0-9.-]+\\.[A-Z]{2,4}'\n",
    "#re.IGNORECASE使正则表达式不区分大小写\n",
    "regex = re.compile(pattern, flags = re.IGNORECASE)\n",
    "\n",
    "#使用findall会生成一个电子邮件地址的列表：\n",
    "regex.findall(text)\n",
    "#['dave@google.com', 'steve@gmail.com', 'rob@gmail.com', 'ryan@yahoo.com']"
   ]
  },
  {
   "cell_type": "code",
   "execution_count": 359,
   "id": "8c4bb354",
   "metadata": {},
   "outputs": [
    {
     "name": "stdout",
     "output_type": "stream",
     "text": [
      "None\n",
      "Dave REDACTED\n",
      "Steve REDACTED\n",
      "Rob REDACTED\n",
      "Ryan REDACTED\n",
      "\n"
     ]
    }
   ],
   "source": [
    "#search返回的是文本中第一个匹配到的电邮地址，对于正则表达式，匹配对象只告诉模式在字符串中其实和结束的位置\n",
    "m = regex.search(text)\n",
    "m\n",
    "#<re.Match object; span=(5, 20), match='dave@google.com'>\n",
    "text[m.start():m.end()]\n",
    "#'dave@google.com'\n",
    "\n",
    "#regex.match只在模式出现于字符串起始位置时，进行匹配，如果没有匹配到，返回None：\n",
    "print(regex.match(text))\n",
    "#None\n",
    "\n",
    "#sub会返回一个新的字符串，原字符串的模式会被一个新的字符串替代：\n",
    "print(regex.sub('REDACTED', text))\n",
    "# None\n",
    "# Dave REDACTED\n",
    "# Steve REDACTED\n",
    "# Rob REDACTED\n",
    "# Ryan REDACTED"
   ]
  },
  {
   "cell_type": "code",
   "execution_count": 364,
   "id": "c4c4010f",
   "metadata": {},
   "outputs": [
    {
     "name": "stdout",
     "output_type": "stream",
     "text": [
      "Dave Username: dave, Domain: google, Suffix: com\n",
      "Steve Username: steve, Domain: gmail, Suffix: com\n",
      "Rob Username: rob, Domain: gmail, Suffix: com\n",
      "Ryan Username: ryan, Domain: yahoo, Suffix: com\n",
      "\n"
     ]
    }
   ],
   "source": [
    "#假设项查找电邮地址，将每个地址氛围3个部分，用户名，域名，域名后缀。\n",
    "pattern = r'([A-Z0-9.%+-]+)@([A-Z0-9.-]+)\\.([A-Z]{2,4})'\n",
    "regex = re.compile(pattern, flags = re.IGNORECASE)\n",
    "#修改后的正则表达式产生的匹配对象的groups方法，返回的是模式组件的元组\n",
    "m = regex.match('wesm@bright.net')\n",
    "m.groups()\n",
    "#('wesm', 'bright', 'net')\n",
    "\n",
    "#当模式可以分组时，findall返回的是包含元组的列表：\n",
    "regex.findall(text)\n",
    "# [('dave', 'google', 'com'),\n",
    "#  ('steve', 'gmail', 'com'),\n",
    "#  ('rob', 'gmail', 'com'),\n",
    "#  ('ryan', 'yahoo', 'com')]\n",
    "\n",
    "#sub可以使用特殊符号：\\1代表第一个匹配分组，\\2代表第二个匹配分组\n",
    "print(regex.sub(r'Username: \\1, Domain: \\2, Suffix: \\3', text))\n",
    "# Dave Username: dave, Domain: google, Suffix: com\n",
    "# Steve Username: steve, Domain: gmail, Suffix: com\n",
    "# Rob Username: rob, Domain: gmail, Suffix: com\n",
    "# Ryan Username: ryan, Domain: yahoo, Suffix: com"
   ]
  },
  {
   "cell_type": "code",
   "execution_count": null,
   "id": "3bef37fc",
   "metadata": {},
   "outputs": [],
   "source": [
    "#正则表达式方法\n",
    "# findall：将字符串中所有非重叠匹配模式一列表形式返回\n",
    "# finditer：返回的是迭代器\n",
    "# match：字符串其实位置匹配，若匹配上，返回一个匹配对象，否则返回None\n",
    "# search：如扫描到了返回匹配对象，search方法匹配事字符串任意位置，不仅仅是字符串的起始位置\n",
    "# split：根据模式，将字符串拆分为多个部分\n",
    "# sub, subn：用替换表达式替换字符串所有的匹配或低n个出现匹配串"
   ]
  },
  {
   "cell_type": "markdown",
   "id": "41cd98e2",
   "metadata": {},
   "source": [
    "## 7.3.3 pandas中的向量化字符串函数 String Functions in pandas"
   ]
  },
  {
   "cell_type": "code",
   "execution_count": 394,
   "id": "f70c63a0",
   "metadata": {},
   "outputs": [
    {
     "data": {
      "text/plain": [
       "Dave     False\n",
       "Steve    False\n",
       "Rob      False\n",
       "Wes       True\n",
       "dtype: bool"
      ]
     },
     "execution_count": 394,
     "metadata": {},
     "output_type": "execute_result"
    }
   ],
   "source": [
    "#杂乱的数据用于分析通常需要大量的字符串处理和正则化。\n",
    "\n",
    "data = {'Dave':'dave@google.com', 'Steve': 'steve@gmail.com', \n",
    "        'Rob': 'rob@gmail.com', 'Wes': np.nan}\n",
    "data = pd.Series(data)\n",
    "data\n",
    "# Dave     dave@google.com\n",
    "# Steve    steve@gmail.com\n",
    "# Rob        rob@gmail.com\n",
    "# Wes                  NaN\n",
    "# dtype: object\n",
    "data.isnull()\n",
    "# Dave     False\n",
    "# Steve    False\n",
    "# Rob      False\n",
    "# Wes       True\n",
    "# dtype: bool"
   ]
  },
  {
   "cell_type": "code",
   "execution_count": 396,
   "id": "f2dc1d63",
   "metadata": {},
   "outputs": [
    {
     "data": {
      "text/plain": [
       "Dave     [dave@google.com]\n",
       "Steve    [steve@gmail.com]\n",
       "Rob        [rob@gmail.com]\n",
       "Wes                    NaN\n",
       "dtype: object"
      ]
     },
     "execution_count": 396,
     "metadata": {},
     "output_type": "execute_result"
    }
   ],
   "source": [
    "#可以使用data.map将字符串和有效的正则表达式方法（以lambda或其他函数的方式传递），应用到每个值上，但是在NA（null）值上会失败。\n",
    "#series有面向数组的方法用于跳过na值的字符串操作。\n",
    "#str.contain来检查每个电邮地址是否含有'gmail'\n",
    "\n",
    "data.str.contains('gmail')\n",
    "# Dave     False\n",
    "# Steve     True\n",
    "# Rob       True\n",
    "# Wes        NaN\n",
    "# dtype: object\n",
    "\n",
    "#正则表达式也可以结合任意re模块选项使用，例如IGNORECASE:\n",
    "pattern\n",
    "#'([A-Z0-9.%+-]+)@([A-Z0-9.-]+)\\\\.([A-Z]{2,4})'\n",
    "data.str.findall(pattern, flags = re.IGNORECASE)\n",
    "# Dave     [(dave, google, com)]\n",
    "# Steve    [(steve, gmail, com)]\n",
    "# Rob        [(rob, gmail, com)]\n",
    "# Wes                        NaN\n",
    "# dtype: object"
   ]
  },
  {
   "cell_type": "code",
   "execution_count": 388,
   "id": "c64dcfd4",
   "metadata": {},
   "outputs": [
    {
     "data": {
      "text/plain": [
       "Dave     True\n",
       "Steve    True\n",
       "Rob      True\n",
       "Wes       NaN\n",
       "dtype: object"
      ]
     },
     "execution_count": 388,
     "metadata": {},
     "output_type": "execute_result"
    }
   ],
   "source": [
    "#多种方法可以进行向量化的元素检索，可以使用str.get或在str内部索引：\n",
    "matches = data.str.match(pattern, flags = re.IGNORECASE)\n",
    "matches\n",
    "# Dave     True\n",
    "# Steve    True\n",
    "# Rob      True\n",
    "# Wes       NaN\n",
    "# dtype: object\n",
    "\n",
    "#要访问嵌入式列表的元素，可以将索引传递给这些函数的任意一个：\n",
    "#matches.str.get(1)\n",
    "#matches.str[0]\n",
    "#matches.str[:5]"
   ]
  },
  {
   "cell_type": "code",
   "execution_count": null,
   "id": "3723be63",
   "metadata": {},
   "outputs": [],
   "source": [
    "#部分向量化字符串方法列表：\n",
    "# cat\n",
    "# contains\n",
    "# count\n",
    "# extract\n",
    "# endswith\n",
    "# startwith\n",
    "# findall\n",
    "# get\n",
    "# isalnum\n",
    "# isalhpa\n",
    "# isdecimal\n",
    "# isdigit\n",
    "# islower\n",
    "# isnumeric\n",
    "# isupper\n",
    "# join \n",
    "# len\n",
    "# lower, upper\n",
    "# match\n",
    "# pad\n",
    "# center\n",
    "# repeat\n",
    "# replace\n",
    "# slice\n",
    "# split\n",
    "# strip\n",
    "# rstrip\n",
    "# lstrip\n"
   ]
  },
  {
   "cell_type": "markdown",
   "id": "aae41349",
   "metadata": {},
   "source": [
    "# 7.5 分类数据 Categorical Data"
   ]
  },
  {
   "cell_type": "markdown",
   "id": "835035d7",
   "metadata": {},
   "source": [
    "# Background and Motivation"
   ]
  },
  {
   "cell_type": "markdown",
   "id": "73c165e8",
   "metadata": {},
   "source": [
    "# Categorical Extension Type in pandas"
   ]
  },
  {
   "cell_type": "markdown",
   "id": "38f4bfa6",
   "metadata": {},
   "source": [
    "# Computations with Categoricals"
   ]
  },
  {
   "cell_type": "markdown",
   "id": "65015acc",
   "metadata": {},
   "source": [
    "# Better performance with categoricals"
   ]
  },
  {
   "cell_type": "markdown",
   "id": "b122f156",
   "metadata": {},
   "source": [
    "# Categorical Methods"
   ]
  },
  {
   "cell_type": "markdown",
   "id": "8bae5d02",
   "metadata": {},
   "source": [
    "# Creating dummy variables for modeling"
   ]
  },
  {
   "cell_type": "markdown",
   "id": "ebc60781",
   "metadata": {},
   "source": [
    "# 7.6 Conclusion"
   ]
  }
 ],
 "metadata": {
  "kernelspec": {
   "display_name": "Python 3 (ipykernel)",
   "language": "python",
   "name": "python3"
  },
  "language_info": {
   "codemirror_mode": {
    "name": "ipython",
    "version": 3
   },
   "file_extension": ".py",
   "mimetype": "text/x-python",
   "name": "python",
   "nbconvert_exporter": "python",
   "pygments_lexer": "ipython3",
   "version": "3.10.9"
  }
 },
 "nbformat": 4,
 "nbformat_minor": 5
}
