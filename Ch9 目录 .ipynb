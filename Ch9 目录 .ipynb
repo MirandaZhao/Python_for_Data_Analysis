{
 "cells": [
  {
   "cell_type": "markdown",
   "id": "2b25afd3",
   "metadata": {},
   "source": [
    "# Ch9: Plotting and Visualization 绘图与可视化"
   ]
  },
  {
   "cell_type": "markdown",
   "id": "63ba3808",
   "metadata": {},
   "source": [
    "## 9.1 A 简明matplotlib API入门 Brief matplotlib API Primer "
   ]
  },
  {
   "cell_type": "markdown",
   "id": "eb5d3489",
   "metadata": {},
   "source": [
    "### 9.1.1 图片与子图 Figures and Subplots"
   ]
  },
  {
   "cell_type": "markdown",
   "id": "1bf6e655",
   "metadata": {},
   "source": [
    "### 9.1.2 颜色、标记和线类型 Colors, Markers, and Line Styles"
   ]
  },
  {
   "cell_type": "markdown",
   "id": "6ec6d85a",
   "metadata": {},
   "source": [
    "### 9.1.3 刻度、标签和图例 Ticks, Labels, and Legends"
   ]
  },
  {
   "cell_type": "markdown",
   "id": "f5795f34",
   "metadata": {},
   "source": [
    "### 9.1.4 注释与子图加工 Adding legends& Annotations and Drawing on a Subplot"
   ]
  },
  {
   "cell_type": "markdown",
   "id": "de7dd169",
   "metadata": {},
   "source": [
    "### 9.1.5 将图片保存到文件 Saving Plots to File"
   ]
  },
  {
   "cell_type": "markdown",
   "id": "8be23f3d",
   "metadata": {},
   "source": [
    "### 9.1.6 matplotlip设置 matplotlib Configuration"
   ]
  },
  {
   "cell_type": "markdown",
   "id": "c35d36ca",
   "metadata": {},
   "source": [
    "## 9.2 使用Pandas和seaborn绘图 Plotting with pandas and seaborn"
   ]
  },
  {
   "cell_type": "markdown",
   "id": "a4280d83",
   "metadata": {},
   "source": [
    "### 9.2.1 折线图 Line Plots"
   ]
  },
  {
   "cell_type": "markdown",
   "id": "e3806cda",
   "metadata": {},
   "source": [
    "### 9.2.2  柱状图 Bar Plots"
   ]
  },
  {
   "cell_type": "markdown",
   "id": "e2c600ee",
   "metadata": {},
   "source": [
    "### 9.2.3 直方图和密度图 Histograms and Density Plots"
   ]
  },
  {
   "cell_type": "markdown",
   "id": "355956f6",
   "metadata": {},
   "source": [
    "### 9.2.4 散点图或点图 Scatter or Point Plots"
   ]
  },
  {
   "cell_type": "markdown",
   "id": "2599adb7",
   "metadata": {},
   "source": [
    "### 9.2.5 分面网格和分类数据 Facet Grids and Categorical Data"
   ]
  },
  {
   "cell_type": "markdown",
   "id": "2aacf501",
   "metadata": {},
   "source": [
    "## 9.3 其他python可视化工具 Other Python Visualization Tools"
   ]
  },
  {
   "cell_type": "markdown",
   "id": "493beeab",
   "metadata": {},
   "source": [
    "## 9.4 本章小结Conclusion"
   ]
  }
 ],
 "metadata": {
  "kernelspec": {
   "display_name": "Python 3 (ipykernel)",
   "language": "python",
   "name": "python3"
  },
  "language_info": {
   "codemirror_mode": {
    "name": "ipython",
    "version": 3
   },
   "file_extension": ".py",
   "mimetype": "text/x-python",
   "name": "python",
   "nbconvert_exporter": "python",
   "pygments_lexer": "ipython3",
   "version": "3.10.9"
  }
 },
 "nbformat": 4,
 "nbformat_minor": 5
}
